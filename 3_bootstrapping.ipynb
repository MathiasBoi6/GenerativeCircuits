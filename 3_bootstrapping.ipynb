{
 "cells": [
  {
   "cell_type": "markdown",
   "id": "a1c3940a",
   "metadata": {},
   "source": [
    "Attempt bootstrapping as is"
   ]
  },
  {
   "cell_type": "code",
   "execution_count": 61,
   "id": "e3f613bf",
   "metadata": {},
   "outputs": [],
   "source": [
    "import torch\n",
    "import torch.nn as nn\n",
    "from CircuitSimulation.CircuitSimulator import *\n",
    "import numpy as np\n",
    "from diffusers import UNet2DConditionModel\n",
    "import torch.optim as optim\n",
    "import torch.nn.functional as F\n",
    "import matplotlib.pyplot as plt\n",
    "from torch.utils.data import TensorDataset, DataLoader\n",
    "from IPython.display import display, clear_output\n",
    "from matplotlib.colors import ListedColormap\n",
    "import hashlib\n",
    "from itertools import combinations\n",
    "from tqdm import tqdm"
   ]
  },
  {
   "cell_type": "code",
   "execution_count": 62,
   "id": "c6af8126",
   "metadata": {},
   "outputs": [
    {
     "name": "stdout",
     "output_type": "stream",
     "text": [
      "dataset generated as 'loader\n"
     ]
    }
   ],
   "source": [
    "# Set dataset\n",
    "\n",
    "InitialDataset = torch.tensor([\n",
    "    [\n",
    "        [1, 1, 1, 1, 1, 2, 1, 1, 1, 1],\n",
    "        [0, 0, 0, 0, 0, 1, 0, 0, 0, 0],\n",
    "        [0, 0, 0, 0, 0, 1, 0, 0, 0, 0],\n",
    "        [1, 1, 1, 1, 1, 1, 0, 0, 0, 0],\n",
    "        [0, 0, 0, 0, 0, 0, 0, 0, 0, 0],\n",
    "        [0, 0, 0, 0, 0, 0, 0, 0, 0, 0],\n",
    "        [0, 0, 0, 0, 0, 0, 0, 0, 0, 0],\n",
    "        [0, 0, 0, 0, 0, 0, 0, 0, 0, 0],\n",
    "        [0, 0, 0, 0, 0, 0, 0, 0, 0, 0],\n",
    "        [0, 0, 0, 0, 0, 0, 0, 0, 0, 0],\n",
    "    ],\n",
    "    [\n",
    "        [1, 1, 1, 1, 0, 0, 0, 0, 1, 1],\n",
    "        [0, 0, 0, 1, 0, 0, 0, 0, 1, 0],\n",
    "        [0, 0, 0, 1, 0, 0, 0, 0, 1, 0],\n",
    "        [1, 1, 0, 1, 0, 0, 0, 1, 1, 0],\n",
    "        [0, 1, 0, 1, 0, 0, 1, 1, 0, 0],\n",
    "        [0, 1, 1, 2, 1, 1, 1, 0, 0, 0],\n",
    "        [0, 0, 0, 0, 0, 0, 0, 0, 0, 0],\n",
    "        [0, 0, 0, 0, 0, 0, 0, 0, 0, 0],\n",
    "        [0, 0, 0, 0, 0, 0, 0, 0, 0, 0],\n",
    "        [0, 0, 0, 0, 0, 0, 0, 0, 0, 0],\n",
    "    ],\n",
    "    [\n",
    "        [0, 0, 0, 0, 0, 0, 0, 0, 0, 0],\n",
    "        [0, 0, 0, 0, 0, 0, 0, 0, 0, 0],\n",
    "        [0, 0, 0, 1, 1, 1, 0, 0, 0, 0],\n",
    "        [1, 1, 1, 1, 0, 1, 0, 0, 0, 0],\n",
    "        [0, 0, 0, 0, 0, 1, 0, 0, 0, 0],\n",
    "        [0, 0, 0, 1, 1, 3, 1, 1, 0, 0],\n",
    "        [1, 1, 1, 1, 0, 0, 0, 1, 1, 1],\n",
    "        [0, 0, 0, 0, 0, 0, 0, 0, 0, 0],\n",
    "        [0, 0, 0, 0, 0, 0, 0, 0, 0, 0],\n",
    "        [0, 0, 0, 0, 0, 0, 0, 0, 0, 0],\n",
    "    ],\n",
    "    [\n",
    "        [0, 0, 0, 0, 0, 0, 0, 0, 0, 0],\n",
    "        [0, 0, 0, 0, 0, 0, 0, 0, 0, 0],\n",
    "        [0, 0, 0, 0, 0, 0, 0, 0, 0, 0],\n",
    "        [1, 1, 1, 1, 0, 0, 0, 0, 0, 0],\n",
    "        [0, 0, 0, 1, 0, 0, 0, 0, 0, 0],\n",
    "        [0, 0, 0, 1, 0, 0, 0, 0, 0, 0],\n",
    "        [0, 0, 0, 1, 0, 0, 0, 0, 0, 0],\n",
    "        [0, 0, 0, 1, 3, 1, 1, 1, 0, 0],\n",
    "        [0, 0, 0, 0, 1, 0, 0, 1, 1, 0],\n",
    "        [1, 1, 1, 1, 1, 0, 0, 0, 1, 1],\n",
    "    ],\n",
    "])\n",
    "\n",
    "InitialLabels = torch.tensor([\n",
    "    [\n",
    "        [0, 0, 2, 2, 2, 2, 2, 2, 0, 2, 2, 2 ],\n",
    "        [1, 0, 2, 2, 2, 2, 2, 2, 0, 2, 2, 2 ],\n",
    "        [0, 1, 2, 2, 2, 2, 2, 2, 0, 2, 2, 2 ],\n",
    "        [1, 1, 2, 2, 2, 2, 2, 2, 1, 2, 2, 2 ],\n",
    "    ],\n",
    "    [\n",
    "        [0, 0, 2, 2, 2, 2, 2, 2, 0, 2, 2, 2 ],\n",
    "        [1, 0, 2, 2, 2, 2, 2, 2, 0, 2, 2, 2 ],\n",
    "        [0, 1, 2, 2, 2, 2, 2, 2, 0, 2, 2, 2 ],\n",
    "        [1, 1, 2, 2, 2, 2, 2, 2, 1, 2, 2, 2 ],\n",
    "    ],\n",
    "    [\n",
    "        [2, 0, 0, 2, 2, 2, 2, 2, 2, 2, 1, 2 ],\n",
    "        [2, 1, 0, 2, 2, 2, 2, 2, 2, 2, 1, 2 ],\n",
    "        [2, 0, 1, 2, 2, 2, 2, 2, 2, 2, 1, 2 ],\n",
    "        [2, 1, 1, 2, 2, 2, 2, 2, 2, 2, 0, 2 ],\n",
    "    ],\n",
    "    [\n",
    "        [2, 0, 0, 2, 2, 2, 2, 2, 2, 2, 2, 1 ],\n",
    "        [2, 1, 0, 2, 2, 2, 2, 2, 2, 2, 2, 1 ],\n",
    "        [2, 0, 1, 2, 2, 2, 2, 2, 2, 2, 2, 1 ],\n",
    "        [2, 1, 1, 2, 2, 2, 2, 2, 2, 2, 2, 0 ],        \n",
    "    ],\n",
    "])\n",
    "\n",
    "def imageToProbabilities(image, numCategories):\n",
    "    # The categorical scheduler expects each channel to describe the probability of a pixel being of that class\n",
    "    # Therefore, a RawCircuit, with one channel, needs to be expanded to have numCategories channels\n",
    "\n",
    "    bs, h, w = image.shape\n",
    "    \n",
    "    imageProbabilites = torch.zeros(bs, numCategories, h, w)\n",
    "    for b in range(bs):\n",
    "        for i in range(h):\n",
    "            for j in range(w):\n",
    "                pixelClass = image[b, i, j]\n",
    "                imageProbabilites[b, pixelClass, i, j] = 1.0\n",
    "\n",
    "    return imageProbabilites\n",
    "\n",
    "def tablePadding(truthTable):\n",
    "    #Takes a truthtable and adds rows to fix row amount to 16.\n",
    "    rows = truthTable.shape[0]\n",
    "\n",
    "    padding = torch.full((16 - rows, truthTable.shape[1]), 2.0)\n",
    "    return torch.cat((truthTable, padding), dim=0)\n",
    "\n",
    "argmaxedDataset = InitialDataset # Keep a reduced version of the data for hashing\n",
    "# Add channel dimension: [2, 10, 10] → [2, 4, 10, 10]\n",
    "InitialDataset = imageToProbabilities(InitialDataset, 4)\n",
    "InitialLabels = torch.stack([tablePadding(t) for t in InitialLabels]).long()\n",
    "\n",
    "N = 4 # Duplicate dataset N times, to better make use of batching\n",
    "InitialDatasetN = InitialDataset.repeat((N, 1, 1, 1))  \n",
    "InitialLabelsN = InitialLabels.repeat((N, 1, 1))       \n",
    "\n",
    "# Wrap in a TensorDataset\n",
    "dataset = TensorDataset(InitialDatasetN, InitialLabelsN)\n",
    "\n",
    "# Create DataLoader\n",
    "loader = DataLoader(dataset, batch_size=64, shuffle=True)\n",
    "\n",
    "print(\"dataset generated as 'loader\")"
   ]
  },
  {
   "cell_type": "code",
   "execution_count": 63,
   "id": "2ce8687a",
   "metadata": {},
   "outputs": [],
   "source": [
    "def countWires(circuit):\n",
    "    sum = 0\n",
    "    for i in range(circuit.shape[0]):\n",
    "        for j in range(circuit.shape[1]):\n",
    "            if circuit[i][j] >= 1:\n",
    "                sum += 1\n",
    "    return sum\n",
    "\n",
    "def printCircuit(circuit):\n",
    "    cmap = ListedColormap(['white', 'black', 'red', 'blue'])\n",
    "    fig, ax = plt.subplots(figsize=(2, 2))\n",
    "\n",
    "    ax.set_xticks([])\n",
    "    ax.set_yticks([])\n",
    "    ax.imshow(circuit, cmap=cmap, interpolation='nearest', vmin=0, vmax=3)\n",
    "    plt.tight_layout()\n",
    "    plt.show()"
   ]
  },
  {
   "cell_type": "code",
   "execution_count": 64,
   "id": "e969903b",
   "metadata": {},
   "outputs": [
    {
     "data": {
      "image/png": "[encoded data removed]",
      "text/plain": [
       "<Figure size 500x500 with 4 Axes>"
      ]
     },
     "metadata": {},
     "output_type": "display_data"
    }
   ],
   "source": [
    "# Show dataset circuits\n",
    "\n",
    "cmap = ListedColormap(['white', 'black', 'red', 'blue'])\n",
    "fig, axes = plt.subplots(2, 2, figsize=(5, 5))\n",
    "for idx, ax in enumerate(axes.flat):\n",
    "    ax.imshow(argmaxedDataset[idx], cmap=cmap, interpolation='nearest', vmin=0, vmax=3)\n",
    "    ax.set_xticks([])\n",
    "    ax.set_yticks([])\n",
    "\n",
    "plt.tight_layout()\n",
    "plt.show()"
   ]
  },
  {
   "cell_type": "code",
   "execution_count": 65,
   "id": "bbcfc6b7",
   "metadata": {},
   "outputs": [
    {
     "name": "stdout",
     "output_type": "stream",
     "text": [
      "embedder created as transformer\n",
      "Embedded shape: torch.Size([16, 192])\n"
     ]
    }
   ],
   "source": [
    "# Set truthtable embedder\n",
    "\n",
    "class RowEmbedder(nn.Module):\n",
    "    def __init__(self, num_categories, vector_length, embedding_dim):\n",
    "        super().__init__()\n",
    "        self.shared_embed = nn.Embedding(num_categories, embedding_dim)\n",
    "        self.position_weights = nn.Parameter(torch.ones(vector_length, embedding_dim))\n",
    "        self.position_bias = nn.Parameter(torch.zeros(vector_length, embedding_dim))\n",
    "        \n",
    "    def forward(self, x):\n",
    "        # x shape: [batch_size, vector_length]\n",
    "        shared = self.shared_embed(x)  # [batch_size, vector_length, emb_dim]\n",
    "        # Apply position-specific scaling and shifting\n",
    "        return shared * self.position_weights + self.position_bias\n",
    "    \n",
    "\n",
    "class TabularTransformer(nn.Module):\n",
    "    def __init__(self, num_categories, num_features, d_model):\n",
    "        super().__init__()\n",
    "        self.d_model = d_model\n",
    "\n",
    "        self.row_embedding = RowEmbedder(num_categories, num_features, d_model) #num_categories, vector_length, embedding_dim\n",
    "\n",
    "        encoder_layer = nn.TransformerEncoderLayer(\n",
    "            d_model=d_model * num_features,\n",
    "            nhead=8,\n",
    "            dim_feedforward=2*d_model * num_features,\n",
    "            batch_first=True,\n",
    "        )\n",
    "\n",
    "        self.transformer = nn.TransformerEncoder(\n",
    "            encoder_layer,\n",
    "            num_layers=6,\n",
    "        )\n",
    "    \n",
    "    def forward(self, x):\n",
    "        #batch_size, num_rows, num_cols = x.shape\n",
    "\n",
    "        rows = self.row_embedding(x) #bs, rows, columns, embedding\n",
    "        #rows = rows.mean(dim=2)\n",
    "        rows = rows.flatten(start_dim=2) \n",
    "        \n",
    "    \n",
    "        transformed = self.transformer(rows)\n",
    "\n",
    "        return transformed\n",
    "\n",
    "transformer = TabularTransformer(3, 12, 16)\n",
    "\n",
    "print(\"embedder created as transformer\")\n",
    "print(f\"Embedded shape: {transformer(InitialLabels)[0].shape}\")"
   ]
  },
  {
   "cell_type": "code",
   "execution_count": 66,
   "id": "23186fe8",
   "metadata": {},
   "outputs": [
    {
     "name": "stdout",
     "output_type": "stream",
     "text": [
      "Using device: cuda\n"
     ]
    }
   ],
   "source": [
    "# Set up scheduler\n",
    "\n",
    "class CategoricalScheduler:\n",
    "    def __init__(self, TrainSteps = 200, numCategories = 4, betaStart = 0.0001, betaEnd = 0.02):\n",
    "        self.TrainSteps = TrainSteps\n",
    "        self.noiseDevice = 'cpu'\n",
    "        self.numCategories = numCategories\n",
    "\n",
    "        self.betas = torch.linspace(betaStart, betaEnd, TrainSteps, device=self.noiseDevice)\n",
    "        self.alphas = 1.0 - self.betas\n",
    "        self.alpha_cumprod = torch.cumprod(self.alphas, dim=0)\n",
    "\n",
    "    def addNoise(self, imageBatch, time):\n",
    "        bs, ch, w, h = imageBatch.shape\n",
    "\n",
    "        with torch.no_grad():\n",
    "            alpha_t = self.alpha_cumprod[time].view(-1, 1, 1, 1) # Translates shape (1,) -> (1, 1, 1, 1)\n",
    "\n",
    "            # the per pixel probability distribution of the categories\n",
    "            currentProbabilities = imageBatch\n",
    "\n",
    "            # The chance of each state per pixel when noised            \n",
    "            updatedProbabilities = currentProbabilities * alpha_t + (1 - alpha_t) / self.numCategories \n",
    "            updatedProbabilities = updatedProbabilities.permute(0, 2, 3, 1) # reshape such that it is flattened correctly below\n",
    "            updatedProbabilities = updatedProbabilities.reshape(bs*w*h, self.numCategories)  \n",
    "            \n",
    "\n",
    "            # 1 Sample per value\n",
    "            categoricalNoise = torch.multinomial(updatedProbabilities, 1, replacement=True)\n",
    "            categoricalNoise = categoricalNoise.view(bs, w, h) # Shape: [bs, w, h]\n",
    "\n",
    "            noisedImages = F.one_hot(categoricalNoise, num_classes=self.numCategories)\n",
    "            noisedImages = noisedImages.permute(0, 3, 1, 2) # [bs, num_classes, w, h]\n",
    "\n",
    "            return noisedImages\n",
    "\n",
    "scheduler = CategoricalScheduler()\n",
    "\n",
    "device = 'cuda' if torch.cuda.is_available() else 'cpu'\n",
    "print(f'Using device: {device}')"
   ]
  },
  {
   "cell_type": "code",
   "execution_count": 67,
   "id": "b9db8db5",
   "metadata": {},
   "outputs": [],
   "source": [
    "# Create Diffuser\n",
    "\n",
    "class CategoricalDiffusionModel(nn.Module):\n",
    "    def __init__(self, imageSize, numCategories, embeddingSize, attentionHeads=8, guidanceProb=0.1):\n",
    "        super().__init__()\n",
    "        self.guidance_prob=guidanceProb\n",
    "        self.model = UNet2DConditionModel(\n",
    "            sample_size=imageSize, \n",
    "            in_channels=numCategories,  # Image channels\n",
    "            out_channels=numCategories,\n",
    "            cross_attention_dim=embeddingSize,  # Matches mbedding's token dim \n",
    "            attention_head_dim=attentionHeads,     # Smaller head dim for efficiency\n",
    "            layers_per_block=2,       # how many ResNet layers to use per UNet block\n",
    "            block_out_channels=(128, 128, 128), \n",
    "            down_block_types=(\n",
    "                \"CrossAttnDownBlock2D\",  \n",
    "                \"CrossAttnDownBlock2D\",\n",
    "                \"DownBlock2D\",\n",
    "            ),\n",
    "            up_block_types=(\n",
    "                \"UpBlock2D\",\n",
    "                \"CrossAttnUpBlock2D\",\n",
    "                \"CrossAttnUpBlock2D\",\n",
    "            ),\n",
    "        )\n",
    "        \n",
    "    def forward(self, x, t, embedding):\n",
    "        bs, ch, w, h = x.shape\n",
    "\n",
    "        #Use guidance probability, to help the model learn that 'circuit behvaior' \n",
    "        # is a general feature and not specific to a particular embedding.\n",
    "        if self.training:\n",
    "            mask = torch.rand_like(embedding, device=x.device) < self.guidance_prob\n",
    "            embedding[mask] = 0\n",
    "\n",
    "        return self.model(x, t, encoder_hidden_states=embedding).sample\n",
    "\n",
    "loss = []\n",
    "model = CategoricalDiffusionModel(10, 4, 192).to(device)"
   ]
  },
  {
   "cell_type": "code",
   "execution_count": 68,
   "id": "38925ca1",
   "metadata": {},
   "outputs": [],
   "source": [
    "# Training Function\n",
    "\n",
    "def trainCatModel(catModel, dataloader, epochs, embeddingModel, losses, PLOTUPDATES = True):\n",
    "    catModel.train()\n",
    "    updateRate = 10 # For plotting purposes\n",
    "\n",
    "    loss_fn = nn.CrossEntropyLoss() #nn.MSELoss(reduction='sum')\n",
    "\n",
    "    if PLOTUPDATES:\n",
    "        fig, ax = plt.subplots(figsize=(8, 5))\n",
    "    \n",
    "    opt = torch.optim.Adam(model.parameters(), lr=1e-4) \n",
    "\n",
    "    for epoch in range(epochs):\n",
    "        \n",
    "        for batch, labels in dataloader:\n",
    "\n",
    "            timesteps = torch.randint(0, scheduler.TrainSteps - 1, (batch.shape[0],), device='cpu').long()\n",
    "\n",
    "            noisyImgs = scheduler.addNoise(batch, timesteps)\n",
    "\n",
    "            embeddings = embeddingModel(labels)\n",
    "\n",
    "            pred = model(noisyImgs.to(device).float(), timesteps.to(device), embeddings.to(device))\n",
    "\n",
    "            loss = loss_fn(pred, batch.to(device).argmax(axis=1)) \n",
    "\n",
    "            opt.zero_grad()\n",
    "            loss.backward()\n",
    "            opt.step()\n",
    "            losses.append(loss.item())\n",
    "\n",
    "        if PLOTUPDATES:\n",
    "            if epoch % updateRate == 0:\n",
    "                clear_output(wait=True)  \n",
    "                ax.clear()\n",
    "                plt.plot(losses)\n",
    "                plt.xlabel('Batch')\n",
    "                display(fig)\n",
    "    \n",
    "    if PLOTUPDATES:\n",
    "        clear_output(wait=True)  \n",
    "        ax.clear()\n",
    "    plt.plot(losses)\n",
    "    plt.xlabel('Batch')\n",
    "    if PLOTUPDATES:\n",
    "        display(fig)\n",
    "\n",
    "    return catModel, losses"
   ]
  },
  {
   "cell_type": "code",
   "execution_count": 69,
   "id": "e0dab0c6",
   "metadata": {},
   "outputs": [
    {
     "name": "stdout",
     "output_type": "stream",
     "text": [
      "Dataset hash amount: 4\n"
     ]
    }
   ],
   "source": [
    "# Create hashes of data to compare synthetic data with real data\n",
    "\n",
    "# Function to get the hash of a tensor\n",
    "def get_tensor_hash(tensor):\n",
    "    # Flatten the tensor and convert to tuple (hashable)\n",
    "    tensor_tuple = tuple(tensor.flatten().tolist())\n",
    "    \n",
    "    # Compute the hash using hashlib (SHA-256)\n",
    "    hash_object = hashlib.sha256(str(tensor_tuple).encode())\n",
    "    return hash_object.hexdigest()\n",
    "\n",
    "dataset_hashes = {get_tensor_hash(tensor) for tensor in argmaxedDataset}\n",
    "labels_hashes = {get_tensor_hash(tensor) for tensor in InitialLabels}\n",
    "\n",
    "# This would be more efficient sorted\n",
    "\n",
    "# print(\"Dataset Hashes:\", dataset_hashes)\n",
    "# print(\"Labels Hashes:\", labels_hashes)\n",
    "print(\"Dataset hash amount:\", len(dataset_hashes))"
   ]
  },
  {
   "cell_type": "code",
   "execution_count": 70,
   "id": "e82b9ea4",
   "metadata": {},
   "outputs": [],
   "source": [
    "# Sockets used for testing\n",
    "\n",
    "inpSockets = [\n",
    "    (Socket(\"inp0\", True), (-1, 0)), \n",
    "    (Socket(\"inp1\", True), (-1, 3)), \n",
    "    (Socket(\"inp2\", True), (-1, 6)), \n",
    "    (Socket(\"inp3\", True), (-1, 9)), \n",
    "]\n",
    "\n",
    "outSockets = [  \n",
    "    (Socket(\"out0\", False), (10, 0)), \n",
    "    (Socket(\"out1\", False), (10, 3)), \n",
    "    (Socket(\"out2\", False), (10, 6)), \n",
    "    (Socket(\"out3\", False), (10, 9)),\n",
    "]"
   ]
  },
  {
   "cell_type": "code",
   "execution_count": 71,
   "id": "2f7b7136",
   "metadata": {},
   "outputs": [],
   "source": [
    "# Why pre and after pruning?\n",
    "# Pruning unconnected wires won't make simulation faster, as they aren't even used in the connection or socket maps.\n",
    "# So the idea was to only prune these things before adding them to the dataset.\n",
    "# However, when checking if the generated circuit already exists, it helps also removing those wires\n",
    "# So both pre and after pruning are used before simulating, yet the functions are kept separate, as is.\n",
    "\n",
    "\n",
    "# Prunes inputs, outputs and wireSets that have only have components recieving or emitting signals.\n",
    "# Wiresets with no components connected are never added to the connectionMap, so they are not pruned here, -\n",
    "# These wiresets have no influence on the circuit's behavior (or simulation speed), -\n",
    "# so pruning them can wait till after the circuit has been confirmed to be useful\n",
    "def prePruning(connectionMap, socketMap):\n",
    "    prunedConnections = []\n",
    "    for connection in connectionMap:\n",
    "        relevantConnection = any(\n",
    "            component.isSource for component in connectionMap[connection]\n",
    "        ) and any(\n",
    "            not component.isSource for component in connectionMap[connection]\n",
    "        )\n",
    "        \n",
    "        if not relevantConnection:\n",
    "            prunedConnections.append(connection)\n",
    "\n",
    "    for connection in prunedConnections:\n",
    "        del connectionMap[connection]  \n",
    "\n",
    "    connectedInputs = []\n",
    "    connectedOutputs = []\n",
    "    for socket, connections in socketMap.items():\n",
    "        for connection in list(connections):\n",
    "            if connection in prunedConnections:\n",
    "                socketMap[socket].remove(connection)\n",
    "                \n",
    "        prefix, compid, comptype = socket.name\n",
    "        \n",
    "        if prefix == \"inp\" and bool(socketMap[socket]):\n",
    "            connectedInputs.append(int(compid))\n",
    "        elif prefix == \"out\" and bool(socketMap[socket]):\n",
    "            connectedOutputs.append(int(compid))\n",
    "    \n",
    "    return connectedInputs, connectedOutputs\n",
    "\n",
    "\n",
    "# Of the connected inputs, get combinations for a truthtable. for example socket [[], [0], [1], [0,1]]\n",
    "def generateSocketCombinations(inputSockets, relevantIndexes):\n",
    "    #inputSockets = All available input sockets\n",
    "    #relevantIndexes = the indexes of sockets that are connected to components\n",
    "    \n",
    "    usedSockets = [inputSockets[i][0] for i in relevantIndexes]\n",
    "    \n",
    "    # Generate all combinations (power set)\n",
    "    orderList = []\n",
    "    for r in range(len(usedSockets) + 1):\n",
    "        for combo in combinations(usedSockets, r):\n",
    "            orderList.append(list(combo))\n",
    "    \n",
    "    return orderList"
   ]
  },
  {
   "cell_type": "code",
   "execution_count": null,
   "id": "8ac6aeab",
   "metadata": {},
   "outputs": [],
   "source": [
    "# After pruning\n",
    "\n",
    "# Things to prune:\n",
    "# Unconncted wires\n",
    "# wires from prepruning\n",
    "\n",
    "def afterPruning(circuit, wiresets, connectionMap):\n",
    "    # Prunes circuits, from pruned connections\n",
    "    # And replaces gates that aren't connected on their emitter with wires.\n",
    "    circuitWasUpdated = False\n",
    "\n",
    "    for i in range(circuit.shape[0]):\n",
    "        for j in range(circuit.shape[1]):\n",
    "            if wiresets[i][j] not in connectionMap and circuit[i][j] == 1:\n",
    "                circuit[i][j] = 0\n",
    "                circuitWasUpdated = True\n",
    "            elif circuit[i][j] > 1 and j < circuit.shape[1] - 1 and circuit[i][j + 1] == 0:\n",
    "                circuit[i][j] = 1\n",
    "                circuitWasUpdated = True\n",
    "\n",
    "    #Because there gate positions aren't stored, socket map will have to be recreated, but then connetionmap will also need to be updated.\n",
    "    return circuit, connectionMap, circuitWasUpdated\n",
    "\n",
    "# Prunes excess wires from the circuit.\n",
    "def pruneExcessWires(circuit):\n",
    "    circuitDirty = False\n",
    "    \n",
    "    for j in range(1, circuit.shape[0] - 1):\n",
    "        for i in range(circuit.shape[1]):\n",
    "            center = circuit[i][j]\n",
    "            up     = circuit[i - 1][j] if i > 0 else 0\n",
    "            down   = circuit[i + 1][j] if i < circuit.shape[0] - 1 else 0\n",
    "            left   = circuit[i][j - 1] \n",
    "            right  = circuit[i][j + 1] \n",
    "\n",
    "            crossValue = center + up + down + left + right\n",
    "\n",
    "            if crossValue < 3 and circuit[i][j] == 1:\n",
    "                circuit[i][j] = 0\n",
    "                circuitDirty = True\n",
    "    \n",
    "    if circuitDirty:\n",
    "        return pruneExcessWires(circuit)\n",
    "    else: return circuit\n",
    "\n",
    "def hasWireSquare(circuit):\n",
    "    #Just disaallow these.\n",
    "    rows = circuit.shape[0]\n",
    "    cols = circuit.shape[1]\n",
    "\n",
    "    for i in range(rows - 1):\n",
    "        for j in range(cols - 1):\n",
    "            if (circuit[i][j] == 1 and\n",
    "                circuit[i][j + 1] == 1 and\n",
    "                circuit[i + 1][j] == 1 and\n",
    "                circuit[i + 1][j + 1] == 1):\n",
    "                return True\n",
    "    return False"
   ]
  },
  {
   "cell_type": "code",
   "execution_count": 73,
   "id": "765781f0",
   "metadata": {},
   "outputs": [],
   "source": [
    "def GetTruthTable(inputIndexes, outputIndexes, socketMap, connectionMap, orders):\n",
    "    # Orders is a list of the order in which input sockets are activated.\n",
    "    # # Truthtables usually do not make use of activation order, but the simulation needs it.\n",
    "\n",
    "    truthTable = torch.ones(size=(2**len(inputIndexes), 12)) * 2\n",
    "\n",
    "    row = 0\n",
    "    #try\n",
    "    for order in orders:\n",
    "        for socket in socketMap.keys():\n",
    "            socket.state = False\n",
    "        \n",
    "        # Gives the state of sockets at the end. But only output sockets are relevant, \n",
    "        # and those are available through outSockets[i][0]\n",
    "        _ = Simulate(connectionMap, socketMap, order) \n",
    "\n",
    "        for index in inputIndexes:\n",
    "            truthTable[row][index] = 0\n",
    "\n",
    "        for socket in order:\n",
    "            prefix, idnum, comptype = socket.name\n",
    "            truthTable[row][int(idnum)] = 1\n",
    "\n",
    "        for i in outputIndexes:\n",
    "            truthTable[row][i + 8] = outSockets[i][0].state\n",
    "\n",
    "        row += 1\n",
    "\n",
    "    return truthTable"
   ]
  },
  {
   "cell_type": "code",
   "execution_count": 74,
   "id": "0e4447e8",
   "metadata": {},
   "outputs": [],
   "source": [
    "# Generate N Circuits\n",
    "def GenerateN(model, amount = 100):\n",
    "    model.eval()\n",
    "    \n",
    "    ## GENERATE CIRCUITS\n",
    "    with torch.no_grad():\n",
    "        batchX = torch.randint(size=(amount, 4, 10, 10), high = 1, low = 0, device=device )\n",
    "        batchY = torch.randint(size=(amount, 4, 12), high = 2, low = 0, device='cpu' ) # WARNING! This is currently forced to shape (4, 12)\n",
    "        batchY = transformer(batchY).to(device)\n",
    "        \n",
    "        # Inference with trainingsteps // 64 + 1, for faster generations. Even with this few steps, generations become perfect after training, due to small dataset.\n",
    "        stepDivisor = 64\n",
    "        inferenceSteps = torch.linspace(scheduler.TrainSteps-1, 1, scheduler.TrainSteps // stepDivisor, device='cpu').long()\n",
    "\n",
    "        for t in inferenceSteps:\n",
    "            residual_cond = model(batchX.to(device).float(), t, batchY.float()) \n",
    "            residual = F.softmax(residual_cond, dim=1)\n",
    "            batchX = scheduler.addNoise(residual.to('cpu'), t - 1).float()\n",
    "        batchX = F.softmax(model(batchX.to(device), 0, batchY), dim=1)\n",
    "\n",
    "        # Get circuit values\n",
    "        argmaxedBatch = torch.argmax(batchX, dim=1, keepdim=True).cpu().numpy().squeeze()\n",
    "\n",
    "        return argmaxedBatch\n",
    "\n",
    "def getTables(circuits):\n",
    "    #Prunes\n",
    "    #Checks hashes\n",
    "    #Simulates\n",
    "    #Then, generates tables\n",
    "    with torch.no_grad():\n",
    "        tables = []\n",
    "        simulatedCircuits = []\n",
    "        simulatedCircuitHashes = []\n",
    "\n",
    "        unique_hashes = {}\n",
    "        for i in range((circuits.shape[0])):\n",
    "            circuitDirty = True # Pruning flag\n",
    "\n",
    "            while circuitDirty:\n",
    "                socketMap, wireSets = GetSocketMap(circuits[i], inpSockets + outSockets)\n",
    "                connectionMap = GetConnectionMap(socketMap)\n",
    "\n",
    "\n",
    "                inps, outs = prePruning(connectionMap, socketMap)\n",
    "                circuit, connectionMap, circuitDirty = afterPruning(circuits[i], wireSets, connectionMap)\n",
    "                circuit = pruneExcessWires(circuit)\n",
    "\n",
    "            hash = get_tensor_hash(circuit)\n",
    "            if hash not in unique_hashes and hash not in dataset_hashes:\n",
    "                unique_hashes[hash] = i\n",
    "\n",
    "                #Get orderlist\n",
    "                if len(inps) > 1 and len(outs) > 0: # Bias to have only circuits with at least 2 inputs\n",
    "                    orderlist = generateSocketCombinations(inpSockets, inps)\n",
    "\n",
    "                    try:    \n",
    "                        truthTable = GetTruthTable(inps, outs, socketMap, connectionMap, orderlist)\n",
    "                        tables.append(truthTable)\n",
    "                        simulatedCircuits.append(circuit)\n",
    "                        simulatedCircuitHashes.append(hash)\n",
    "\n",
    "                    except Exception as e:\n",
    "                        print(f\"Error in circuit {i}: {e}\")\n",
    "                \n",
    "        return tables, simulatedCircuits, simulatedCircuitHashes"
   ]
  },
  {
   "cell_type": "code",
   "execution_count": 75,
   "id": "6409538b",
   "metadata": {},
   "outputs": [],
   "source": [
    "# The 3 above functions concattenated \n",
    "\n",
    "def GenerateAndSimulate(model, lossList, amount = 100, plotResults = True):\n",
    "    argmaxCircuits = GenerateN(model, amount)\n",
    "\n",
    "    tables, simulatedCircuits, simulatedCircuitsHashes = getTables(argmaxCircuits)\n",
    "    print(f\"Generated {len(tables)} truth tables. {len(argmaxCircuits) - len(tables)} circuits weren't used\")\n",
    "\n",
    "    if plotResults:\n",
    "        # plot the top 25 circuits.\n",
    "        cmap = ListedColormap(['white', 'black', 'red', 'blue'])\n",
    "        cols = 5\n",
    "        rows = min(len(simulatedCircuits) + 4, 25) // cols\n",
    "        if rows == 0:\n",
    "            return tables, simulatedCircuits\n",
    "\n",
    "        fig, axes = plt.subplots(rows, cols, figsize=(cols, rows))\n",
    "\n",
    "        for idx, ax in enumerate(axes.flat):\n",
    "            ax.set_xticks([])\n",
    "            ax.set_yticks([])\n",
    "            if idx >= len(simulatedCircuits):\n",
    "                continue\n",
    "            ax.imshow(simulatedCircuits[idx], cmap=cmap, interpolation='nearest', vmin=0, vmax=3)\n",
    "\n",
    "        fig.suptitle(f\"Epoch {len(lossList)}\")\n",
    "        plt.tight_layout()\n",
    "        plt.show()\n",
    "\n",
    "    return tables, simulatedCircuits, simulatedCircuitsHashes"
   ]
  },
  {
   "cell_type": "code",
   "execution_count": 76,
   "id": "78e11faf",
   "metadata": {},
   "outputs": [
    {
     "data": {
      "image/png": "[encoded data removed]",
      "text/plain": [
       "<Figure size 800x500 with 1 Axes>"
      ]
     },
     "metadata": {},
     "output_type": "display_data"
    },
    {
     "data": {
      "image/png": "[encoded data removed]",
      "text/plain": [
       "<Figure size 800x500 with 1 Axes>"
      ]
     },
     "metadata": {},
     "output_type": "display_data"
    }
   ],
   "source": [
    "model = CategoricalDiffusionModel(10, 4, 192).to(device)\n",
    "loss = []\n",
    "model, loss = trainCatModel(model, loader, 200, transformer, loss)"
   ]
  },
  {
   "cell_type": "code",
   "execution_count": 77,
   "id": "04b25114",
   "metadata": {},
   "outputs": [],
   "source": [
    "newCircuits = []\n",
    "newCircuitHashes = []\n",
    "newTables = []"
   ]
  },
  {
   "cell_type": "code",
   "execution_count": 78,
   "id": "53a8c048",
   "metadata": {},
   "outputs": [
    {
     "name": "stdout",
     "output_type": "stream",
     "text": [
      "Generated 5 truth tables. 495 circuits weren't used\n",
      "Generated 5 truth tables. 495 circuits weren't used\n",
      "Generated 5 truth tables. 495 circuits weren't used\n",
      "Generated 2 truth tables. 498 circuits weren't used\n",
      "Generated 1 truth tables. 499 circuits weren't used\n",
      "Generated 6 truth tables. 494 circuits weren't used\n",
      "Generated 6 truth tables. 494 circuits weren't used\n",
      "Generated 5 truth tables. 495 circuits weren't used\n",
      "Generated 2 truth tables. 498 circuits weren't used\n",
      "Generated 0 truth tables. 500 circuits weren't used\n"
     ]
    },
    {
     "data": {
      "text/plain": [
       "20"
      ]
     },
     "execution_count": 78,
     "metadata": {},
     "output_type": "execute_result"
    }
   ],
   "source": [
    "for i in range(10):\n",
    "    t, a, h = GenerateAndSimulate(model, loss, amount=500, plotResults=False)\n",
    "    for circuit, hash, table in zip(a, h, t):\n",
    "        if hash not in newCircuitHashes:\n",
    "            newCircuitHashes.append(hash)   \n",
    "            newCircuits.append(circuit)\n",
    "            newTables.append(table)\n",
    "len(newCircuits)"
   ]
  },
  {
   "cell_type": "code",
   "execution_count": 79,
   "id": "acb27ef8",
   "metadata": {},
   "outputs": [
    {
     "name": "stderr",
     "output_type": "stream",
     "text": [
      "C:\\Users\\hellf\\AppData\\Local\\Temp\\ipykernel_20888\\2569284731.py:2: UserWarning: To copy construct from a tensor, it is recommended to use sourceTensor.clone().detach() or sourceTensor.clone().detach().requires_grad_(True), rather than torch.tensor(sourceTensor).\n",
      "  syntheticLabels = torch.stack([tablePadding(torch.tensor(t)) for t in newTables])\n"
     ]
    }
   ],
   "source": [
    "argmaxedDataset = torch.cat((argmaxedDataset, torch.tensor(newCircuits)), dim=0)\n",
    "syntheticLabels = torch.stack([tablePadding(torch.tensor(t)) for t in newTables])\n",
    "syntheticLabels = torch.cat((InitialLabels, syntheticLabels), dim=0).long()\n",
    "\n",
    "syntheticData = imageToProbabilities(argmaxedDataset, 4)\n",
    "\n",
    "newDataset = TensorDataset(syntheticData, syntheticLabels)\n",
    "loader = DataLoader(newDataset, batch_size=64, shuffle=True)"
   ]
  },
  {
   "cell_type": "code",
   "execution_count": 80,
   "id": "7800cef3",
   "metadata": {},
   "outputs": [
    {
     "data": {
      "image/png": "[encoded data removed]",
      "text/plain": [
       "<Figure size 800x500 with 1 Axes>"
      ]
     },
     "metadata": {},
     "output_type": "display_data"
    },
    {
     "data": {
      "image/png": "[encoded data removed]",
      "text/plain": [
       "<Figure size 800x500 with 1 Axes>"
      ]
     },
     "metadata": {},
     "output_type": "display_data"
    }
   ],
   "source": [
    "model = CategoricalDiffusionModel(10, 4, 192).to(device)\n",
    "loss = []\n",
    "model, loss = trainCatModel(model, loader, 200, transformer, loss)"
   ]
  },
  {
   "cell_type": "code",
   "execution_count": 81,
   "id": "55671f05",
   "metadata": {},
   "outputs": [
    {
     "name": "stdout",
     "output_type": "stream",
     "text": [
      "Generated 42 truth tables. 458 circuits weren't used\n"
     ]
    },
    {
     "data": {
      "image/png": "[encoded data removed]",
      "text/plain": [
       "<Figure size 500x500 with 25 Axes>"
      ]
     },
     "metadata": {},
     "output_type": "display_data"
    }
   ],
   "source": [
    "t, a, h = GenerateAndSimulate(model, loss, amount=500, plotResults=True)"
   ]
  },
  {
   "cell_type": "markdown",
   "id": "fa3a0edf",
   "metadata": {},
   "source": [
    "Problems:\n",
    "1. Error is weridly low -> fixed\n",
    "2. It is training for doubled the epochs for some reason -> it isn't, graph shows batch num.\n",
    "3. Circuits are unusable\n",
    "\n",
    "test:\n",
    "1. Remove all circuits where there is a 2x2 square of wires\n",
    "2. Remove entire circuits if they have excess wire. To check this, use convolution-ish\n",
    "\n",
    "```\n",
    "?x?\n",
    "xxx\n",
    "?x?\n",
    "```\n",
    "and sum of x's must be above 2 for center x. This will need to check edges."
   ]
  },
  {
   "cell_type": "code",
   "execution_count": 104,
   "id": "d1569956",
   "metadata": {},
   "outputs": [
    {
     "data": {
      "image/png": "[encoded data removed]",
      "text/plain": [
       "<Figure size 200x200 with 1 Axes>"
      ]
     },
     "metadata": {},
     "output_type": "display_data"
    }
   ],
   "source": [
    "testIndex = 23\n",
    "#argmaxedDataset\n",
    "\n",
    "printCircuit(argmaxedDataset[testIndex])\n",
    "#print(argmaxedDataset[testIndex])"
   ]
  },
  {
   "cell_type": "code",
   "execution_count": 24,
   "id": "6bc35670",
   "metadata": {},
   "outputs": [
    {
     "ename": "KeyboardInterrupt",
     "evalue": "",
     "output_type": "error",
     "traceback": [
      "\u001b[1;31m---------------------------------------------------------------------------\u001b[0m",
      "\u001b[1;31mKeyboardInterrupt\u001b[0m                         Traceback (most recent call last)",
      "Cell \u001b[1;32mIn[24], line 2\u001b[0m\n\u001b[0;32m      1\u001b[0m \u001b[38;5;28;01mwith\u001b[39;00m torch\u001b[38;5;241m.\u001b[39mno_grad():\n\u001b[1;32m----> 2\u001b[0m     \u001b[43mpruneExcessWires\u001b[49m\u001b[43m(\u001b[49m\u001b[43margmaxedDataset\u001b[49m\u001b[43m[\u001b[49m\u001b[43mtestIndex\u001b[49m\u001b[43m]\u001b[49m\u001b[43m)\u001b[49m\n\u001b[0;32m      3\u001b[0m printCircuit(argmaxedDataset[testIndex])\n",
      "Cell \u001b[1;32mIn[12], line 43\u001b[0m, in \u001b[0;36mpruneExcessWires\u001b[1;34m(circuit)\u001b[0m\n\u001b[0;32m     40\u001b[0m             circuitDirty \u001b[38;5;241m=\u001b[39m \u001b[38;5;28;01mTrue\u001b[39;00m\n\u001b[0;32m     42\u001b[0m \u001b[38;5;28;01mif\u001b[39;00m circuitDirty:\n\u001b[1;32m---> 43\u001b[0m     \u001b[38;5;28;01mreturn\u001b[39;00m \u001b[43mpruneExcessWires\u001b[49m\u001b[43m(\u001b[49m\u001b[43mcircuit\u001b[49m\u001b[43m)\u001b[49m\n\u001b[0;32m     44\u001b[0m \u001b[38;5;28;01melse\u001b[39;00m: \u001b[38;5;28;01mreturn\u001b[39;00m circuit\n",
      "Cell \u001b[1;32mIn[12], line 43\u001b[0m, in \u001b[0;36mpruneExcessWires\u001b[1;34m(circuit)\u001b[0m\n\u001b[0;32m     40\u001b[0m             circuitDirty \u001b[38;5;241m=\u001b[39m \u001b[38;5;28;01mTrue\u001b[39;00m\n\u001b[0;32m     42\u001b[0m \u001b[38;5;28;01mif\u001b[39;00m circuitDirty:\n\u001b[1;32m---> 43\u001b[0m     \u001b[38;5;28;01mreturn\u001b[39;00m \u001b[43mpruneExcessWires\u001b[49m\u001b[43m(\u001b[49m\u001b[43mcircuit\u001b[49m\u001b[43m)\u001b[49m\n\u001b[0;32m     44\u001b[0m \u001b[38;5;28;01melse\u001b[39;00m: \u001b[38;5;28;01mreturn\u001b[39;00m circuit\n",
      "    \u001b[1;31m[... skipping similar frames: pruneExcessWires at line 43 (1840 times)]\u001b[0m\n",
      "Cell \u001b[1;32mIn[12], line 43\u001b[0m, in \u001b[0;36mpruneExcessWires\u001b[1;34m(circuit)\u001b[0m\n\u001b[0;32m     40\u001b[0m             circuitDirty \u001b[38;5;241m=\u001b[39m \u001b[38;5;28;01mTrue\u001b[39;00m\n\u001b[0;32m     42\u001b[0m \u001b[38;5;28;01mif\u001b[39;00m circuitDirty:\n\u001b[1;32m---> 43\u001b[0m     \u001b[38;5;28;01mreturn\u001b[39;00m \u001b[43mpruneExcessWires\u001b[49m\u001b[43m(\u001b[49m\u001b[43mcircuit\u001b[49m\u001b[43m)\u001b[49m\n\u001b[0;32m     44\u001b[0m \u001b[38;5;28;01melse\u001b[39;00m: \u001b[38;5;28;01mreturn\u001b[39;00m circuit\n",
      "Cell \u001b[1;32mIn[12], line -1\u001b[0m, in \u001b[0;36mpruneExcessWires\u001b[1;34m(circuit)\u001b[0m\n\u001b[0;32m      0\u001b[0m <Error retrieving source code with stack_data see ipython/ipython#13598>\n",
      "\u001b[1;31mKeyboardInterrupt\u001b[0m: "
     ]
    }
   ],
   "source": [
    "with torch.no_grad():\n",
    "    pruneExcessWires(argmaxedDataset[testIndex])\n",
    "printCircuit(argmaxedDataset[testIndex])"
   ]
  }
 ],
 "metadata": {
  "kernelspec": {
   "display_name": "venv (3.10.6)",
   "language": "python",
   "name": "python3"
  },
  "language_info": {
   "codemirror_mode": {
    "name": "ipython",
    "version": 3
   },
   "file_extension": ".py",
   "mimetype": "text/x-python",
   "name": "python",
   "nbconvert_exporter": "python",
   "pygments_lexer": "ipython3",
   "version": "3.10.6"
  }
 },
 "nbformat": 4,
 "nbformat_minor": 5
}
