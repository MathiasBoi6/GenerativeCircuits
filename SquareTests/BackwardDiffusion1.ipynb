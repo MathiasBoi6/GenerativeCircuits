{
 "cells": [
  {
   "cell_type": "code",
   "execution_count": 1,
   "metadata": {},
   "outputs": [],
   "source": [
    "# conditioning 2 wire positions as an extra input channel\n",
    "# try with attention instead. Look at how clip encoding is done, specifcally how the model receives the data"
   ]
  },
  {
   "cell_type": "code",
   "execution_count": 17,
   "metadata": {},
   "outputs": [
    {
     "name": "stdout",
     "output_type": "stream",
     "text": [
      "Device is cuda\n"
     ]
    }
   ],
   "source": [
    "import matplotlib.pyplot as plt\n",
    "import numpy as np\n",
    "\n",
    "import torch\n",
    "import diffusers\n",
    "from tqdm import tqdm\n",
    "from torchvision import transforms\n",
    "\n",
    "import torch.nn as nn\n",
    "import torch.optim as optim\n",
    "import torch.nn.functional as F\n",
    "\n",
    "import segmentation_models_pytorch as smp\n",
    "from diffusers import UNet2DConditionModel, DDPMScheduler\n",
    "\n",
    "#from collections import deque\n",
    "\n",
    "device = torch.device(\"cuda\" if torch.cuda.is_available() else \"cpu\")\n",
    "print(f\"Device is {device}\")"
   ]
  },
  {
   "cell_type": "code",
   "execution_count": 28,
   "metadata": {},
   "outputs": [],
   "source": [
    "# Define model and scheduler\n",
    "\n",
    "imageSize = 32\n",
    "\n",
    "model = UNet2DConditionModel(\n",
    "    sample_size=imageSize,   # image resolution\n",
    "    in_channels=1,\n",
    "    out_channels=1,\n",
    "    layers_per_block=2,\n",
    "    block_out_channels=(64, 128, 256, 512),\n",
    "    cross_attention_dim=imageSize ** 2\n",
    "    # For unconditional modeling, you don't need extra conditioning.\n",
    ").to(device)\n",
    "\n",
    "optimizer = torch.optim.Adam(model.parameters(), lr=1e-4)\n",
    "scheduler = DDPMScheduler(\n",
    "    num_train_timesteps=100,\n",
    "    beta_start=0.0001,\n",
    "    beta_end=0.02,\n",
    "    beta_schedule=\"squaredcos_cap_v2\",  # cosine-style schedule\n",
    ")"
   ]
  },
  {
   "cell_type": "code",
   "execution_count": 5,
   "metadata": {},
   "outputs": [
    {
     "data": {
      "text/plain": [
       "<matplotlib.image.AxesImage at 0x20169c1c9a0>"
      ]
     },
     "execution_count": 5,
     "metadata": {},
     "output_type": "execute_result"
    },
    {
     "data": {
      "image/png": "[encoded data removed]",
      "text/plain": [
       "<Figure size 640x480 with 1 Axes>"
      ]
     },
     "metadata": {},
     "output_type": "display_data"
    }
   ],
   "source": [
    "# Attempt to train through inference\n",
    "# Generate a pair of wire ends and train the network to connect them.\n",
    "# The wire ends are the conditioning on the model.\n",
    "\n",
    "\n",
    "# Condition\n",
    "wireCondition = torch.zeros((1, 1, imageSize, imageSize), device=device)\n",
    "\n",
    "wireIndexes = torch.randint(imageSize, (2,2))\n",
    "wireCondition[0, 0, wireIndexes[0,0], wireIndexes[0,1]] = 1\n",
    "wireCondition[0, 0, wireIndexes[1,0], wireIndexes[1,1]] = 1\n",
    "\n",
    "\n",
    "plt.imshow(wireCondition.squeeze().cpu().numpy())"
   ]
  },
  {
   "cell_type": "code",
   "execution_count": null,
   "metadata": {},
   "outputs": [],
   "source": [
    "def wireCondToSquare(pos1, pos2):\n",
    "    image = torch.zeros((1, 1, imageSize, imageSize), device=device)\n",
    "    image[:, :, \n",
    "          min(pos1[0], pos2[0]):max(pos1[0], pos2[0]), \n",
    "          min(pos1[1], pos2[1]):max(pos1[1], pos2[1])] = 1.0\n",
    "    return image\n",
    "\n",
    "\"\"\" # Lets pause doing tree search and just see if we can do square from condition. should be easier. \n",
    "# and if it works, perhaps the tree search could be applicable\n",
    "#pos1, pos2 = condition\n",
    "#condSquare = wireCondToSquare(pos1, pos2)\n",
    "#paths = roundedImage + condSquare # paths is 1 where wire may be placed correctly.\n",
    "\n",
    "def treeSearch(pos1, pos2, paths):\n",
    "    for i in range(abs(pos1[0] - pos2[0])):\n",
    "        for j in range(abs(pos1[1] - pos2[1])):\n",
    "            paths[i, j] = \n",
    "\"\"\"\n",
    "\n",
    "def wireLoss(image, condition):\n",
    "    iouLoss = smp.losses.JaccardLoss(mode='binary')\n",
    "    roundedImage = torch.where(image < 0.5, 0, 1).float()\n",
    "\n",
    "    loss = iouLoss(roundedImage, condition)\n",
    "    return loss"
   ]
  },
  {
   "cell_type": "code",
   "execution_count": 44,
   "metadata": {},
   "outputs": [
    {
     "name": "stdout",
     "output_type": "stream",
     "text": [
      "T50\n",
      "T0\n",
      "Epoch [1/1], Loss: 0.8714\n"
     ]
    },
    {
     "ename": "RuntimeError",
     "evalue": "Can't call numpy() on Tensor that requires grad. Use tensor.detach().numpy() instead.",
     "output_type": "error",
     "traceback": [
      "\u001b[1;31m---------------------------------------------------------------------------\u001b[0m",
      "\u001b[1;31mRuntimeError\u001b[0m                              Traceback (most recent call last)",
      "Cell \u001b[1;32mIn[44], line 38\u001b[0m\n\u001b[0;32m     35\u001b[0m     optimizer\u001b[38;5;241m.\u001b[39mstep()\n\u001b[0;32m     36\u001b[0m     \u001b[38;5;28mprint\u001b[39m(\u001b[38;5;124mf\u001b[39m\u001b[38;5;124m\"\u001b[39m\u001b[38;5;124mEpoch [\u001b[39m\u001b[38;5;132;01m{\u001b[39;00mepoch\u001b[38;5;241m+\u001b[39m\u001b[38;5;241m1\u001b[39m\u001b[38;5;132;01m}\u001b[39;00m\u001b[38;5;124m/\u001b[39m\u001b[38;5;132;01m{\u001b[39;00mepochs\u001b[38;5;132;01m}\u001b[39;00m\u001b[38;5;124m], Loss: \u001b[39m\u001b[38;5;132;01m{\u001b[39;00mloss\u001b[38;5;241m.\u001b[39mitem()\u001b[38;5;132;01m:\u001b[39;00m\u001b[38;5;124m.4f\u001b[39m\u001b[38;5;132;01m}\u001b[39;00m\u001b[38;5;124m\"\u001b[39m)\n\u001b[1;32m---> 38\u001b[0m plt\u001b[38;5;241m.\u001b[39mimshow(\u001b[43mx\u001b[49m\u001b[38;5;241;43m.\u001b[39;49m\u001b[43msqueeze\u001b[49m\u001b[43m(\u001b[49m\u001b[43m)\u001b[49m\u001b[38;5;241;43m.\u001b[39;49m\u001b[43mcpu\u001b[49m\u001b[43m(\u001b[49m\u001b[43m)\u001b[49m\u001b[38;5;241;43m.\u001b[39;49m\u001b[43mnumpy\u001b[49m\u001b[43m(\u001b[49m\u001b[43m)\u001b[49m)\n",
      "\u001b[1;31mRuntimeError\u001b[0m: Can't call numpy() on Tensor that requires grad. Use tensor.detach().numpy() instead."
     ]
    }
   ],
   "source": [
    "# Training\n",
    "\n",
    "epochs = 1\n",
    "model.train()\n",
    "scheduler.set_timesteps(2)\n",
    "\n",
    "\n",
    "for epoch in range(epochs):\n",
    "    optimizer.zero_grad()\n",
    "\n",
    "    # Conditioning\n",
    "    # wireCondition = torch.zeros((1, 1, imageSize, imageSize), device=device)\n",
    "    # wireIndexes = torch.randint(imageSize, (2,2))\n",
    "    # wireCondition[0, 0, wireIndexes[0,0], wireIndexes[0,1]] = 1\n",
    "    # wireCondition[0, 0, wireIndexes[1,0], wireIndexes[1,1]] = 1\n",
    "\n",
    "    #Simpler conditioning (square):\n",
    "    wireIndexes = torch.randint(imageSize, (2,2))\n",
    "    pos1, pos2 = wireIndexes\n",
    "    squareCondition = wireCondToSquare(pos1, pos2).flatten().unsqueeze(0).unsqueeze(0).float().requires_grad_()  \n",
    "\n",
    "    # Input\n",
    "    x = torch.randn_like(wireCondition, device=device, requires_grad=True).float()\n",
    "\n",
    "    for t in scheduler.timesteps:\n",
    "        print(f\"T{t}\")\n",
    "        modelOut = model(x, t, squareCondition).sample\n",
    "\n",
    "        # The scheduler finds the previous state of the conditioning, but that should be constant.\n",
    "        stepOut = scheduler.step(modelOut, t, x)\n",
    "        x = stepOut.prev_sample\n",
    "\n",
    "    loss = wireLoss(x, squareCondition)\n",
    "    loss.backward()\n",
    "    optimizer.step()\n",
    "    print(f\"Epoch [{epoch+1}/{epochs}], Loss: {loss.item():.4f}\")\n",
    "\n",
    "plt.imshow(x.squeeze().cpu().numpy())"
   ]
  },
  {
   "cell_type": "code",
   "execution_count": 32,
   "metadata": {},
   "outputs": [
    {
     "data": {
      "text/plain": [
       "<matplotlib.image.AxesImage at 0x1cd2a850430>"
      ]
     },
     "execution_count": 32,
     "metadata": {},
     "output_type": "execute_result"
    },
    {
     "data": {
      "image/png": "[encoded data removed]",
      "text/plain": [
       "<Figure size 640x480 with 1 Axes>"
      ]
     },
     "metadata": {},
     "output_type": "display_data"
    }
   ],
   "source": [
    "plt.imshow(torch.sign(seed.squeeze()).cpu().numpy(), cmap='binary', vmin=-1, vmax=1)"
   ]
  },
  {
   "cell_type": "code",
   "execution_count": null,
   "metadata": {},
   "outputs": [
    {
     "data": {
      "text/plain": [
       "<matplotlib.image.AxesImage at 0x1cca03f1b10>"
      ]
     },
     "execution_count": 34,
     "metadata": {},
     "output_type": "execute_result"
    },
    {
     "data": {
      "image/png": "[encoded data removed]",
      "text/plain": [
       "<Figure size 640x480 with 1 Axes>"
      ]
     },
     "metadata": {},
     "output_type": "display_data"
    }
   ],
   "source": [
    "plt.imshow(wireCondition.squeeze().cpu().numpy())\n",
    "#plt.imshow(torch.sign(seed.squeeze()).cpu().numpy(), cmap='binary', vmin=-1, vmax=1)\n",
    "#def wireLoss(image, condition):\n",
    "\n",
    "# Problem, the loss would require shortest distance path\n",
    "# and IOU\n",
    "# Could simulate in minecraft, but that would only give a score and not a gradient"
   ]
  },
  {
   "cell_type": "markdown",
   "metadata": {},
   "source": [
    "---"
   ]
  }
 ],
 "metadata": {
  "kernelspec": {
   "display_name": "venv",
   "language": "python",
   "name": "python3"
  },
  "language_info": {
   "codemirror_mode": {
    "name": "ipython",
    "version": 3
   },
   "file_extension": ".py",
   "mimetype": "text/x-python",
   "name": "python",
   "nbconvert_exporter": "python",
   "pygments_lexer": "ipython3",
   "version": "3.10.6"
  }
 },
 "nbformat": 4,
 "nbformat_minor": 2
}
