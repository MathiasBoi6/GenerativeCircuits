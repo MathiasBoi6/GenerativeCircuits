{
 "cells": [
  {
   "cell_type": "markdown",
   "metadata": {},
   "source": [
    "Testing default EvoCraft function calls\n",
    "* FillCubes\n",
    "* SpawnBlocks\n",
    "* ReadCube"
   ]
  },
  {
   "cell_type": "markdown",
   "metadata": {},
   "source": [
    "# Imports"
   ]
  },
  {
   "cell_type": "code",
   "execution_count": 3,
   "metadata": {},
   "outputs": [],
   "source": [
    "import grpc\n",
    "\n",
    "\n",
    "from minecraft_pb2 import *\n",
    "import minecraft_pb2_grpc\n"
   ]
  },
  {
   "cell_type": "markdown",
   "metadata": {},
   "source": [
    "Connect to minecraft server using grpc"
   ]
  },
  {
   "cell_type": "code",
   "execution_count": null,
   "metadata": {},
   "outputs": [],
   "source": [
    "channel = grpc.insecure_channel('localhost:5001')\n",
    "client = minecraft_pb2_grpc.MinecraftServiceStub(channel)"
   ]
  },
  {
   "cell_type": "code",
   "execution_count": 12,
   "metadata": {},
   "outputs": [
    {
     "data": {
      "text/plain": []
     },
     "execution_count": 12,
     "metadata": {},
     "output_type": "execute_result"
    }
   ],
   "source": [
    "# Deletes Appartment from sample\n",
    "client.fillCube(FillCubeRequest(\n",
    "    cube=Cube(\n",
    "        min=Point(x=50, y=10, z=6),\n",
    "        max=Point(x=69, y=32, z=27)\n",
    "    ),\n",
    "    type=AIR\n",
    "))"
   ]
  },
  {
   "cell_type": "code",
   "execution_count": 15,
   "metadata": {},
   "outputs": [
    {
     "data": {
      "text/plain": []
     },
     "execution_count": 15,
     "metadata": {},
     "output_type": "execute_result"
    }
   ],
   "source": [
    "# Spawn a few pistons in cente of the world\n",
    "client.spawnBlocks(Blocks(blocks=[ \n",
    "    Block(position=Point(x=0, y=5, z=-1), type=PISTON, orientation=NORTH),\n",
    "    Block(position=Point(x=-1, y=5, z=0), type=PISTON, orientation=WEST),\n",
    "    Block(position=Point(x=0, y=5, z=1), type=PISTON, orientation=SOUTH),\n",
    "    Block(position=Point(x=1, y=5, z=0), type=PISTON, orientation=EAST),\n",
    "]))"
   ]
  },
  {
   "cell_type": "code",
   "execution_count": 18,
   "metadata": {},
   "outputs": [
    {
     "name": "stdout",
     "output_type": "stream",
     "text": [
      "blocks {\n",
      "  position {\n",
      "    x: -1\n",
      "    y: 4\n",
      "    z: -1\n",
      "  }\n",
      "  type: AIR\n",
      "}\n",
      "blocks {\n",
      "  position {\n",
      "    x: -1\n",
      "    y: 4\n",
      "  }\n",
      "  type: AIR\n",
      "}\n",
      "blocks {\n",
      "  position {\n",
      "    x: -1\n",
      "    y: 4\n",
      "    z: 1\n",
      "  }\n",
      "  type: AIR\n",
      "}\n",
      "blocks {\n",
      "  position {\n",
      "    x: -1\n",
      "    y: 5\n",
      "    z: -1\n",
      "  }\n",
      "  type: AIR\n",
      "}\n",
      "blocks {\n",
      "  position {\n",
      "    x: -1\n",
      "    y: 5\n",
      "  }\n",
      "  type: PISTON\n",
      "}\n",
      "blocks {\n",
      "  position {\n",
      "    x: -1\n",
      "    y: 5\n",
      "    z: 1\n",
      "  }\n",
      "  type: AIR\n",
      "}\n",
      "blocks {\n",
      "  position {\n",
      "    x: -1\n",
      "    y: 6\n",
      "    z: -1\n",
      "  }\n",
      "  type: AIR\n",
      "}\n",
      "blocks {\n",
      "  position {\n",
      "    x: -1\n",
      "    y: 6\n",
      "  }\n",
      "  type: AIR\n",
      "}\n",
      "blocks {\n",
      "  position {\n",
      "    x: -1\n",
      "    y: 6\n",
      "    z: 1\n",
      "  }\n",
      "  type: AIR\n",
      "}\n",
      "blocks {\n",
      "  position {\n",
      "    y: 4\n",
      "    z: -1\n",
      "  }\n",
      "  type: AIR\n",
      "}\n",
      "blocks {\n",
      "  position {\n",
      "    y: 4\n",
      "  }\n",
      "  type: WOOL\n",
      "}\n",
      "blocks {\n",
      "  position {\n",
      "    y: 4\n",
      "    z: 1\n",
      "  }\n",
      "  type: AIR\n",
      "}\n",
      "blocks {\n",
      "  position {\n",
      "    y: 5\n",
      "    z: -1\n",
      "  }\n",
      "  type: PISTON\n",
      "}\n",
      "blocks {\n",
      "  position {\n",
      "    y: 5\n",
      "  }\n",
      "  type: WOOL\n",
      "}\n",
      "blocks {\n",
      "  position {\n",
      "    y: 5\n",
      "    z: 1\n",
      "  }\n",
      "  type: PISTON\n",
      "}\n",
      "blocks {\n",
      "  position {\n",
      "    y: 6\n",
      "    z: -1\n",
      "  }\n",
      "  type: AIR\n",
      "}\n",
      "blocks {\n",
      "  position {\n",
      "    y: 6\n",
      "  }\n",
      "  type: WOOL\n",
      "}\n",
      "blocks {\n",
      "  position {\n",
      "    y: 6\n",
      "    z: 1\n",
      "  }\n",
      "  type: AIR\n",
      "}\n",
      "blocks {\n",
      "  position {\n",
      "    x: 1\n",
      "    y: 4\n",
      "    z: -1\n",
      "  }\n",
      "  type: AIR\n",
      "}\n",
      "blocks {\n",
      "  position {\n",
      "    x: 1\n",
      "    y: 4\n",
      "  }\n",
      "  type: AIR\n",
      "}\n",
      "blocks {\n",
      "  position {\n",
      "    x: 1\n",
      "    y: 4\n",
      "    z: 1\n",
      "  }\n",
      "  type: AIR\n",
      "}\n",
      "blocks {\n",
      "  position {\n",
      "    x: 1\n",
      "    y: 5\n",
      "    z: -1\n",
      "  }\n",
      "  type: AIR\n",
      "}\n",
      "blocks {\n",
      "  position {\n",
      "    x: 1\n",
      "    y: 5\n",
      "  }\n",
      "  type: PISTON\n",
      "}\n",
      "blocks {\n",
      "  position {\n",
      "    x: 1\n",
      "    y: 5\n",
      "    z: 1\n",
      "  }\n",
      "  type: AIR\n",
      "}\n",
      "blocks {\n",
      "  position {\n",
      "    x: 1\n",
      "    y: 6\n",
      "    z: -1\n",
      "  }\n",
      "  type: AIR\n",
      "}\n",
      "blocks {\n",
      "  position {\n",
      "    x: 1\n",
      "    y: 6\n",
      "  }\n",
      "  type: AIR\n",
      "}\n",
      "blocks {\n",
      "  position {\n",
      "    x: 1\n",
      "    y: 6\n",
      "    z: 1\n",
      "  }\n",
      "  type: AIR\n",
      "}\n",
      "\n"
     ]
    }
   ],
   "source": [
    "#Read center build\n",
    "blocks = client.readCube(Cube(\n",
    "         min=Point(x=-1, y=4, z=-1),\n",
    "         max=Point(x=1, y=6, z=1)\n",
    "))\n",
    "print(blocks)"
   ]
  },
  {
   "cell_type": "code",
   "execution_count": 38,
   "metadata": {},
   "outputs": [],
   "source": [
    "import numpy as np"
   ]
  },
  {
   "cell_type": "code",
   "execution_count": 41,
   "metadata": {},
   "outputs": [
    {
     "name": "stdout",
     "output_type": "stream",
     "text": [
      "None\n"
     ]
    }
   ],
   "source": [
    "test = [None]\n",
    "\n",
    "for i in range(len(test)):\n",
    "    print(test[i])"
   ]
  }
 ],
 "metadata": {
  "kernelspec": {
   "display_name": "venv",
   "language": "python",
   "name": "python3"
  },
  "language_info": {
   "codemirror_mode": {
    "name": "ipython",
    "version": 3
   },
   "file_extension": ".py",
   "mimetype": "text/x-python",
   "name": "python",
   "nbconvert_exporter": "python",
   "pygments_lexer": "ipython3",
   "version": "3.10.6"
  }
 },
 "nbformat": 4,
 "nbformat_minor": 2
}
