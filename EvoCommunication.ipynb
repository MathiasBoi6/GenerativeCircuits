{
 "cells": [
  {
   "cell_type": "code",
   "execution_count": 1,
   "metadata": {},
   "outputs": [
    {
     "name": "stderr",
     "output_type": "stream",
     "text": [
      "c:\\Mine\\Master\\MyNca\\venv\\lib\\site-packages\\tqdm\\auto.py:21: TqdmWarning: IProgress not found. Please update jupyter and ipywidgets. See https://ipywidgets.readthedocs.io/en/stable/user_install.html\n",
      "  from .autonotebook import tqdm as notebook_tqdm\n"
     ]
    }
   ],
   "source": [
    "import grpc\n",
    "\n",
    "from minecraft_pb2 import *\n",
    "import minecraft_pb2_grpc\n",
    "\n",
    "import matplotlib.pyplot as plt\n",
    "import numpy as np\n",
    "import torch\n",
    "import diffusers\n",
    "from tqdm import tqdm\n",
    "from torchvision import transforms\n",
    "import torch.nn as nn\n",
    "import torch.optim as optim\n",
    "import torch.nn.functional as F\n",
    "from diffusers import UNet2DModel, DDPMScheduler"
   ]
  },
  {
   "cell_type": "code",
   "execution_count": 2,
   "metadata": {},
   "outputs": [],
   "source": [
    "channel = grpc.insecure_channel('localhost:5001')\n",
    "client = minecraft_pb2_grpc.MinecraftServiceStub(channel)"
   ]
  },
  {
   "cell_type": "code",
   "execution_count": 3,
   "metadata": {},
   "outputs": [],
   "source": [
    "#Create an image\n",
    "# Spawn associated blocks in MC\n",
    "\n",
    "\n",
    "# Create list or dict of blocks\n",
    "# from dict use size for categorical values\n",
    "# also add direction\n",
    "# do argmax for what blocks to spawn.\n",
    "\n",
    "blockList = [\n",
    "    REDSTONE_TORCH, REDSTONE_WIRE, UNPOWERED_REPEATER, UNPOWERED_COMPARATOR, PISTON, COBBLESTONE, AIR, STICKY_PISTON, SLIME,\n",
    "]\n",
    "\n",
    "orientationList = [\n",
    "    NORTH, WEST, SOUTH, EAST, UP, DOWN\n",
    "]\n",
    "\n",
    "\n",
    "channels = len(blockList) + len(orientationList)\n",
    "\n",
    "image_size = 32\n",
    "image = torch.randn((1, channels, image_size, image_size))"
   ]
  },
  {
   "cell_type": "code",
   "execution_count": 4,
   "metadata": {},
   "outputs": [],
   "source": [
    "def TensorToBlocks(input, blockLen, offset):\n",
    "    blockChannels = input[:, :blockLen, :, :]\n",
    "    orientationChannels = input[:, blockLen:, :, :]\n",
    "    \n",
    "    blockIds = blockChannels.argmax(dim=1).squeeze()\n",
    "    dirs = orientationChannels.argmax(dim=1).squeeze()\n",
    "\n",
    "    blocks = []\n",
    "    for i in range(blockIds.shape[0]):\n",
    "        for j in range(blockIds.shape[1]):\n",
    "            blocks.append(\n",
    "                Block(\n",
    "                    position=Point(x=i + offset['x'], y=offset['y'], z=j + offset['z']), \n",
    "                    type=blockList[blockIds[i, j]], \n",
    "                    orientation=orientationList[dirs[i, j]]))\n",
    "    return Blocks(blocks=blocks)\n",
    "\n",
    "offset = {'x': 10, 'y': 4, 'z': 5}\n",
    "outBlocks = TensorToBlocks(image, len(blockList), offset)\n"
   ]
  },
  {
   "cell_type": "code",
   "execution_count": 5,
   "metadata": {},
   "outputs": [
    {
     "data": {
      "text/plain": []
     },
     "execution_count": 5,
     "metadata": {},
     "output_type": "execute_result"
    }
   ],
   "source": [
    "# Spawn output\n",
    "client.spawnBlocks(outBlocks)"
   ]
  },
  {
   "cell_type": "code",
   "execution_count": 6,
   "metadata": {},
   "outputs": [
    {
     "data": {
      "text/plain": []
     },
     "execution_count": 6,
     "metadata": {},
     "output_type": "execute_result"
    }
   ],
   "source": [
    "# clear output\n",
    "# ADD +- small amount\n",
    "# Add code to fix ground\n",
    "\n",
    "client.fillCube(FillCubeRequest(\n",
    "    cube=Cube(\n",
    "        min=Point(x=offset['x'], y=offset['y'], z=offset['z']),\n",
    "        max=Point(x=offset['x'] + image_size, y=offset['y'], z=offset['z'] + image_size)\n",
    "    ),\n",
    "    type=AIR\n",
    "))"
   ]
  },
  {
   "cell_type": "code",
   "execution_count": null,
   "metadata": {},
   "outputs": [],
   "source": [
    "#add code to copy build / get sample\n",
    "# needs read code\n",
    "# translate code\n",
    "# save sample code"
   ]
  },
  {
   "cell_type": "code",
   "execution_count": 7,
   "metadata": {},
   "outputs": [],
   "source": [
    "#outBlocks = TensorToBlocks(image, len(blockList), offset)\n",
    "def BlockToTensor(blocks, offset, imageSize, blockList, orientationList):\n",
    "      channels = len(blockList) + len(orientationList)\n",
    "      image = torch.zeros((channels, imageSize, imageSize))\n",
    "      for block in blocks.blocks:\n",
    "            if block.type not in blockList: \n",
    "                  continue # In case of things like PISTON_HEAD, just skip it\n",
    "            image[\n",
    "                  blockList.index(block.type), \n",
    "                  block.position.x - offset['x'], \n",
    "                  block.position.z - offset['z']] = 1 \n",
    "            image[\n",
    "                  len(blockList) + orientationList.index(block.orientation), \n",
    "                  block.position.x - offset['x'], \n",
    "                  block.position.z - offset['z']] = 1\n",
    "      return image.unsqueeze(0)"
   ]
  },
  {
   "cell_type": "code",
   "execution_count": 8,
   "metadata": {},
   "outputs": [],
   "source": [
    "inBlocks = BlockToTensor(outBlocks, offset, image_size, blockList, orientationList)"
   ]
  },
  {
   "cell_type": "code",
   "execution_count": 9,
   "metadata": {},
   "outputs": [],
   "source": [
    "# visualize tensor\n",
    "# collapse block type with argmax and discard orientation.\n",
    "\n",
    "def VisualizeTensor(input, orientationLen):\n",
    "    blockChannels = input[:, :-orientationLen, :, :]\n",
    "    blockType = torch.argmax(blockChannels, dim=1).squeeze()\n",
    "\n",
    "    plt.imshow(blockType.cpu().numpy())"
   ]
  },
  {
   "cell_type": "code",
   "execution_count": 10,
   "metadata": {},
   "outputs": [
    {
     "data": {
      "image/png": "[encoded data removed]",
      "text/plain": [
       "<Figure size 640x480 with 1 Axes>"
      ]
     },
     "metadata": {},
     "output_type": "display_data"
    }
   ],
   "source": [
    "VisualizeTensor(image, 6)"
   ]
  },
  {
   "cell_type": "code",
   "execution_count": 11,
   "metadata": {},
   "outputs": [],
   "source": [
    "# Gets cube with ysize = 1\n",
    "def getCube(minPoint, size):\n",
    "    return Cube(\n",
    "        min=Point(x=minPoint['x'], y=minPoint['y'], z=minPoint['z']),\n",
    "        max=Point(x=minPoint['x'] + size - 1, y=minPoint['y'], z=minPoint['z'] + size - 1)\n",
    "    )\n",
    "\n",
    "blocks = client.readCube(\n",
    "    getCube(offset, image_size)\n",
    ")"
   ]
  },
  {
   "cell_type": "code",
   "execution_count": 12,
   "metadata": {},
   "outputs": [],
   "source": [
    "readBlocks = BlockToTensor(blocks, offset, image_size, blockList, orientationList)"
   ]
  },
  {
   "cell_type": "code",
   "execution_count": 13,
   "metadata": {},
   "outputs": [
    {
     "data": {
      "image/png": "[encoded data removed]",
      "text/plain": [
       "<Figure size 640x480 with 1 Axes>"
      ]
     },
     "metadata": {},
     "output_type": "display_data"
    }
   ],
   "source": [
    "VisualizeTensor(readBlocks, 6)"
   ]
  }
 ],
 "metadata": {
  "kernelspec": {
   "display_name": "venv",
   "language": "python",
   "name": "python3"
  },
  "language_info": {
   "codemirror_mode": {
    "name": "ipython",
    "version": 3
   },
   "file_extension": ".py",
   "mimetype": "text/x-python",
   "name": "python",
   "nbconvert_exporter": "python",
   "pygments_lexer": "ipython3",
   "version": "3.10.6"
  }
 },
 "nbformat": 4,
 "nbformat_minor": 2
}
