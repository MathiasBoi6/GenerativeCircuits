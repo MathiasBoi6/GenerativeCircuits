{
 "cells": [
  {
   "cell_type": "code",
   "execution_count": null,
   "id": "614b0103",
   "metadata": {},
   "outputs": [
    {
     "name": "stdout",
     "output_type": "stream",
     "text": [
      "dataset generated as 'loader\n",
      "embedder created as transformer\n",
      "Embedded shape: torch.Size([4, 128])\n",
      "Using device: cuda\n"
     ]
    }
   ],
   "source": [
    "from bootstrapSetup import *\n",
    "from IPython.display import display, clear_output"
   ]
  },
  {
   "cell_type": "code",
   "execution_count": null,
   "id": "5c577f57",
   "metadata": {},
   "outputs": [],
   "source": [
    "EXPERIMENT_NAME= \"ToBeNamed\""
   ]
  },
  {
   "cell_type": "markdown",
   "id": "8ad13722",
   "metadata": {},
   "source": [
    "# Improvements\n",
    "* Check connectivity through connection map\n",
    "* Check edgecase of wireset"
   ]
  },
  {
   "cell_type": "code",
   "execution_count": 101,
   "id": "e471c9f1",
   "metadata": {},
   "outputs": [],
   "source": [
    "def checkConnectivity(connectionMap, socketMap):\n",
    "    curIndex = 0\n",
    "    connections = []\n",
    "    exhaustedSockets = set()\n",
    "\n",
    "    def exhaustSocketSource(socket):\n",
    "        if bool(socketMap[socket]): # If socket is connected to anything\n",
    "            exhaustedSockets.add(socket)\n",
    "\n",
    "        for c in socketMap[socket]:\n",
    "            if c not in connections:\n",
    "                connections.append(c)\n",
    "\n",
    "    for inp, pos in inpSockets:\n",
    "        exhaustSocketSource(inp)\n",
    "    \n",
    "    while curIndex < len(connections):\n",
    "        c = connections[curIndex]\n",
    "        for s in connectionMap[c]:\n",
    "            if not s.isSource:\n",
    "                exhaustedSockets.add(s)\n",
    "\n",
    "            prefix, idnum, comptype = s.name\n",
    "\n",
    "            if comptype:\n",
    "                if (f\"{prefix}{idnum}base\" in exhaustedSockets and \n",
    "                    f\"{prefix}{idnum}collector\" in exhaustedSockets):\n",
    "                    if f\"{prefix}{idnum}emitter\" not in connections:\n",
    "                        exhaustSocketSource(f\"{prefix}{idnum}emitter\")\n",
    "\n",
    "        curIndex += 1\n",
    "    return connections, exhaustedSockets\n",
    "\n",
    "def prePruningv2(socketMap, exhaustedSockets):\n",
    "    connectedInps = []\n",
    "    connectedOuts = []\n",
    "\n",
    "    notConnectedGateIDs = []\n",
    "    for s in socketMap:\n",
    "        connected = s in exhaustedSockets\n",
    "        prefix, idnum, comptype = s.name\n",
    "\n",
    "        if comptype:\n",
    "            if not connected and idnum not in notConnectedGateIDs:\n",
    "                notConnectedGateIDs.append(idnum)\n",
    "        else:\n",
    "            if connected:\n",
    "                if prefix == \"inp\":\n",
    "                    connectedInps.append(s)\n",
    "                else: \n",
    "                    connectedOuts.append(s)\n",
    "\n",
    "\n",
    "    return connectedInps, connectedOuts, notConnectedGateIDs\n",
    "\n",
    "def gateRemoval(circuit, gatesToClean):\n",
    "    if len(gatesToClean) == 0:\n",
    "        return circuit\n",
    "    \n",
    "    gateToCleanIndex = 0\n",
    "    curGate = 0\n",
    "    for i in range(circuit.shape[0]):\n",
    "        for j in range(circuit.shape[1]):\n",
    "            if circuit[i][j] > 1:\n",
    "                if int(gatesToClean[gateToCleanIndex]) == curGate:\n",
    "                    circuit[i][j] = 1\n",
    "                    gateToCleanIndex += 1\n",
    "                    if gateToCleanIndex >= len(gatesToClean):\n",
    "                        return circuit\n",
    "\n",
    "                curGate += 1\n",
    "    \n",
    "    return circuit\n"
   ]
  },
  {
   "cell_type": "code",
   "execution_count": 102,
   "id": "2892964d",
   "metadata": {},
   "outputs": [],
   "source": [
    "# Training Function\n",
    "def trainCatModel(catModel, dataloader, embeddingModel, losses, stopAccuracy = 0.05, batchLimit = 100, PLOTUPDATES = True):\n",
    "    catModel.train()\n",
    "    updateRate = 10 # For plotting purposes\n",
    "\n",
    "    loss_fn = nn.CrossEntropyLoss() #nn.MSELoss(reduction='sum')\n",
    "\n",
    "    if PLOTUPDATES:\n",
    "        fig, ax = plt.subplots(figsize=(8, 5))\n",
    "    \n",
    "    opt = torch.optim.Adam(catModel.parameters(), lr=1e-4) \n",
    "\n",
    "\n",
    "    batchNum = 0\n",
    "    isTraining = True\n",
    "    while isTraining:\n",
    "        for batch, labels in dataloader:\n",
    "\n",
    "            timesteps = torch.randint(0, scheduler.TrainSteps - 1, (batch.shape[0],), device='cpu').long()\n",
    "\n",
    "            noisyImgs = scheduler.addNoise(batch, timesteps)\n",
    "\n",
    "            embeddings = embeddingModel(labels)\n",
    "\n",
    "            pred = catModel(noisyImgs.to(device).float(), timesteps.to(device), embeddings.to(device))\n",
    "\n",
    "            loss = loss_fn(pred, batch.to(device).argmax(axis=1)) \n",
    "\n",
    "            opt.zero_grad()\n",
    "            loss.backward()\n",
    "            opt.step()\n",
    "            losses.append(loss.item())\n",
    "\n",
    "            if PLOTUPDATES:\n",
    "                if len(losses) % updateRate == 0:\n",
    "                    clear_output(wait=True)  \n",
    "                    ax.clear()\n",
    "                    plt.plot(losses)\n",
    "                    plt.xlabel('Batch')\n",
    "                    display(fig)\n",
    "                    \n",
    "            batchNum += 1\n",
    "            if loss < stopAccuracy:\n",
    "                    isTraining = False\n",
    "                    break\n",
    "            elif batchNum >= batchLimit:\n",
    "                isTraining = False\n",
    "                break\n",
    "    \n",
    "    if PLOTUPDATES:\n",
    "        clear_output(wait=True)  \n",
    "        ax.clear()\n",
    "    plt.plot(losses)\n",
    "    plt.xlabel('Batch')\n",
    "    if PLOTUPDATES:\n",
    "        display(fig)\n",
    "\n",
    "    return catModel, losses"
   ]
  },
  {
   "cell_type": "code",
   "execution_count": null,
   "id": "e095b25b",
   "metadata": {},
   "outputs": [],
   "source": [
    "def generateSocketCombinations(inputSockets, relevantIndexes):\n",
    "    #inputSockets = All available input sockets\n",
    "    #relevantIndexes = the indexes of sockets that are connected to components\n",
    "    \n",
    "    usedSockets = [inputSockets[i][0] for i in relevantIndexes]\n",
    "    \n",
    "    # Generate all combinations (power set)\n",
    "    orderList = []\n",
    "    for r in range(len(usedSockets) + 1):\n",
    "        for combo in combinations(usedSockets, r):\n",
    "            orderList.append(list(combo))\n",
    "    \n",
    "    return orderList\n"
   ]
  },
  {
   "cell_type": "markdown",
   "id": "b2b77309",
   "metadata": {},
   "source": [
    "__________"
   ]
  },
  {
   "cell_type": "code",
   "execution_count": 103,
   "id": "0d3f04bd",
   "metadata": {},
   "outputs": [],
   "source": [
    "tc = np.array(\n",
    "    [\n",
    "        [1, 1, 0, 0, 0, 0, 1, 1, 1, 1, 1, 1, 1],\n",
    "        [0, 1, 1, 3, 1, 1, 1, 0, 0, 0, 0, 0, 0],\n",
    "        [0, 1, 0, 1, 0, 0, 0, 0, 0, 0, 0, 0, 0],\n",
    "        [0, 1, 0, 1, 0, 0, 0, 0, 0, 0, 0, 0, 0],\n",
    "        [1, 1, 0, 1, 0, 0, 0, 0, 1, 0, 0, 0, 0],\n",
    "        [1, 2, 1, 1, 0, 0, 0, 0, 1, 0, 1, 0, 0],\n",
    "        [0, 1, 0, 0, 0, 0, 0, 0, 1, 0, 1, 0, 0],\n",
    "        [0, 1, 0, 0, 0, 0, 0, 0, 2, 0, 1, 0, 0],\n",
    "        [0, 1, 0, 1, 1, 1, 0, 0, 0, 0, 3, 0, 0],\n",
    "        [0, 1, 0, 0, 0, 1, 0, 0, 0, 0, 0, 0, 0],\n",
    "        [0, 0, 0, 0, 0, 1, 0, 0, 0, 0, 0, 0, 0],\n",
    "        [0, 0, 0, 0, 0, 1, 1, 1, 0, 0, 0, 0, 0],\n",
    "        [0, 0, 0, 0, 0, 0, 0, 0, 0, 0, 0, 0, 0],\n",
    "    ])"
   ]
  },
  {
   "cell_type": "code",
   "execution_count": 104,
   "id": "c7d5ab21",
   "metadata": {},
   "outputs": [
    {
     "name": "stdout",
     "output_type": "stream",
     "text": [
      "[[1 1 0 0 0 0 2 2 2 2 2 2 2]\n",
      " [0 1 1 3 2 2 2 0 0 0 0 0 0]\n",
      " [0 1 0 3 0 0 0 0 0 0 0 0 0]\n",
      " [0 1 0 3 0 0 0 0 0 0 0 0 0]\n",
      " [1 1 0 3 0 0 0 0 4 0 0 0 0]\n",
      " [1 1 3 3 0 0 0 0 4 0 5 0 0]\n",
      " [0 1 0 0 0 0 0 0 4 0 5 0 0]\n",
      " [0 1 0 0 0 0 0 0 4 0 5 0 0]\n",
      " [0 1 0 6 6 6 0 0 0 0 5 0 0]\n",
      " [0 1 0 0 0 6 0 0 0 0 0 0 0]\n",
      " [0 0 0 0 0 6 0 0 0 0 0 0 0]\n",
      " [0 0 0 0 0 6 6 6 0 0 0 0 0]\n",
      " [0 0 0 0 0 0 0 0 0 0 0 0 0]]\n"
     ]
    }
   ],
   "source": [
    "            #    socketMap, wireSets = GetSocketMap(circuits[i], inpSockets + outSockets)\n",
    "            #     connectionMap = GetConnectionMap(socketMap)\n",
    "\n",
    "\n",
    "            #     inps, outs = prePruning(connectionMap, socketMap)\n",
    "            #     circuit, connectionMap, circuitDirty = afterPruning(circuits[i], wireSets, connectionMap)\n",
    "            #     circuit = pruneExcessWires(circuit\n",
    "socketMap, wireSets = GetSocketMap(tc, inpSockets + outSockets)\n",
    "print(wireSets)"
   ]
  },
  {
   "cell_type": "code",
   "execution_count": 105,
   "id": "b5e3f5d6",
   "metadata": {},
   "outputs": [],
   "source": [
    "connectionMap = GetConnectionMap(socketMap)"
   ]
  },
  {
   "cell_type": "code",
   "execution_count": 106,
   "id": "a898ed15",
   "metadata": {},
   "outputs": [
    {
     "data": {
      "text/plain": [
       "{inp0: {1},\n",
       " inp1: {1},\n",
       " inp2: set(),\n",
       " inp3: set(),\n",
       " out0: {2},\n",
       " out1: set(),\n",
       " out2: set(),\n",
       " out3: set(),\n",
       " NAND0base: {1},\n",
       " NAND0collector: {3},\n",
       " NAND0emitter: {2},\n",
       " AND1base: {1},\n",
       " AND1collector: {1},\n",
       " AND1emitter: {3},\n",
       " AND2base: set(),\n",
       " AND2collector: {4},\n",
       " AND2emitter: set(),\n",
       " NAND3base: set(),\n",
       " NAND3collector: {5},\n",
       " NAND3emitter: set()}"
      ]
     },
     "execution_count": 106,
     "metadata": {},
     "output_type": "execute_result"
    }
   ],
   "source": [
    "socketMap"
   ]
  },
  {
   "cell_type": "code",
   "execution_count": 107,
   "id": "b55f0458",
   "metadata": {},
   "outputs": [
    {
     "data": {
      "text/plain": [
       "{1: [inp0, inp1, NAND0base, AND1base, AND1collector],\n",
       " 2: [out0, NAND0emitter],\n",
       " 3: [NAND0collector, AND1emitter],\n",
       " 4: [AND2collector],\n",
       " 5: [NAND3collector]}"
      ]
     },
     "execution_count": 107,
     "metadata": {},
     "output_type": "execute_result"
    }
   ],
   "source": [
    "connectionMap"
   ]
  },
  {
   "cell_type": "markdown",
   "id": "87e7a8d8",
   "metadata": {},
   "source": [
    "* Go through each inpsocket, and add their connections to a list\n",
    "* keep all exhausted sockets in a list\n",
    "* pop a connection from the list and go to 1.\n",
    "* if base and collector in set, add emitter\n",
    "\n",
    "Should this be a queue and set? a dictionary?"
   ]
  },
  {
   "cell_type": "code",
   "execution_count": 108,
   "id": "f816fbef",
   "metadata": {},
   "outputs": [],
   "source": [
    "def checkConnectivity(connectionMap, socketMap):\n",
    "    curIndex = 0\n",
    "    connections = []\n",
    "    exhaustedSockets = set()\n",
    "\n",
    "    def exhaustSocketSource(socket):\n",
    "        if bool(socketMap[socket]): # If socket is connected to anything\n",
    "            exhaustedSockets.add(socket)\n",
    "\n",
    "        for c in socketMap[socket]:\n",
    "            if c not in connections:\n",
    "                connections.append(c)\n",
    "\n",
    "    for inp, pos in inpSockets:\n",
    "        exhaustSocketSource(inp)\n",
    "    \n",
    "    while curIndex < len(connections):\n",
    "        c = connections[curIndex]\n",
    "        for s in connectionMap[c]:\n",
    "            if not s.isSource:\n",
    "                exhaustedSockets.add(s)\n",
    "\n",
    "            prefix, idnum, comptype = s.name\n",
    "\n",
    "            if comptype:\n",
    "                if (f\"{prefix}{idnum}base\" in exhaustedSockets and \n",
    "                    f\"{prefix}{idnum}collector\" in exhaustedSockets):\n",
    "                    if f\"{prefix}{idnum}emitter\" not in connections:\n",
    "                        exhaustSocketSource(f\"{prefix}{idnum}emitter\")\n",
    "\n",
    "        curIndex += 1\n",
    "    return connections, exhaustedSockets\n",
    "\n",
    "\n",
    "connectedSets, exhaustedSockets = checkConnectivity(connectionMap, socketMap)"
   ]
  },
  {
   "cell_type": "code",
   "execution_count": 109,
   "id": "9acfc7d0",
   "metadata": {},
   "outputs": [
    {
     "name": "stdout",
     "output_type": "stream",
     "text": [
      "True inp0\n",
      "True inp1\n",
      "False inp2\n",
      "False inp3\n",
      "True out0\n",
      "False out1\n",
      "False out2\n",
      "False out3\n",
      "True NAND0base\n",
      "True NAND0collector\n",
      "True NAND0emitter\n",
      "True AND1base\n",
      "True AND1collector\n",
      "True AND1emitter\n",
      "False AND2base\n",
      "False AND2collector\n",
      "False AND2emitter\n",
      "False NAND3base\n",
      "False NAND3collector\n",
      "False NAND3emitter\n"
     ]
    }
   ],
   "source": [
    "for s in socketMap:\n",
    "    print(s in exhaustedSockets, s)"
   ]
  },
  {
   "cell_type": "code",
   "execution_count": 110,
   "id": "91c2113c",
   "metadata": {},
   "outputs": [],
   "source": [
    "def prePruningv2(socketMap, exhaustedSockets):\n",
    "    connectedInps = []\n",
    "    connectedOuts = []\n",
    "\n",
    "    notConnectedGateIDs = []\n",
    "    for s in socketMap:\n",
    "        connected = s in exhaustedSockets\n",
    "        prefix, idnum, comptype = s.name\n",
    "\n",
    "        if comptype:\n",
    "            if not connected and idnum not in notConnectedGateIDs:\n",
    "                notConnectedGateIDs.append(idnum)\n",
    "        else:\n",
    "            if connected:\n",
    "                if prefix == \"inp\":\n",
    "                    connectedInps.append(s)\n",
    "                else: \n",
    "                    connectedOuts.append(s)\n",
    "\n",
    "\n",
    "    return connectedInps, connectedOuts, notConnectedGateIDs\n",
    "        \n",
    "connectedInps, connectedOuts, notConnectedGateIDs = prePruningv2(socketMap, exhaustedSockets)"
   ]
  },
  {
   "cell_type": "code",
   "execution_count": 111,
   "id": "e2b9e9bf",
   "metadata": {},
   "outputs": [
    {
     "name": "stdout",
     "output_type": "stream",
     "text": [
      "Gate 2 is not connected to any input socket\n",
      "Gate 3 is not connected to any input socket\n"
     ]
    }
   ],
   "source": [
    "for idx in notConnectedGateIDs:\n",
    "    print(f\"Gate {idx} is not connected to any input socket\")"
   ]
  },
  {
   "cell_type": "code",
   "execution_count": 112,
   "id": "14cd2b79",
   "metadata": {},
   "outputs": [],
   "source": [
    "def gateRemoval(circuit, gatesToClean):\n",
    "    if len(gatesToClean) == 0:\n",
    "        return circuit\n",
    "    \n",
    "    gateToCleanIndex = 0\n",
    "    curGate = 0\n",
    "    for i in range(circuit.shape[0]):\n",
    "        for j in range(circuit.shape[1]):\n",
    "            if circuit[i][j] > 1:\n",
    "                if int(gatesToClean[gateToCleanIndex]) == curGate:\n",
    "                    circuit[i][j] = 1\n",
    "                    gateToCleanIndex += 1\n",
    "                    if gateToCleanIndex >= len(gatesToClean):\n",
    "                        return circuit\n",
    "\n",
    "                curGate += 1\n",
    "    \n",
    "    return circuit\n",
    "\n",
    "tc2 = gateRemoval(tc, notConnectedGateIDs)"
   ]
  },
  {
   "cell_type": "code",
   "execution_count": 113,
   "id": "950606fb",
   "metadata": {},
   "outputs": [
    {
     "data": {
      "text/plain": [
       "['2', '3']"
      ]
     },
     "execution_count": 113,
     "metadata": {},
     "output_type": "execute_result"
    }
   ],
   "source": [
    "notConnectedGateIDs"
   ]
  },
  {
   "cell_type": "code",
   "execution_count": 114,
   "id": "00da9621",
   "metadata": {},
   "outputs": [
    {
     "data": {
      "text/plain": [
       "array([[1, 1, 0, 0, 0, 0, 1, 1, 1, 1, 1, 1, 1],\n",
       "       [0, 1, 1, 3, 1, 1, 1, 0, 0, 0, 0, 0, 0],\n",
       "       [0, 1, 0, 1, 0, 0, 0, 0, 0, 0, 0, 0, 0],\n",
       "       [0, 1, 0, 1, 0, 0, 0, 0, 0, 0, 0, 0, 0],\n",
       "       [1, 1, 0, 1, 0, 0, 0, 0, 1, 0, 0, 0, 0],\n",
       "       [1, 2, 1, 1, 0, 0, 0, 0, 1, 0, 1, 0, 0],\n",
       "       [0, 1, 0, 0, 0, 0, 0, 0, 1, 0, 1, 0, 0],\n",
       "       [0, 1, 0, 0, 0, 0, 0, 0, 1, 0, 1, 0, 0],\n",
       "       [0, 1, 0, 1, 1, 1, 0, 0, 0, 0, 1, 0, 0],\n",
       "       [0, 1, 0, 0, 0, 1, 0, 0, 0, 0, 0, 0, 0],\n",
       "       [0, 0, 0, 0, 0, 1, 0, 0, 0, 0, 0, 0, 0],\n",
       "       [0, 0, 0, 0, 0, 1, 1, 1, 0, 0, 0, 0, 0],\n",
       "       [0, 0, 0, 0, 0, 0, 0, 0, 0, 0, 0, 0, 0]])"
      ]
     },
     "execution_count": 114,
     "metadata": {},
     "output_type": "execute_result"
    }
   ],
   "source": [
    "tc2"
   ]
  },
  {
   "cell_type": "code",
   "execution_count": 116,
   "id": "c237e6d3",
   "metadata": {},
   "outputs": [
    {
     "data": {
      "text/plain": [
       "(array([[1, 1, 0, 0, 0, 0, 1, 1, 1, 1, 1, 1, 1],\n",
       "        [0, 1, 1, 3, 1, 1, 1, 0, 0, 0, 0, 0, 0],\n",
       "        [0, 1, 0, 1, 0, 0, 0, 0, 0, 0, 0, 0, 0],\n",
       "        [0, 1, 0, 1, 0, 0, 0, 0, 0, 0, 0, 0, 0],\n",
       "        [1, 1, 0, 1, 0, 0, 0, 0, 0, 0, 0, 0, 0],\n",
       "        [1, 2, 1, 1, 0, 0, 0, 0, 0, 0, 0, 0, 0],\n",
       "        [0, 1, 0, 0, 0, 0, 0, 0, 0, 0, 0, 0, 0],\n",
       "        [0, 1, 0, 0, 0, 0, 0, 0, 0, 0, 0, 0, 0],\n",
       "        [0, 1, 0, 0, 0, 0, 0, 0, 0, 0, 0, 0, 0],\n",
       "        [0, 1, 0, 0, 0, 0, 0, 0, 0, 0, 0, 0, 0],\n",
       "        [0, 0, 0, 0, 0, 0, 0, 0, 0, 0, 0, 0, 0],\n",
       "        [0, 0, 0, 0, 0, 0, 0, 0, 0, 0, 0, 0, 0],\n",
       "        [0, 0, 0, 0, 0, 0, 0, 0, 0, 0, 0, 0, 0]]),\n",
       " True)"
      ]
     },
     "execution_count": 116,
     "metadata": {},
     "output_type": "execute_result"
    }
   ],
   "source": [
    "def afterPruningv2(circuit, wiresets, exhaustedSockets, socketMap):\n",
    "    # From exhausted sockets, get all used connections\n",
    "    # iterate over wirestes and remove all not used\n",
    "\n",
    "    usedSets = set()\n",
    "    for s in exhaustedSockets:\n",
    "        for c in socketMap[s]:\n",
    "            usedSets.add(c)\n",
    "\n",
    "    circuitWasUpdated = False\n",
    "    for i in range(circuit.shape[0]):\n",
    "        for j in range(circuit.shape[1]):\n",
    "            if wiresets[i][j] not in usedSets and circuit[i][j] == 1:\n",
    "                circuit[i][j] = 0\n",
    "                circuitWasUpdated = True\n",
    "\n",
    "    return circuit, circuitWasUpdated\n",
    "\n",
    "afterPruningv2(tc2, wireSets, exhaustedSockets, socketMap) "
   ]
  }
 ],
 "metadata": {
  "kernelspec": {
   "display_name": "venv (3.10.6)",
   "language": "python",
   "name": "python3"
  },
  "language_info": {
   "codemirror_mode": {
    "name": "ipython",
    "version": 3
   },
   "file_extension": ".py",
   "mimetype": "text/x-python",
   "name": "python",
   "nbconvert_exporter": "python",
   "pygments_lexer": "ipython3",
   "version": "3.10.6"
  }
 },
 "nbformat": 4,
 "nbformat_minor": 5
}
