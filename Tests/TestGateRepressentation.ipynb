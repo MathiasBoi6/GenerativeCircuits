{
 "cells": [
  {
   "cell_type": "code",
   "execution_count": 1,
   "id": "096cd23c",
   "metadata": {},
   "outputs": [],
   "source": [
    "import torch\n",
    "import torch.nn as nn\n",
    "from CircuitSimulation.CircuitSimulator import *\n",
    "import numpy as np\n",
    "from diffusers import UNet2DConditionModel\n",
    "import torch.optim as optim\n",
    "import torch.nn.functional as F\n",
    "import matplotlib.pyplot as plt\n",
    "from torch.utils.data import TensorDataset, DataLoader, Dataset\n",
    "from IPython.display import display, clear_output\n",
    "from matplotlib.colors import ListedColormap\n",
    "import hashlib\n",
    "from itertools import combinations\n",
    "from tqdm import tqdm\n",
    "import random\n",
    "from collections import defaultdict\n",
    "import itertools"
   ]
  },
  {
   "cell_type": "code",
   "execution_count": 2,
   "id": "f838775e",
   "metadata": {},
   "outputs": [],
   "source": [
    "mydict = torch.load(\"circuitDict.pt\")"
   ]
  },
  {
   "cell_type": "code",
   "execution_count": 4,
   "id": "1c91dcce",
   "metadata": {},
   "outputs": [],
   "source": [
    "def tablePadding(truthTable):\n",
    "    #Takes a truthtable and adds rows to fix row amount to 16.\n",
    "    rows = truthTable.shape[0]\n",
    "\n",
    "    padding = torch.full((16 - rows, truthTable.shape[1]), 2.0)\n",
    "    return torch.cat((truthTable, padding), dim=0).long()"
   ]
  },
  {
   "cell_type": "code",
   "execution_count": 5,
   "id": "53a31a78",
   "metadata": {},
   "outputs": [],
   "source": [
    "coloum1 = [0, 1, 0, 1]\n",
    "coloum2 = [0, 0, 1, 1]\n",
    "\n",
    "AND = [0,0,0,1]\n",
    "OR = [0,1,1,1]\n",
    "XOR = [0,1,1,0]\n",
    "NAND = [1,1,1,0]\n",
    "NOR = [1,0,0,0]\n",
    "XNOR = [1,0,0,1]"
   ]
  },
  {
   "cell_type": "code",
   "execution_count": 46,
   "id": "932ecedd",
   "metadata": {},
   "outputs": [
    {
     "name": "stdout",
     "output_type": "stream",
     "text": [
      "torch.Size([288, 16, 12])\n"
     ]
    }
   ],
   "source": [
    "# Inputs\n",
    "col1 = torch.tensor([0, 1, 0, 1])\n",
    "col2 = torch.tensor([0, 0, 1, 1])\n",
    "\n",
    "# Gates\n",
    "gates = {\n",
    "    'AND':  torch.logical_and(col1, col2).int(),\n",
    "    'OR':   torch.logical_or(col1, col2).int(),\n",
    "    'XOR':  torch.logical_xor(col1, col2).int(),\n",
    "    'NAND': (~torch.logical_and(col1, col2)).int(),\n",
    "    'NOR':  (~torch.logical_or(col1, col2)).int(),\n",
    "    'XNOR': (~torch.logical_xor(col1, col2)).int(),\n",
    "}\n",
    "\n",
    "input_indices = list(itertools.permutations(range(4), 2))\n",
    "output_indices = list(range(4))\n",
    "\n",
    "results = []\n",
    "metadata = []  # <--- NEW: store metadata\n",
    "\n",
    "for gate_name, gate_output in gates.items():\n",
    "    for in1, in2 in input_indices:\n",
    "        for out_idx in output_indices:\n",
    "            inputs = torch.full((4, 4), 2)\n",
    "            inputs[:, in1] = col1\n",
    "            inputs[:, in2] = col2\n",
    "\n",
    "            middle = torch.full((4, 4), 2)\n",
    "\n",
    "            outputs = torch.full((4, 4), 2)\n",
    "            outputs[:, out_idx] = gate_output\n",
    "\n",
    "            full_table = torch.cat([inputs, middle, outputs], dim=1)  # [4, 12]\n",
    "            results.append(tablePadding(full_table))\n",
    "\n",
    "            # Save the gate used, inputs used, and output column\n",
    "            metadata.append({\n",
    "                'gate': gate_name,\n",
    "                'input_cols': (in1, in2),\n",
    "                'output_col': out_idx\n",
    "            })\n",
    "\n",
    "# Stack results\n",
    "final_tensor = torch.stack(results)  # Shape: [288, 4, 12]\n",
    "print(final_tensor.shape)"
   ]
  },
  {
   "cell_type": "code",
   "execution_count": 47,
   "id": "61bb80bd",
   "metadata": {},
   "outputs": [
    {
     "data": {
      "text/plain": [
       "288"
      ]
     },
     "execution_count": 47,
     "metadata": {},
     "output_type": "execute_result"
    }
   ],
   "source": [
    "numpyGates = final_tensor.numpy()\n",
    "generated_bytes = [table.tobytes() for table in numpyGates]\n",
    "len(generated_bytes)"
   ]
  },
  {
   "cell_type": "code",
   "execution_count": 50,
   "id": "1cf54644",
   "metadata": {},
   "outputs": [
    {
     "name": "stdout",
     "output_type": "stream",
     "text": [
      "Matching entries: [(0, 0), (1, 1), (2, 162), (3, 163), (4, 210), (5, 215), (8, 48), (9, 198), (10, 203), (13, 195), (16, 194), (29, 4), (36, 211), (40, 52), (45, 199), (50, 193), (81, 227), (181, 214), (183, 209), (203, 226), (340, 202), (365, 178), (456, 197), (551, 166), (620, 179), (693, 167), (1009, 155), (1010, 154), (1133, 225), (1326, 213), (1353, 8), (1997, 196), (2623, 201), (2684, 57), (2739, 145), (2832, 150), (2842, 192), (2859, 151), (3646, 161), (3739, 70), (4426, 82), (4504, 50), (4640, 22), (4995, 208), (5338, 66), (5382, 9), (5535, 177), (5832, 224), (5835, 152), (6047, 5), (6090, 65), (6115, 49), (6124, 56), (6182, 81), (6223, 212), (6248, 21)]\n"
     ]
    }
   ],
   "source": [
    "# Step 2: Now compare each dataset item to the generated bytes\n",
    "matches = []\n",
    "for i, item_bytes in enumerate(mydict):\n",
    "    if item_bytes in generated_bytes:\n",
    "        match_idx = generated_bytes.index(item_bytes)\n",
    "        matches.append((i, match_idx))  # (index in dataset, index in generated tables)\n",
    "\n",
    "# Now `matches` contains tuples of matching indices\n",
    "print(\"Matching entries:\", matches)"
   ]
  },
  {
   "cell_type": "code",
   "execution_count": 53,
   "id": "a2b941c8",
   "metadata": {},
   "outputs": [
    {
     "name": "stdout",
     "output_type": "stream",
     "text": [
      "{'gate': 'AND', 'input_cols': (0, 1), 'output_col': 0} (0, 0)\n",
      "{'gate': 'AND', 'input_cols': (0, 1), 'output_col': 1} (1, 1)\n",
      "{'gate': 'NAND', 'input_cols': (1, 2), 'output_col': 2} (2, 162)\n",
      "{'gate': 'NAND', 'input_cols': (1, 2), 'output_col': 3} (3, 163)\n",
      "{'gate': 'NOR', 'input_cols': (1, 2), 'output_col': 2} (4, 210)\n",
      "{'gate': 'NOR', 'input_cols': (1, 3), 'output_col': 3} (5, 215)\n",
      "{'gate': 'OR', 'input_cols': (0, 1), 'output_col': 0} (8, 48)\n",
      "{'gate': 'NOR', 'input_cols': (0, 2), 'output_col': 2} (9, 198)\n",
      "{'gate': 'NOR', 'input_cols': (0, 3), 'output_col': 3} (10, 203)\n",
      "{'gate': 'NOR', 'input_cols': (0, 1), 'output_col': 3} (13, 195)\n",
      "{'gate': 'NOR', 'input_cols': (0, 1), 'output_col': 2} (16, 194)\n",
      "{'gate': 'AND', 'input_cols': (0, 2), 'output_col': 0} (29, 4)\n",
      "{'gate': 'NOR', 'input_cols': (1, 2), 'output_col': 3} (36, 211)\n",
      "{'gate': 'OR', 'input_cols': (0, 2), 'output_col': 0} (40, 52)\n",
      "{'gate': 'NOR', 'input_cols': (0, 2), 'output_col': 3} (45, 199)\n",
      "{'gate': 'NOR', 'input_cols': (0, 1), 'output_col': 1} (50, 193)\n",
      "{'gate': 'NOR', 'input_cols': (2, 3), 'output_col': 3} (81, 227)\n",
      "{'gate': 'NOR', 'input_cols': (1, 3), 'output_col': 2} (181, 214)\n",
      "{'gate': 'NOR', 'input_cols': (1, 2), 'output_col': 1} (183, 209)\n",
      "{'gate': 'NOR', 'input_cols': (2, 3), 'output_col': 2} (203, 226)\n",
      "{'gate': 'NOR', 'input_cols': (0, 3), 'output_col': 2} (340, 202)\n",
      "{'gate': 'NAND', 'input_cols': (2, 3), 'output_col': 2} (365, 178)\n",
      "{'gate': 'NOR', 'input_cols': (0, 2), 'output_col': 1} (456, 197)\n",
      "{'gate': 'NAND', 'input_cols': (1, 3), 'output_col': 2} (551, 166)\n",
      "{'gate': 'NAND', 'input_cols': (2, 3), 'output_col': 3} (620, 179)\n",
      "{'gate': 'NAND', 'input_cols': (1, 3), 'output_col': 3} (693, 167)\n",
      "{'gate': 'NAND', 'input_cols': (0, 3), 'output_col': 3} (1009, 155)\n",
      "{'gate': 'NAND', 'input_cols': (0, 3), 'output_col': 2} (1010, 154)\n",
      "{'gate': 'NOR', 'input_cols': (2, 3), 'output_col': 1} (1133, 225)\n",
      "{'gate': 'NOR', 'input_cols': (1, 3), 'output_col': 1} (1326, 213)\n",
      "{'gate': 'AND', 'input_cols': (0, 3), 'output_col': 0} (1353, 8)\n",
      "{'gate': 'NOR', 'input_cols': (0, 2), 'output_col': 0} (1997, 196)\n",
      "{'gate': 'NOR', 'input_cols': (0, 3), 'output_col': 1} (2623, 201)\n",
      "{'gate': 'OR', 'input_cols': (0, 3), 'output_col': 1} (2684, 57)\n",
      "{'gate': 'NAND', 'input_cols': (0, 1), 'output_col': 1} (2739, 145)\n",
      "{'gate': 'NAND', 'input_cols': (0, 2), 'output_col': 2} (2832, 150)\n",
      "{'gate': 'NOR', 'input_cols': (0, 1), 'output_col': 0} (2842, 192)\n",
      "{'gate': 'NAND', 'input_cols': (0, 2), 'output_col': 3} (2859, 151)\n",
      "{'gate': 'NAND', 'input_cols': (1, 2), 'output_col': 1} (3646, 161)\n",
      "{'gate': 'OR', 'input_cols': (1, 3), 'output_col': 2} (3739, 70)\n",
      "{'gate': 'OR', 'input_cols': (2, 3), 'output_col': 2} (4426, 82)\n",
      "{'gate': 'OR', 'input_cols': (0, 1), 'output_col': 2} (4504, 50)\n",
      "{'gate': 'AND', 'input_cols': (1, 3), 'output_col': 2} (4640, 22)\n",
      "{'gate': 'NOR', 'input_cols': (1, 2), 'output_col': 0} (4995, 208)\n",
      "{'gate': 'OR', 'input_cols': (1, 2), 'output_col': 2} (5338, 66)\n",
      "{'gate': 'AND', 'input_cols': (0, 3), 'output_col': 1} (5382, 9)\n",
      "{'gate': 'NAND', 'input_cols': (2, 3), 'output_col': 1} (5535, 177)\n",
      "{'gate': 'NOR', 'input_cols': (2, 3), 'output_col': 0} (5832, 224)\n",
      "{'gate': 'NAND', 'input_cols': (0, 3), 'output_col': 0} (5835, 152)\n",
      "{'gate': 'AND', 'input_cols': (0, 2), 'output_col': 1} (6047, 5)\n",
      "{'gate': 'OR', 'input_cols': (1, 2), 'output_col': 1} (6090, 65)\n",
      "{'gate': 'OR', 'input_cols': (0, 1), 'output_col': 1} (6115, 49)\n",
      "{'gate': 'OR', 'input_cols': (0, 3), 'output_col': 0} (6124, 56)\n",
      "{'gate': 'OR', 'input_cols': (2, 3), 'output_col': 1} (6182, 81)\n",
      "{'gate': 'NOR', 'input_cols': (1, 3), 'output_col': 0} (6223, 212)\n",
      "{'gate': 'AND', 'input_cols': (1, 3), 'output_col': 1} (6248, 21)\n"
     ]
    }
   ],
   "source": [
    "for j in matches:\n",
    "    #print(j[1])\n",
    "    matched_metadata = metadata[j[1]]\n",
    "    print(matched_metadata, j)"
   ]
  },
  {
   "cell_type": "code",
   "execution_count": 70,
   "id": "d72764f8",
   "metadata": {},
   "outputs": [
    {
     "data": {
      "image/png": "[encoded data removed]",
      "text/plain": [
       "<Figure size 200x200 with 1 Axes>"
      ]
     },
     "metadata": {},
     "output_type": "display_data"
    },
    {
     "name": "stdout",
     "output_type": "stream",
     "text": [
      "tensor([[0, 2, 2, 0, 2, 2, 2, 2, 2, 0, 2, 2],\n",
      "        [1, 2, 2, 0, 2, 2, 2, 2, 2, 0, 2, 2],\n",
      "        [0, 2, 2, 1, 2, 2, 2, 2, 2, 0, 2, 2],\n",
      "        [1, 2, 2, 1, 2, 2, 2, 2, 2, 1, 2, 2],\n",
      "        [2, 2, 2, 2, 2, 2, 2, 2, 2, 2, 2, 2],\n",
      "        [2, 2, 2, 2, 2, 2, 2, 2, 2, 2, 2, 2],\n",
      "        [2, 2, 2, 2, 2, 2, 2, 2, 2, 2, 2, 2],\n",
      "        [2, 2, 2, 2, 2, 2, 2, 2, 2, 2, 2, 2],\n",
      "        [2, 2, 2, 2, 2, 2, 2, 2, 2, 2, 2, 2],\n",
      "        [2, 2, 2, 2, 2, 2, 2, 2, 2, 2, 2, 2],\n",
      "        [2, 2, 2, 2, 2, 2, 2, 2, 2, 2, 2, 2],\n",
      "        [2, 2, 2, 2, 2, 2, 2, 2, 2, 2, 2, 2],\n",
      "        [2, 2, 2, 2, 2, 2, 2, 2, 2, 2, 2, 2],\n",
      "        [2, 2, 2, 2, 2, 2, 2, 2, 2, 2, 2, 2],\n",
      "        [2, 2, 2, 2, 2, 2, 2, 2, 2, 2, 2, 2],\n",
      "        [2, 2, 2, 2, 2, 2, 2, 2, 2, 2, 2, 2]])\n"
     ]
    }
   ],
   "source": [
    "#mydict\n",
    "def printCircuit(circuit):\n",
    "    cmap = ListedColormap(['white', 'black', 'red', 'blue'])\n",
    "    fig, ax = plt.subplots(figsize=(2, 2))\n",
    "\n",
    "    ax.set_xticks([])\n",
    "    ax.set_yticks([])\n",
    "    ax.imshow(circuit, cmap=cmap, interpolation='nearest', vmin=0, vmax=3)\n",
    "    plt.tight_layout()\n",
    "    plt.show()\n",
    "\n",
    "\n",
    "testID = 9\n",
    "probabilityCircuit = mydict[generated_bytes[testID]][0]\n",
    "argmaxCircuit = torch.argmax(probabilityCircuit, dim=0, keepdim=False).cpu().numpy()\n",
    "\n",
    "printCircuit(argmaxCircuit)\n",
    "print(final_tensor[testID])"
   ]
  },
  {
   "cell_type": "code",
   "execution_count": null,
   "id": "b1b69c8a",
   "metadata": {},
   "outputs": [],
   "source": []
  }
 ],
 "metadata": {
  "kernelspec": {
   "display_name": "venv (3.10.6)",
   "language": "python",
   "name": "python3"
  },
  "language_info": {
   "codemirror_mode": {
    "name": "ipython",
    "version": 3
   },
   "file_extension": ".py",
   "mimetype": "text/x-python",
   "name": "python",
   "nbconvert_exporter": "python",
   "pygments_lexer": "ipython3",
   "version": "3.10.6"
  }
 },
 "nbformat": 4,
 "nbformat_minor": 5
}
