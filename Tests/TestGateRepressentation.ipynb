{
 "cells": [
  {
   "cell_type": "code",
   "execution_count": 1,
   "id": "096cd23c",
   "metadata": {},
   "outputs": [],
   "source": [
    "import torch\n",
    "import torch.nn as nn\n",
    "from CircuitSimulation.CircuitSimulator import *\n",
    "import numpy as np\n",
    "from diffusers import UNet2DConditionModel\n",
    "import torch.optim as optim\n",
    "import torch.nn.functional as F\n",
    "import matplotlib.pyplot as plt\n",
    "from torch.utils.data import TensorDataset, DataLoader, Dataset\n",
    "from IPython.display import display, clear_output\n",
    "from matplotlib.colors import ListedColormap\n",
    "import hashlib\n",
    "from itertools import combinations\n",
    "from tqdm import tqdm\n",
    "import random\n",
    "from collections import defaultdict\n",
    "import itertools\n",
    "import os\n",
    "import pickle"
   ]
  },
  {
   "cell_type": "code",
   "execution_count": 2,
   "id": "f838775e",
   "metadata": {},
   "outputs": [],
   "source": [
    "with open(os.path.join(\"output\\\\2025-05-07\", \"SquareLess3_training_data.pkl\"), 'rb') as f:\n",
    "    data = pickle.load(f)\n",
    "mydict = data['trainingDict']"
   ]
  },
  {
   "cell_type": "code",
   "execution_count": 2,
   "id": "1c91dcce",
   "metadata": {},
   "outputs": [],
   "source": [
    "def tablePadding(truthTable):\n",
    "    #Takes a truthtable and adds rows to fix row amount to 16.\n",
    "    rows = truthTable.shape[0]\n",
    "\n",
    "    padding = torch.full((16 - rows, truthTable.shape[1]), 2.0)\n",
    "    return torch.cat((truthTable, padding), dim=0).long()"
   ]
  },
  {
   "cell_type": "code",
   "execution_count": 3,
   "id": "53a31a78",
   "metadata": {},
   "outputs": [],
   "source": [
    "coloum1 = [0, 1, 0, 1]\n",
    "coloum2 = [0, 0, 1, 1]\n",
    "\n",
    "AND = [0,0,0,1]\n",
    "OR = [0,1,1,1]\n",
    "XOR = [0,1,1,0]\n",
    "NAND = [1,1,1,0]\n",
    "NOR = [1,0,0,0]\n",
    "XNOR = [1,0,0,1]"
   ]
  },
  {
   "cell_type": "code",
   "execution_count": 4,
   "id": "932ecedd",
   "metadata": {},
   "outputs": [
    {
     "name": "stdout",
     "output_type": "stream",
     "text": [
      "torch.Size([288, 16, 8])\n"
     ]
    }
   ],
   "source": [
    "# Inputs\n",
    "col1 = torch.tensor([0, 1, 0, 1])\n",
    "col2 = torch.tensor([0, 0, 1, 1])\n",
    "\n",
    "# Gates\n",
    "gates = {\n",
    "    'AND':  torch.logical_and(col1, col2).int(),\n",
    "    'OR':   torch.logical_or(col1, col2).int(),\n",
    "    'XOR':  torch.logical_xor(col1, col2).int(),\n",
    "    'NAND': (~torch.logical_and(col1, col2)).int(),\n",
    "    'NOR':  (~torch.logical_or(col1, col2)).int(),\n",
    "    'XNOR': (~torch.logical_xor(col1, col2)).int(),\n",
    "}\n",
    "\n",
    "input_indices = list(itertools.permutations(range(4), 2))\n",
    "output_indices = list(range(4))\n",
    "\n",
    "results = []\n",
    "metadata = []  # <--- NEW: store metadata\n",
    "\n",
    "for gate_name, gate_output in gates.items():\n",
    "    for in1, in2 in input_indices:\n",
    "        for out_idx in output_indices:\n",
    "            inputs = torch.full((4, 4), 2)\n",
    "            inputs[:, in1] = col1\n",
    "            inputs[:, in2] = col2\n",
    "\n",
    "            outputs = torch.full((4, 4), 2)\n",
    "            outputs[:, out_idx] = gate_output\n",
    "\n",
    "            full_table = torch.cat([inputs, outputs], dim=1)  # [4, 8]\n",
    "            results.append(tablePadding(full_table))\n",
    "\n",
    "            # Save the gate used, inputs used, and output column\n",
    "            metadata.append({\n",
    "                'gate': gate_name,\n",
    "                'input_cols': (in1, in2),\n",
    "                'output_col': out_idx\n",
    "            })\n",
    "\n",
    "# Stack results\n",
    "final_tensor = torch.stack(results)  # Shape: [288, 4, 12]\n",
    "print(final_tensor.shape)"
   ]
  },
  {
   "cell_type": "code",
   "execution_count": 5,
   "id": "66da661d",
   "metadata": {},
   "outputs": [],
   "source": [
    "#metadata \n",
    "#results"
   ]
  },
  {
   "cell_type": "code",
   "execution_count": 6,
   "id": "61bb80bd",
   "metadata": {},
   "outputs": [
    {
     "data": {
      "text/plain": [
       "288"
      ]
     },
     "execution_count": 6,
     "metadata": {},
     "output_type": "execute_result"
    }
   ],
   "source": [
    "numpyGates = final_tensor.numpy()\n",
    "generated_bytes = [table.tobytes() for table in numpyGates]\n",
    "len(generated_bytes)"
   ]
  },
  {
   "cell_type": "code",
   "execution_count": 7,
   "id": "1cf54644",
   "metadata": {},
   "outputs": [
    {
     "ename": "NameError",
     "evalue": "name 'mydict' is not defined",
     "output_type": "error",
     "traceback": [
      "\u001b[1;31m---------------------------------------------------------------------------\u001b[0m",
      "\u001b[1;31mNameError\u001b[0m                                 Traceback (most recent call last)",
      "Cell \u001b[1;32mIn[7], line 3\u001b[0m\n\u001b[0;32m      1\u001b[0m \u001b[38;5;66;03m# Step 2: Now compare each dataset item to the generated bytes\u001b[39;00m\n\u001b[0;32m      2\u001b[0m matches \u001b[38;5;241m=\u001b[39m []\n\u001b[1;32m----> 3\u001b[0m \u001b[38;5;28;01mfor\u001b[39;00m i, item_bytes \u001b[38;5;129;01min\u001b[39;00m \u001b[38;5;28menumerate\u001b[39m(\u001b[43mmydict\u001b[49m):\n\u001b[0;32m      4\u001b[0m     \u001b[38;5;28;01mif\u001b[39;00m item_bytes \u001b[38;5;129;01min\u001b[39;00m generated_bytes:\n\u001b[0;32m      5\u001b[0m         match_idx \u001b[38;5;241m=\u001b[39m generated_bytes\u001b[38;5;241m.\u001b[39mindex(item_bytes)\n",
      "\u001b[1;31mNameError\u001b[0m: name 'mydict' is not defined"
     ]
    }
   ],
   "source": [
    "# Step 2: Now compare each dataset item to the generated bytes\n",
    "matches = []\n",
    "for i, item_bytes in enumerate(mydict):\n",
    "    if item_bytes in generated_bytes:\n",
    "        match_idx = generated_bytes.index(item_bytes)\n",
    "        matches.append((i, match_idx))  # (index in dataset, index in generated tables)\n",
    "\n",
    "# Now `matches` contains tuples of matching indices\n",
    "print(\"Matching entries:\", matches)"
   ]
  },
  {
   "cell_type": "code",
   "execution_count": 8,
   "id": "a2b941c8",
   "metadata": {},
   "outputs": [],
   "source": [
    "for j in matches:\n",
    "    #print(j[1])\n",
    "    matched_metadata = metadata[j[1]]\n",
    "    print(matched_metadata, j)"
   ]
  },
  {
   "cell_type": "code",
   "execution_count": 9,
   "id": "d72764f8",
   "metadata": {},
   "outputs": [
    {
     "ename": "NameError",
     "evalue": "name 'mydict' is not defined",
     "output_type": "error",
     "traceback": [
      "\u001b[1;31m---------------------------------------------------------------------------\u001b[0m",
      "\u001b[1;31mNameError\u001b[0m                                 Traceback (most recent call last)",
      "Cell \u001b[1;32mIn[9], line 14\u001b[0m\n\u001b[0;32m     10\u001b[0m     plt\u001b[38;5;241m.\u001b[39mshow()\n\u001b[0;32m     13\u001b[0m testID \u001b[38;5;241m=\u001b[39m \u001b[38;5;241m57\u001b[39m\n\u001b[1;32m---> 14\u001b[0m probabilityCircuit \u001b[38;5;241m=\u001b[39m \u001b[43mmydict\u001b[49m[generated_bytes[testID]][\u001b[38;5;241m0\u001b[39m]\n\u001b[0;32m     15\u001b[0m argmaxCircuit \u001b[38;5;241m=\u001b[39m torch\u001b[38;5;241m.\u001b[39margmax(probabilityCircuit, dim\u001b[38;5;241m=\u001b[39m\u001b[38;5;241m0\u001b[39m, keepdim\u001b[38;5;241m=\u001b[39m\u001b[38;5;28;01mFalse\u001b[39;00m)\u001b[38;5;241m.\u001b[39mcpu()\u001b[38;5;241m.\u001b[39mnumpy()\n\u001b[0;32m     17\u001b[0m printCircuit(argmaxCircuit)\n",
      "\u001b[1;31mNameError\u001b[0m: name 'mydict' is not defined"
     ]
    }
   ],
   "source": [
    "#mydict\n",
    "def printCircuit(circuit):\n",
    "    cmap = ListedColormap(['white', 'black', 'red', 'blue'])\n",
    "    fig, ax = plt.subplots(figsize=(2, 2))\n",
    "\n",
    "    ax.set_xticks([])\n",
    "    ax.set_yticks([])\n",
    "    ax.imshow(circuit, cmap=cmap, interpolation='nearest', vmin=0, vmax=3)\n",
    "    plt.tight_layout()\n",
    "    plt.show()\n",
    "\n",
    "\n",
    "testID = 57\n",
    "probabilityCircuit = mydict[generated_bytes[testID]][0]\n",
    "argmaxCircuit = torch.argmax(probabilityCircuit, dim=0, keepdim=False).cpu().numpy()\n",
    "\n",
    "printCircuit(argmaxCircuit)\n",
    "print(final_tensor[testID])"
   ]
  },
  {
   "cell_type": "code",
   "execution_count": 103,
   "id": "8b1eec7c",
   "metadata": {},
   "outputs": [
    {
     "data": {
      "text/plain": [
       "48.0"
      ]
     },
     "execution_count": 103,
     "metadata": {},
     "output_type": "execute_result"
    }
   ],
   "source": [
    "288/6"
   ]
  },
  {
   "cell_type": "markdown",
   "id": "46741b71",
   "metadata": {},
   "source": [
    "There should only be 24 differnet ways to make the gate truthtables. The remaining 48-24 are probably because the permuation code considers order important. The matched pairs are still correct, so it doesn't matter too much that the number of tables is inflated. Just the real number is half, 288/2=144."
   ]
  },
  {
   "cell_type": "code",
   "execution_count": 10,
   "id": "2838509a",
   "metadata": {},
   "outputs": [],
   "source": [
    "def count2inpLogicGates(trainingDict):\n",
    "    matches = []\n",
    "    for i, item_bytes in enumerate(trainingDict):\n",
    "        if item_bytes in generated_bytes:\n",
    "            match_idx = generated_bytes.index(item_bytes)\n",
    "            matches.append((i, match_idx))  # (index in dataset, index in generated tables)\n",
    "\n",
    "    gateCount = {}\n",
    "    for j in matches:\n",
    "        matched_metadata = metadata[j[1]]\n",
    "        gateCount[matched_metadata['gate']] = gateCount.get(matched_metadata['gate'], 0) + 1\n",
    "    \n",
    "    return gateCount"
   ]
  },
  {
   "cell_type": "code",
   "execution_count": 11,
   "id": "2257a8cb",
   "metadata": {},
   "outputs": [],
   "source": [
    "def getGateRepresentation(dict):\n",
    "    torch.set_printoptions(precision=2, sci_mode=False)\n",
    "    andGates = torch.zeros((13,13))\n",
    "    nandGates = torch.zeros((13,13))\n",
    "\n",
    "    for _, (circuit, _) in dict.items():\n",
    "        andGates += circuit[2]\n",
    "        nandGates += circuit[3]\n",
    "        \n",
    "    andGates = (andGates != 0).sum().item()\n",
    "    nandGates = (nandGates != 0).sum().item()\n",
    "    \n",
    "    return andGates, nandGates"
   ]
  },
  {
   "cell_type": "code",
   "execution_count": 12,
   "id": "efc8ee31",
   "metadata": {},
   "outputs": [
    {
     "name": "stdout",
     "output_type": "stream",
     "text": [
      "{'AND': 24, 'NAND': 23, 'OR': 24, 'NOR': 20}\n",
      "(81, 26)\n"
     ]
    }
   ],
   "source": [
    "with open(os.path.join(\"output\\\\2025-05-07\", \"SquareLess3_training_data.pkl\"), 'rb') as f:\n",
    "    data = pickle.load(f)\n",
    "print(count2inpLogicGates(data['trainingDict']))\n",
    "print(getGateRepresentation(data['trainingDict']))"
   ]
  },
  {
   "cell_type": "code",
   "execution_count": 11,
   "id": "1baf43dd",
   "metadata": {},
   "outputs": [
    {
     "name": "stdout",
     "output_type": "stream",
     "text": [
      "{'AND': 24, 'OR': 24, 'NAND': 24, 'NOR': 24}\n",
      "(36, 58)\n"
     ]
    }
   ],
   "source": [
    "with open(os.path.join(\"output\\\\2025-05-07\", \"SquareLess2_training_data.pkl\"), 'rb') as f:\n",
    "    data = pickle.load(f)\n",
    "print(count2inpLogicGates(data['trainingDict']))\n",
    "print(getGateRepresentation(data['trainingDict']))"
   ]
  },
  {
   "cell_type": "code",
   "execution_count": 12,
   "id": "22e85b56",
   "metadata": {},
   "outputs": [
    {
     "name": "stdout",
     "output_type": "stream",
     "text": [
      "{'AND': 15, 'NAND': 23, 'NOR': 24, 'OR': 24}\n",
      "(143, 143)\n"
     ]
    }
   ],
   "source": [
    "with open(os.path.join(\"output\\\\2025-05-06\", \"SquareFull2_training_data.pkl\"), 'rb') as f:\n",
    "    data = pickle.load(f)\n",
    "print(count2inpLogicGates(data['trainingDict']))\n",
    "print(getGateRepresentation(data['trainingDict']))"
   ]
  },
  {
   "cell_type": "code",
   "execution_count": 39,
   "id": "60a26a98",
   "metadata": {},
   "outputs": [
    {
     "name": "stdout",
     "output_type": "stream",
     "text": [
      "{'AND': 24, 'NAND': 24, 'OR': 24, 'NOR': 24}\n",
      "(143, 143)\n"
     ]
    }
   ],
   "source": [
    "with open(os.path.join(\"output\\\\2025-05-12\", \"SquareLessLongerv2_training_data.pkl\"), 'rb') as f:\n",
    "    data = pickle.load(f)\n",
    "print(count2inpLogicGates(data['trainingDict']))\n",
    "print(getGateRepresentation(data['trainingDict']))"
   ]
  },
  {
   "cell_type": "code",
   "execution_count": 40,
   "id": "4328a4be",
   "metadata": {},
   "outputs": [
    {
     "name": "stdout",
     "output_type": "stream",
     "text": [
      "{'AND': 14, 'NOR': 18, 'OR': 18, 'NAND': 17}\n",
      "(42, 42)\n"
     ]
    }
   ],
   "source": [
    "with open(os.path.join(\"output\\\\2025-05-13\", \"HigherInference_training_data.pkl\"), 'rb') as f:\n",
    "    data = pickle.load(f)\n",
    "print(count2inpLogicGates(data['trainingDict']))\n",
    "print(getGateRepresentation(data['trainingDict']))"
   ]
  },
  {
   "cell_type": "code",
   "execution_count": 41,
   "id": "9df787c6",
   "metadata": {},
   "outputs": [
    {
     "name": "stdout",
     "output_type": "stream",
     "text": [
      "{'AND': 8, 'NOR': 21, 'NAND': 17, 'OR': 16}\n",
      "(70, 94)\n"
     ]
    }
   ],
   "source": [
    "with open(os.path.join(\"output\\\\2025-05-15\", \"HigherInference_training_data2.pkl\"), 'rb') as f:\n",
    "    data = pickle.load(f)\n",
    "print(count2inpLogicGates(data['trainingDict']))\n",
    "print(getGateRepresentation(data['trainingDict']))"
   ]
  },
  {
   "cell_type": "markdown",
   "id": "8acbdc7a",
   "metadata": {},
   "source": [
    "___\n",
    "Xnor + xor datasets"
   ]
  },
  {
   "cell_type": "code",
   "execution_count": 15,
   "id": "eb805976",
   "metadata": {},
   "outputs": [
    {
     "name": "stdout",
     "output_type": "stream",
     "text": [
      "{'AND': 12, 'XOR': 2, 'XNOR': 3, 'NAND': 16, 'NOR': 15, 'OR': 13}\n",
      "(2, 52)\n"
     ]
    }
   ],
   "source": [
    "with open(os.path.join(\"output\\\\2025-05-30\", \"HighInf_XgatesSet_squarefull_training_data.pkl\"), 'rb') as f:\n",
    "    data = pickle.load(f)\n",
    "print(count2inpLogicGates(data['trainingDict']))\n",
    "print(getGateRepresentation(data['trainingDict']))"
   ]
  },
  {
   "cell_type": "code",
   "execution_count": 16,
   "id": "017ef682",
   "metadata": {},
   "outputs": [
    {
     "name": "stdout",
     "output_type": "stream",
     "text": [
      "{'AND': 11, 'XOR': 5, 'XNOR': 3, 'NOR': 19, 'NAND': 18, 'OR': 13}\n",
      "(3, 61)\n"
     ]
    }
   ],
   "source": [
    "with open(os.path.join(\"output\\\\2025-05-31\", \"HighInf_XgatesSet_squarefull_2_training_data.pkl\"), 'rb') as f:\n",
    "    data = pickle.load(f)\n",
    "print(count2inpLogicGates(data['trainingDict']))\n",
    "print(getGateRepresentation(data['trainingDict']))"
   ]
  },
  {
   "cell_type": "code",
   "execution_count": 18,
   "id": "1e04f7ec",
   "metadata": {},
   "outputs": [
    {
     "name": "stdout",
     "output_type": "stream",
     "text": [
      "{'AND': 11, 'XOR': 10, 'XNOR': 5, 'NAND': 16, 'NOR': 17, 'OR': 17}\n",
      "(4, 63)\n"
     ]
    }
   ],
   "source": [
    "with open(os.path.join(\"output\\\\2025-05-31\", \"HighInf_XgatesSet_squarefull_3_training_data.pkl\"), 'rb') as f:\n",
    "    data = pickle.load(f)\n",
    "print(count2inpLogicGates(data['trainingDict']))\n",
    "print(getGateRepresentation(data['trainingDict']))"
   ]
  },
  {
   "cell_type": "markdown",
   "id": "8bc1af8a",
   "metadata": {},
   "source": [
    "Some observations:\n",
    "3rd version generated quite a few xor and xnor gates.\n",
    "But, all of them use AND components sparringly, at most having used and gates at 4 different positions."
   ]
  },
  {
   "cell_type": "code",
   "execution_count": 20,
   "id": "5f906a3d",
   "metadata": {},
   "outputs": [
    {
     "name": "stdout",
     "output_type": "stream",
     "text": [
      "Matching entries: [(0, 0), (1, 1), (2, 2), (3, 3), (4, 96), (5, 106), (6, 262), (7, 258), (8, 144), (9, 192), (10, 162), (16, 210), (20, 145), (22, 66), (25, 48), (31, 18), (36, 114), (41, 227), (43, 209), (47, 65), (50, 83), (51, 118), (52, 113), (55, 82), (66, 193), (67, 215), (70, 275), (81, 226), (87, 131), (102, 130), (112, 49), (140, 178), (145, 161), (154, 202), (172, 179), (177, 35), (194, 213), (202, 152), (399, 214), (415, 70), (522, 154), (739, 153), (905, 9), (1261, 150), (1385, 148), (1461, 201), (1510, 71), (1682, 5), (1785, 250), (2002, 200), (2219, 165), (2222, 166), (4526, 149), (4799, 194), (4935, 167), (5094, 52), (6504, 59), (7621, 54), (9007, 246), (9531, 102), (10007, 196), (10111, 197), (10158, 69), (10206, 34), (10349, 104), (11288, 6), (12141, 203), (12216, 53), (12253, 57), (13171, 198), (18791, 56), (26085, 155), (35449, 81), (36396, 58), (40702, 22), (41207, 101)]\n"
     ]
    }
   ],
   "source": [
    "mydict = data['trainingDict']\n",
    "\n",
    "\n",
    "matches = []\n",
    "for i, item_bytes in enumerate(mydict):\n",
    "    if item_bytes in generated_bytes:\n",
    "        match_idx = generated_bytes.index(item_bytes)\n",
    "        matches.append((i, match_idx))  # (index in dataset, index in generated tables)\n",
    "\n",
    "# Now `matches` contains tuples of matching indices\n",
    "print(\"Matching entries:\", matches)"
   ]
  },
  {
   "cell_type": "code",
   "execution_count": 21,
   "id": "34062d1c",
   "metadata": {},
   "outputs": [
    {
     "name": "stdout",
     "output_type": "stream",
     "text": [
      "{'gate': 'AND', 'input_cols': (0, 1), 'output_col': 0} (0, 0)\n",
      "{'gate': 'AND', 'input_cols': (0, 1), 'output_col': 1} (1, 1)\n",
      "{'gate': 'AND', 'input_cols': (0, 1), 'output_col': 2} (2, 2)\n",
      "{'gate': 'AND', 'input_cols': (0, 1), 'output_col': 3} (3, 3)\n",
      "{'gate': 'XOR', 'input_cols': (0, 1), 'output_col': 0} (4, 96)\n",
      "{'gate': 'XOR', 'input_cols': (0, 3), 'output_col': 2} (5, 106)\n",
      "{'gate': 'XNOR', 'input_cols': (1, 3), 'output_col': 2} (6, 262)\n",
      "{'gate': 'XNOR', 'input_cols': (1, 2), 'output_col': 2} (7, 258)\n",
      "{'gate': 'NAND', 'input_cols': (0, 1), 'output_col': 0} (8, 144)\n",
      "{'gate': 'NOR', 'input_cols': (0, 1), 'output_col': 0} (9, 192)\n",
      "{'gate': 'NAND', 'input_cols': (1, 2), 'output_col': 2} (10, 162)\n",
      "{'gate': 'NOR', 'input_cols': (1, 2), 'output_col': 2} (16, 210)\n",
      "{'gate': 'NAND', 'input_cols': (0, 1), 'output_col': 1} (20, 145)\n",
      "{'gate': 'OR', 'input_cols': (1, 2), 'output_col': 2} (22, 66)\n",
      "{'gate': 'OR', 'input_cols': (0, 1), 'output_col': 0} (25, 48)\n",
      "{'gate': 'AND', 'input_cols': (1, 2), 'output_col': 2} (31, 18)\n",
      "{'gate': 'XOR', 'input_cols': (1, 2), 'output_col': 2} (36, 114)\n",
      "{'gate': 'NOR', 'input_cols': (2, 3), 'output_col': 3} (41, 227)\n",
      "{'gate': 'NOR', 'input_cols': (1, 2), 'output_col': 1} (43, 209)\n",
      "{'gate': 'OR', 'input_cols': (1, 2), 'output_col': 1} (47, 65)\n",
      "{'gate': 'OR', 'input_cols': (2, 3), 'output_col': 3} (50, 83)\n",
      "{'gate': 'XOR', 'input_cols': (1, 3), 'output_col': 2} (51, 118)\n",
      "{'gate': 'XOR', 'input_cols': (1, 2), 'output_col': 1} (52, 113)\n",
      "{'gate': 'OR', 'input_cols': (2, 3), 'output_col': 2} (55, 82)\n",
      "{'gate': 'NOR', 'input_cols': (0, 1), 'output_col': 1} (66, 193)\n",
      "{'gate': 'NOR', 'input_cols': (1, 3), 'output_col': 3} (67, 215)\n",
      "{'gate': 'XNOR', 'input_cols': (2, 3), 'output_col': 3} (70, 275)\n",
      "{'gate': 'NOR', 'input_cols': (2, 3), 'output_col': 2} (81, 226)\n",
      "{'gate': 'XOR', 'input_cols': (2, 3), 'output_col': 3} (87, 131)\n",
      "{'gate': 'XOR', 'input_cols': (2, 3), 'output_col': 2} (102, 130)\n",
      "{'gate': 'OR', 'input_cols': (0, 1), 'output_col': 1} (112, 49)\n",
      "{'gate': 'NAND', 'input_cols': (2, 3), 'output_col': 2} (140, 178)\n",
      "{'gate': 'NAND', 'input_cols': (1, 2), 'output_col': 1} (145, 161)\n",
      "{'gate': 'NOR', 'input_cols': (0, 3), 'output_col': 2} (154, 202)\n",
      "{'gate': 'NAND', 'input_cols': (2, 3), 'output_col': 3} (172, 179)\n",
      "{'gate': 'AND', 'input_cols': (2, 3), 'output_col': 3} (177, 35)\n",
      "{'gate': 'NOR', 'input_cols': (1, 3), 'output_col': 1} (194, 213)\n",
      "{'gate': 'NAND', 'input_cols': (0, 3), 'output_col': 0} (202, 152)\n",
      "{'gate': 'NOR', 'input_cols': (1, 3), 'output_col': 2} (399, 214)\n",
      "{'gate': 'OR', 'input_cols': (1, 3), 'output_col': 2} (415, 70)\n",
      "{'gate': 'NAND', 'input_cols': (0, 3), 'output_col': 2} (522, 154)\n",
      "{'gate': 'NAND', 'input_cols': (0, 3), 'output_col': 1} (739, 153)\n",
      "{'gate': 'AND', 'input_cols': (0, 3), 'output_col': 1} (905, 9)\n",
      "{'gate': 'NAND', 'input_cols': (0, 2), 'output_col': 2} (1261, 150)\n",
      "{'gate': 'NAND', 'input_cols': (0, 2), 'output_col': 0} (1385, 148)\n",
      "{'gate': 'NOR', 'input_cols': (0, 3), 'output_col': 1} (1461, 201)\n",
      "{'gate': 'OR', 'input_cols': (1, 3), 'output_col': 3} (1510, 71)\n",
      "{'gate': 'AND', 'input_cols': (0, 2), 'output_col': 1} (1682, 5)\n",
      "{'gate': 'XNOR', 'input_cols': (0, 3), 'output_col': 2} (1785, 250)\n",
      "{'gate': 'NOR', 'input_cols': (0, 3), 'output_col': 0} (2002, 200)\n",
      "{'gate': 'NAND', 'input_cols': (1, 3), 'output_col': 1} (2219, 165)\n",
      "{'gate': 'NAND', 'input_cols': (1, 3), 'output_col': 2} (2222, 166)\n",
      "{'gate': 'NAND', 'input_cols': (0, 2), 'output_col': 1} (4526, 149)\n",
      "{'gate': 'NOR', 'input_cols': (0, 1), 'output_col': 2} (4799, 194)\n",
      "{'gate': 'NAND', 'input_cols': (1, 3), 'output_col': 3} (4935, 167)\n",
      "{'gate': 'OR', 'input_cols': (0, 2), 'output_col': 0} (5094, 52)\n",
      "{'gate': 'OR', 'input_cols': (0, 3), 'output_col': 3} (6504, 59)\n",
      "{'gate': 'OR', 'input_cols': (0, 2), 'output_col': 2} (7621, 54)\n",
      "{'gate': 'XNOR', 'input_cols': (0, 2), 'output_col': 2} (9007, 246)\n",
      "{'gate': 'XOR', 'input_cols': (0, 2), 'output_col': 2} (9531, 102)\n",
      "{'gate': 'NOR', 'input_cols': (0, 2), 'output_col': 0} (10007, 196)\n",
      "{'gate': 'NOR', 'input_cols': (0, 2), 'output_col': 1} (10111, 197)\n",
      "{'gate': 'OR', 'input_cols': (1, 3), 'output_col': 1} (10158, 69)\n",
      "{'gate': 'AND', 'input_cols': (2, 3), 'output_col': 2} (10206, 34)\n",
      "{'gate': 'XOR', 'input_cols': (0, 3), 'output_col': 0} (10349, 104)\n",
      "{'gate': 'AND', 'input_cols': (0, 2), 'output_col': 2} (11288, 6)\n",
      "{'gate': 'NOR', 'input_cols': (0, 3), 'output_col': 3} (12141, 203)\n",
      "{'gate': 'OR', 'input_cols': (0, 2), 'output_col': 1} (12216, 53)\n",
      "{'gate': 'OR', 'input_cols': (0, 3), 'output_col': 1} (12253, 57)\n",
      "{'gate': 'NOR', 'input_cols': (0, 2), 'output_col': 2} (13171, 198)\n",
      "{'gate': 'OR', 'input_cols': (0, 3), 'output_col': 0} (18791, 56)\n",
      "{'gate': 'NAND', 'input_cols': (0, 3), 'output_col': 3} (26085, 155)\n",
      "{'gate': 'OR', 'input_cols': (2, 3), 'output_col': 1} (35449, 81)\n",
      "{'gate': 'OR', 'input_cols': (0, 3), 'output_col': 2} (36396, 58)\n",
      "{'gate': 'AND', 'input_cols': (1, 3), 'output_col': 2} (40702, 22)\n",
      "{'gate': 'XOR', 'input_cols': (0, 2), 'output_col': 1} (41207, 101)\n"
     ]
    }
   ],
   "source": [
    "for j in matches:\n",
    "    #print(j[1])\n",
    "    matched_metadata = metadata[j[1]]\n",
    "    print(matched_metadata, j)"
   ]
  },
  {
   "cell_type": "code",
   "execution_count": 38,
   "id": "2c4a34da",
   "metadata": {},
   "outputs": [
    {
     "data": {
      "image/png": "[encoded data removed]",
      "text/plain": [
       "<Figure size 200x200 with 1 Axes>"
      ]
     },
     "metadata": {},
     "output_type": "display_data"
    },
    {
     "name": "stdout",
     "output_type": "stream",
     "text": [
      "tensor([[0, 2, 2, 0, 0, 2, 2, 2],\n",
      "        [1, 2, 2, 0, 1, 2, 2, 2],\n",
      "        [0, 2, 2, 1, 1, 2, 2, 2],\n",
      "        [1, 2, 2, 1, 0, 2, 2, 2],\n",
      "        [2, 2, 2, 2, 2, 2, 2, 2],\n",
      "        [2, 2, 2, 2, 2, 2, 2, 2],\n",
      "        [2, 2, 2, 2, 2, 2, 2, 2],\n",
      "        [2, 2, 2, 2, 2, 2, 2, 2],\n",
      "        [2, 2, 2, 2, 2, 2, 2, 2],\n",
      "        [2, 2, 2, 2, 2, 2, 2, 2],\n",
      "        [2, 2, 2, 2, 2, 2, 2, 2],\n",
      "        [2, 2, 2, 2, 2, 2, 2, 2],\n",
      "        [2, 2, 2, 2, 2, 2, 2, 2],\n",
      "        [2, 2, 2, 2, 2, 2, 2, 2],\n",
      "        [2, 2, 2, 2, 2, 2, 2, 2],\n",
      "        [2, 2, 2, 2, 2, 2, 2, 2]])\n"
     ]
    }
   ],
   "source": [
    "testID = 104\n",
    "probabilityCircuit = mydict[generated_bytes[testID]][0]\n",
    "argmaxCircuit = torch.argmax(probabilityCircuit, dim=0, keepdim=False).cpu().numpy()\n",
    "\n",
    "printCircuit(argmaxCircuit)\n",
    "print(final_tensor[testID])"
   ]
  },
  {
   "cell_type": "code",
   "execution_count": 25,
   "id": "3a852131",
   "metadata": {},
   "outputs": [
    {
     "data": {
      "image/png": "[encoded data removed]",
      "text/plain": [
       "<Figure size 200x200 with 1 Axes>"
      ]
     },
     "metadata": {},
     "output_type": "display_data"
    },
    {
     "name": "stdout",
     "output_type": "stream",
     "text": [
      "tensor([[0, 2, 2, 0, 2, 2, 0, 2],\n",
      "        [1, 2, 2, 0, 2, 2, 1, 2],\n",
      "        [0, 2, 2, 1, 2, 2, 1, 2],\n",
      "        [1, 2, 2, 1, 2, 2, 0, 2],\n",
      "        [2, 2, 2, 2, 2, 2, 2, 2],\n",
      "        [2, 2, 2, 2, 2, 2, 2, 2],\n",
      "        [2, 2, 2, 2, 2, 2, 2, 2],\n",
      "        [2, 2, 2, 2, 2, 2, 2, 2],\n",
      "        [2, 2, 2, 2, 2, 2, 2, 2],\n",
      "        [2, 2, 2, 2, 2, 2, 2, 2],\n",
      "        [2, 2, 2, 2, 2, 2, 2, 2],\n",
      "        [2, 2, 2, 2, 2, 2, 2, 2],\n",
      "        [2, 2, 2, 2, 2, 2, 2, 2],\n",
      "        [2, 2, 2, 2, 2, 2, 2, 2],\n",
      "        [2, 2, 2, 2, 2, 2, 2, 2],\n",
      "        [2, 2, 2, 2, 2, 2, 2, 2]])\n"
     ]
    }
   ],
   "source": [
    "testID = 106\n",
    "probabilityCircuit = mydict[generated_bytes[testID]][0]\n",
    "argmaxCircuit = torch.argmax(probabilityCircuit, dim=0, keepdim=False).cpu().numpy()\n",
    "\n",
    "printCircuit(argmaxCircuit)\n",
    "print(final_tensor[testID])"
   ]
  },
  {
   "cell_type": "code",
   "execution_count": 24,
   "id": "aae5856a",
   "metadata": {},
   "outputs": [
    {
     "data": {
      "image/png": "[encoded data removed]",
      "text/plain": [
       "<Figure size 200x200 with 1 Axes>"
      ]
     },
     "metadata": {},
     "output_type": "display_data"
    },
    {
     "name": "stdout",
     "output_type": "stream",
     "text": [
      "tensor([[0, 0, 2, 2, 0, 2, 2, 2],\n",
      "        [1, 0, 2, 2, 1, 2, 2, 2],\n",
      "        [0, 1, 2, 2, 1, 2, 2, 2],\n",
      "        [1, 1, 2, 2, 0, 2, 2, 2],\n",
      "        [2, 2, 2, 2, 2, 2, 2, 2],\n",
      "        [2, 2, 2, 2, 2, 2, 2, 2],\n",
      "        [2, 2, 2, 2, 2, 2, 2, 2],\n",
      "        [2, 2, 2, 2, 2, 2, 2, 2],\n",
      "        [2, 2, 2, 2, 2, 2, 2, 2],\n",
      "        [2, 2, 2, 2, 2, 2, 2, 2],\n",
      "        [2, 2, 2, 2, 2, 2, 2, 2],\n",
      "        [2, 2, 2, 2, 2, 2, 2, 2],\n",
      "        [2, 2, 2, 2, 2, 2, 2, 2],\n",
      "        [2, 2, 2, 2, 2, 2, 2, 2],\n",
      "        [2, 2, 2, 2, 2, 2, 2, 2],\n",
      "        [2, 2, 2, 2, 2, 2, 2, 2]])\n"
     ]
    }
   ],
   "source": [
    "testID = 96\n",
    "probabilityCircuit = mydict[generated_bytes[testID]][0]\n",
    "argmaxCircuit = torch.argmax(probabilityCircuit, dim=0, keepdim=False).cpu().numpy()\n",
    "\n",
    "printCircuit(argmaxCircuit)\n",
    "print(final_tensor[testID])"
   ]
  },
  {
   "cell_type": "markdown",
   "id": "ded9a2dc",
   "metadata": {},
   "source": [
    "_____\n",
    "img for report"
   ]
  },
  {
   "cell_type": "code",
   "execution_count": 108,
   "id": "36d0e799",
   "metadata": {},
   "outputs": [
    {
     "data": {
      "image/png": "[encoded data removed]",
      "text/plain": [
       "<Figure size 1200x250 with 6 Axes>"
      ]
     },
     "metadata": {},
     "output_type": "display_data"
    }
   ],
   "source": [
    "# 96, 106 | 101, 102, 104, 113, 114, 118, 130, 131\n",
    "\n",
    "\n",
    "\n",
    "\n",
    "\n",
    "import matplotlib.pyplot as plt\n",
    "from matplotlib.colors import ListedColormap\n",
    "import numpy as np\n",
    "import torch\n",
    "\n",
    "# IDs to display\n",
    "ids_left = [96, 106]\n",
    "ids_right = [101, 102, 104, 113]\n",
    "ids = ids_left + ids_right\n",
    "\n",
    "# Helper function\n",
    "def get_argmax_circuit(testID):\n",
    "    probabilityCircuit = mydict[generated_bytes[testID]][0]\n",
    "    return torch.argmax(probabilityCircuit, dim=0, keepdim=False).cpu().numpy()\n",
    "\n",
    "# Plot settings\n",
    "cols = len(ids)\n",
    "fig, axes = plt.subplots(1, cols, figsize=(cols * 2, 2.5))\n",
    "cmap = ListedColormap(['white', 'black', 'red', 'blue'])\n",
    "\n",
    "# Plot each circuit\n",
    "for idx, testID in enumerate(ids):\n",
    "    circuit = get_argmax_circuit(testID)\n",
    "    ax = axes[idx]\n",
    "    ax.imshow(circuit, cmap=cmap, interpolation='nearest', vmin=0, vmax=3)\n",
    "    #ax.set_title(f\"ID {testID}\", fontsize=8)\n",
    "    ax.set_xticks([])\n",
    "    ax.set_yticks([])\n",
    "\n",
    "# Add vertical separator between left and right groups\n",
    "bbox1 = axes[len(ids_left) - 1].get_position()\n",
    "bbox2 = axes[len(ids_left)].get_position()\n",
    "x = (bbox1.x1 + bbox2.x0) / 2\n",
    "fig.add_artist(plt.Line2D([x, x], [0.2, 0.8], color='gray', linewidth=4, transform=fig.transFigure))\n",
    "\n",
    "# Add group titles\n",
    "fig.text(x / 1.5, 0.85, \"Training XOR\", ha='center', va='bottom', fontsize=12, weight='bold')\n",
    "fig.text((bbox2.x0 + axes[-1].get_position().x1) / 2, 0.85, \"Some generated XOR\", ha='center', va='bottom', fontsize=12, weight='bold')\n",
    "\n",
    "\n",
    "plt.show()\n"
   ]
  }
 ],
 "metadata": {
  "kernelspec": {
   "display_name": "venv (3.10.6)",
   "language": "python",
   "name": "python3"
  },
  "language_info": {
   "codemirror_mode": {
    "name": "ipython",
    "version": 3
   },
   "file_extension": ".py",
   "mimetype": "text/x-python",
   "name": "python",
   "nbconvert_exporter": "python",
   "pygments_lexer": "ipython3",
   "version": "3.10.6"
  }
 },
 "nbformat": 4,
 "nbformat_minor": 5
}
