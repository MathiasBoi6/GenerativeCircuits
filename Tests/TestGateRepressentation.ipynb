{
 "cells": [
  {
   "cell_type": "code",
   "execution_count": 1,
   "id": "096cd23c",
   "metadata": {},
   "outputs": [],
   "source": [
    "import torch\n",
    "import torch.nn as nn\n",
    "from CircuitSimulation.CircuitSimulator import *\n",
    "import numpy as np\n",
    "from diffusers import UNet2DConditionModel\n",
    "import torch.optim as optim\n",
    "import torch.nn.functional as F\n",
    "import matplotlib.pyplot as plt\n",
    "from torch.utils.data import TensorDataset, DataLoader, Dataset\n",
    "from IPython.display import display, clear_output\n",
    "from matplotlib.colors import ListedColormap\n",
    "import hashlib\n",
    "from itertools import combinations\n",
    "from tqdm import tqdm\n",
    "import random\n",
    "from collections import defaultdict\n",
    "import itertools\n",
    "import os\n",
    "import pickle"
   ]
  },
  {
   "cell_type": "code",
   "execution_count": 2,
   "id": "f838775e",
   "metadata": {},
   "outputs": [],
   "source": [
    "with open(os.path.join(\"output\\\\2025-05-07\", \"SquareLess3_training_data.pkl\"), 'rb') as f:\n",
    "    data = pickle.load(f)\n",
    "mydict = data['trainingDict']"
   ]
  },
  {
   "cell_type": "code",
   "execution_count": 22,
   "id": "1c91dcce",
   "metadata": {},
   "outputs": [],
   "source": [
    "def tablePadding(truthTable):\n",
    "    #Takes a truthtable and adds rows to fix row amount to 16.\n",
    "    rows = truthTable.shape[0]\n",
    "\n",
    "    padding = torch.full((16 - rows, truthTable.shape[1]), 2.0)\n",
    "    return torch.cat((truthTable, padding), dim=0).long()"
   ]
  },
  {
   "cell_type": "code",
   "execution_count": 23,
   "id": "53a31a78",
   "metadata": {},
   "outputs": [],
   "source": [
    "coloum1 = [0, 1, 0, 1]\n",
    "coloum2 = [0, 0, 1, 1]\n",
    "\n",
    "AND = [0,0,0,1]\n",
    "OR = [0,1,1,1]\n",
    "XOR = [0,1,1,0]\n",
    "NAND = [1,1,1,0]\n",
    "NOR = [1,0,0,0]\n",
    "XNOR = [1,0,0,1]"
   ]
  },
  {
   "cell_type": "code",
   "execution_count": 24,
   "id": "932ecedd",
   "metadata": {},
   "outputs": [
    {
     "name": "stdout",
     "output_type": "stream",
     "text": [
      "torch.Size([288, 16, 8])\n"
     ]
    }
   ],
   "source": [
    "# Inputs\n",
    "col1 = torch.tensor([0, 1, 0, 1])\n",
    "col2 = torch.tensor([0, 0, 1, 1])\n",
    "\n",
    "# Gates\n",
    "gates = {\n",
    "    'AND':  torch.logical_and(col1, col2).int(),\n",
    "    'OR':   torch.logical_or(col1, col2).int(),\n",
    "    'XOR':  torch.logical_xor(col1, col2).int(),\n",
    "    'NAND': (~torch.logical_and(col1, col2)).int(),\n",
    "    'NOR':  (~torch.logical_or(col1, col2)).int(),\n",
    "    'XNOR': (~torch.logical_xor(col1, col2)).int(),\n",
    "}\n",
    "\n",
    "input_indices = list(itertools.permutations(range(4), 2))\n",
    "output_indices = list(range(4))\n",
    "\n",
    "results = []\n",
    "metadata = []  # <--- NEW: store metadata\n",
    "\n",
    "for gate_name, gate_output in gates.items():\n",
    "    for in1, in2 in input_indices:\n",
    "        for out_idx in output_indices:\n",
    "            inputs = torch.full((4, 4), 2)\n",
    "            inputs[:, in1] = col1\n",
    "            inputs[:, in2] = col2\n",
    "\n",
    "            outputs = torch.full((4, 4), 2)\n",
    "            outputs[:, out_idx] = gate_output\n",
    "\n",
    "            full_table = torch.cat([inputs, outputs], dim=1)  # [4, 8]\n",
    "            results.append(tablePadding(full_table))\n",
    "\n",
    "            # Save the gate used, inputs used, and output column\n",
    "            metadata.append({\n",
    "                'gate': gate_name,\n",
    "                'input_cols': (in1, in2),\n",
    "                'output_col': out_idx\n",
    "            })\n",
    "\n",
    "# Stack results\n",
    "final_tensor = torch.stack(results)  # Shape: [288, 4, 12]\n",
    "print(final_tensor.shape)"
   ]
  },
  {
   "cell_type": "code",
   "execution_count": 78,
   "id": "66da661d",
   "metadata": {},
   "outputs": [],
   "source": [
    "#metadata \n",
    "#results"
   ]
  },
  {
   "cell_type": "code",
   "execution_count": 25,
   "id": "61bb80bd",
   "metadata": {},
   "outputs": [
    {
     "data": {
      "text/plain": [
       "288"
      ]
     },
     "execution_count": 25,
     "metadata": {},
     "output_type": "execute_result"
    }
   ],
   "source": [
    "numpyGates = final_tensor.numpy()\n",
    "generated_bytes = [table.tobytes() for table in numpyGates]\n",
    "len(generated_bytes)"
   ]
  },
  {
   "cell_type": "code",
   "execution_count": 80,
   "id": "1cf54644",
   "metadata": {},
   "outputs": [
    {
     "name": "stdout",
     "output_type": "stream",
     "text": [
      "Matching entries: [(0, 0), (1, 1), (2, 2), (3, 3), (4, 167), (5, 162), (6, 179), (10, 49), (11, 178), (12, 166), (15, 210), (20, 50), (27, 48), (32, 194), (33, 65), (35, 66), (61, 18), (80, 214), (120, 70), (165, 69), (213, 21), (311, 71), (334, 51), (425, 211), (438, 163), (458, 215), (463, 195), (481, 17), (519, 22), (566, 67), (753, 177), (796, 19), (1129, 199), (1230, 198), (1237, 203), (1264, 23), (1280, 151), (1353, 35), (1357, 64), (1359, 83), (1376, 68), (1411, 150), (1436, 53), (1480, 8), (1527, 193), (1535, 154), (1598, 153), (1652, 4), (1813, 227), (1821, 165), (1841, 226), (1895, 202), (1900, 16), (1913, 55), (1960, 52), (1962, 34), (2033, 145), (2054, 155), (2079, 82), (2205, 197), (2229, 176), (2332, 54), (2340, 7), (2497, 33), (2683, 6), (2715, 20), (2740, 81), (2797, 201), (2868, 58), (3412, 32), (3414, 5), (3438, 80), (3574, 213), (3761, 164), (3899, 209), (3937, 149), (3951, 225), (4015, 146), (4189, 192), (4256, 56), (4432, 152), (4516, 59), (4523, 9), (4567, 57), (4620, 11), (4651, 144), (4950, 161), (5174, 208), (5181, 148), (5268, 10), (5537, 160)]\n"
     ]
    }
   ],
   "source": [
    "# Step 2: Now compare each dataset item to the generated bytes\n",
    "matches = []\n",
    "for i, item_bytes in enumerate(mydict):\n",
    "    if item_bytes in generated_bytes:\n",
    "        match_idx = generated_bytes.index(item_bytes)\n",
    "        matches.append((i, match_idx))  # (index in dataset, index in generated tables)\n",
    "\n",
    "# Now `matches` contains tuples of matching indices\n",
    "print(\"Matching entries:\", matches)"
   ]
  },
  {
   "cell_type": "code",
   "execution_count": null,
   "id": "a2b941c8",
   "metadata": {},
   "outputs": [
    {
     "name": "stdout",
     "output_type": "stream",
     "text": [
      "{'gate': 'AND', 'input_cols': (0, 1), 'output_col': 0} (0, 0)\n",
      "{'gate': 'AND', 'input_cols': (0, 1), 'output_col': 1} (1, 1)\n",
      "{'gate': 'AND', 'input_cols': (0, 1), 'output_col': 2} (2, 2)\n",
      "{'gate': 'AND', 'input_cols': (0, 1), 'output_col': 3} (3, 3)\n",
      "{'gate': 'NAND', 'input_cols': (1, 3), 'output_col': 3} (4, 167)\n",
      "{'gate': 'NAND', 'input_cols': (1, 2), 'output_col': 2} (5, 162)\n",
      "{'gate': 'NAND', 'input_cols': (2, 3), 'output_col': 3} (6, 179)\n",
      "{'gate': 'OR', 'input_cols': (0, 1), 'output_col': 1} (10, 49)\n",
      "{'gate': 'NAND', 'input_cols': (2, 3), 'output_col': 2} (11, 178)\n",
      "{'gate': 'NAND', 'input_cols': (1, 3), 'output_col': 2} (12, 166)\n",
      "{'gate': 'NOR', 'input_cols': (1, 2), 'output_col': 2} (15, 210)\n",
      "{'gate': 'OR', 'input_cols': (0, 1), 'output_col': 2} (20, 50)\n",
      "{'gate': 'OR', 'input_cols': (0, 1), 'output_col': 0} (27, 48)\n",
      "{'gate': 'NOR', 'input_cols': (0, 1), 'output_col': 2} (32, 194)\n",
      "{'gate': 'OR', 'input_cols': (1, 2), 'output_col': 1} (33, 65)\n",
      "{'gate': 'OR', 'input_cols': (1, 2), 'output_col': 2} (35, 66)\n",
      "{'gate': 'AND', 'input_cols': (1, 2), 'output_col': 2} (61, 18)\n",
      "{'gate': 'NOR', 'input_cols': (1, 3), 'output_col': 2} (80, 214)\n",
      "{'gate': 'OR', 'input_cols': (1, 3), 'output_col': 2} (120, 70)\n",
      "{'gate': 'OR', 'input_cols': (1, 3), 'output_col': 1} (165, 69)\n",
      "{'gate': 'AND', 'input_cols': (1, 3), 'output_col': 1} (213, 21)\n",
      "{'gate': 'OR', 'input_cols': (1, 3), 'output_col': 3} (311, 71)\n",
      "{'gate': 'OR', 'input_cols': (0, 1), 'output_col': 3} (334, 51)\n",
      "{'gate': 'NOR', 'input_cols': (1, 2), 'output_col': 3} (425, 211)\n",
      "{'gate': 'NAND', 'input_cols': (1, 2), 'output_col': 3} (438, 163)\n",
      "{'gate': 'NOR', 'input_cols': (1, 3), 'output_col': 3} (458, 215)\n",
      "{'gate': 'NOR', 'input_cols': (0, 1), 'output_col': 3} (463, 195)\n",
      "{'gate': 'AND', 'input_cols': (1, 2), 'output_col': 1} (481, 17)\n",
      "{'gate': 'AND', 'input_cols': (1, 3), 'output_col': 2} (519, 22)\n",
      "{'gate': 'OR', 'input_cols': (1, 2), 'output_col': 3} (566, 67)\n",
      "{'gate': 'NAND', 'input_cols': (2, 3), 'output_col': 1} (753, 177)\n",
      "{'gate': 'AND', 'input_cols': (1, 2), 'output_col': 3} (796, 19)\n",
      "{'gate': 'NOR', 'input_cols': (0, 2), 'output_col': 3} (1129, 199)\n",
      "{'gate': 'NOR', 'input_cols': (0, 2), 'output_col': 2} (1230, 198)\n",
      "{'gate': 'NOR', 'input_cols': (0, 3), 'output_col': 3} (1237, 203)\n",
      "{'gate': 'AND', 'input_cols': (1, 3), 'output_col': 3} (1264, 23)\n",
      "{'gate': 'NAND', 'input_cols': (0, 2), 'output_col': 3} (1280, 151)\n",
      "{'gate': 'AND', 'input_cols': (2, 3), 'output_col': 3} (1353, 35)\n",
      "{'gate': 'OR', 'input_cols': (1, 2), 'output_col': 0} (1357, 64)\n",
      "{'gate': 'OR', 'input_cols': (2, 3), 'output_col': 3} (1359, 83)\n",
      "{'gate': 'OR', 'input_cols': (1, 3), 'output_col': 0} (1376, 68)\n",
      "{'gate': 'NAND', 'input_cols': (0, 2), 'output_col': 2} (1411, 150)\n",
      "{'gate': 'OR', 'input_cols': (0, 2), 'output_col': 1} (1436, 53)\n",
      "{'gate': 'AND', 'input_cols': (0, 3), 'output_col': 0} (1480, 8)\n",
      "{'gate': 'NOR', 'input_cols': (0, 1), 'output_col': 1} (1527, 193)\n",
      "{'gate': 'NAND', 'input_cols': (0, 3), 'output_col': 2} (1535, 154)\n",
      "{'gate': 'NAND', 'input_cols': (0, 3), 'output_col': 1} (1598, 153)\n",
      "{'gate': 'AND', 'input_cols': (0, 2), 'output_col': 0} (1652, 4)\n",
      "{'gate': 'NOR', 'input_cols': (2, 3), 'output_col': 3} (1813, 227)\n",
      "{'gate': 'NAND', 'input_cols': (1, 3), 'output_col': 1} (1821, 165)\n",
      "{'gate': 'NOR', 'input_cols': (2, 3), 'output_col': 2} (1841, 226)\n",
      "{'gate': 'NOR', 'input_cols': (0, 3), 'output_col': 2} (1895, 202)\n",
      "{'gate': 'AND', 'input_cols': (1, 2), 'output_col': 0} (1900, 16)\n",
      "{'gate': 'OR', 'input_cols': (0, 2), 'output_col': 3} (1913, 55)\n",
      "{'gate': 'OR', 'input_cols': (0, 2), 'output_col': 0} (1960, 52)\n",
      "{'gate': 'AND', 'input_cols': (2, 3), 'output_col': 2} (1962, 34)\n",
      "{'gate': 'NAND', 'input_cols': (0, 1), 'output_col': 1} (2033, 145)\n",
      "{'gate': 'NAND', 'input_cols': (0, 3), 'output_col': 3} (2054, 155)\n",
      "{'gate': 'OR', 'input_cols': (2, 3), 'output_col': 2} (2079, 82)\n",
      "{'gate': 'NOR', 'input_cols': (0, 2), 'output_col': 1} (2205, 197)\n",
      "{'gate': 'NAND', 'input_cols': (2, 3), 'output_col': 0} (2229, 176)\n",
      "{'gate': 'OR', 'input_cols': (0, 2), 'output_col': 2} (2332, 54)\n",
      "{'gate': 'AND', 'input_cols': (0, 2), 'output_col': 3} (2340, 7)\n",
      "{'gate': 'AND', 'input_cols': (2, 3), 'output_col': 1} (2497, 33)\n",
      "{'gate': 'AND', 'input_cols': (0, 2), 'output_col': 2} (2683, 6)\n",
      "{'gate': 'AND', 'input_cols': (1, 3), 'output_col': 0} (2715, 20)\n",
      "{'gate': 'OR', 'input_cols': (2, 3), 'output_col': 1} (2740, 81)\n",
      "{'gate': 'NOR', 'input_cols': (0, 3), 'output_col': 1} (2797, 201)\n",
      "{'gate': 'OR', 'input_cols': (0, 3), 'output_col': 2} (2868, 58)\n",
      "{'gate': 'AND', 'input_cols': (2, 3), 'output_col': 0} (3412, 32)\n",
      "{'gate': 'AND', 'input_cols': (0, 2), 'output_col': 1} (3414, 5)\n",
      "{'gate': 'OR', 'input_cols': (2, 3), 'output_col': 0} (3438, 80)\n",
      "{'gate': 'NOR', 'input_cols': (1, 3), 'output_col': 1} (3574, 213)\n",
      "{'gate': 'NAND', 'input_cols': (1, 3), 'output_col': 0} (3761, 164)\n",
      "{'gate': 'NOR', 'input_cols': (1, 2), 'output_col': 1} (3899, 209)\n",
      "{'gate': 'NAND', 'input_cols': (0, 2), 'output_col': 1} (3937, 149)\n",
      "{'gate': 'NOR', 'input_cols': (2, 3), 'output_col': 1} (3951, 225)\n",
      "{'gate': 'NAND', 'input_cols': (0, 1), 'output_col': 2} (4015, 146)\n",
      "{'gate': 'NOR', 'input_cols': (0, 1), 'output_col': 0} (4189, 192)\n",
      "{'gate': 'OR', 'input_cols': (0, 3), 'output_col': 0} (4256, 56)\n",
      "{'gate': 'NAND', 'input_cols': (0, 3), 'output_col': 0} (4432, 152)\n",
      "{'gate': 'OR', 'input_cols': (0, 3), 'output_col': 3} (4516, 59)\n",
      "{'gate': 'AND', 'input_cols': (0, 3), 'output_col': 1} (4523, 9)\n",
      "{'gate': 'OR', 'input_cols': (0, 3), 'output_col': 1} (4567, 57)\n",
      "{'gate': 'AND', 'input_cols': (0, 3), 'output_col': 3} (4620, 11)\n",
      "{'gate': 'NAND', 'input_cols': (0, 1), 'output_col': 0} (4651, 144)\n",
      "{'gate': 'NAND', 'input_cols': (1, 2), 'output_col': 1} (4950, 161)\n",
      "{'gate': 'NOR', 'input_cols': (1, 2), 'output_col': 0} (5174, 208)\n",
      "{'gate': 'NAND', 'input_cols': (0, 2), 'output_col': 0} (5181, 148)\n",
      "{'gate': 'AND', 'input_cols': (0, 3), 'output_col': 2} (5268, 10)\n",
      "{'gate': 'NAND', 'input_cols': (1, 2), 'output_col': 0} (5537, 160)\n"
     ]
    }
   ],
   "source": [
    "for j in matches:\n",
    "    #print(j[1])\n",
    "    matched_metadata = metadata[j[1]]\n",
    "    print(matched_metadata, j)"
   ]
  },
  {
   "cell_type": "code",
   "execution_count": 132,
   "id": "d72764f8",
   "metadata": {},
   "outputs": [
    {
     "data": {
      "image/png": "[encoded data removed]",
      "text/plain": [
       "<Figure size 200x200 with 1 Axes>"
      ]
     },
     "metadata": {},
     "output_type": "display_data"
    },
    {
     "name": "stdout",
     "output_type": "stream",
     "text": [
      "tensor([[0, 2, 2, 0, 2, 0, 2, 2],\n",
      "        [1, 2, 2, 0, 2, 1, 2, 2],\n",
      "        [0, 2, 2, 1, 2, 1, 2, 2],\n",
      "        [1, 2, 2, 1, 2, 1, 2, 2],\n",
      "        [2, 2, 2, 2, 2, 2, 2, 2],\n",
      "        [2, 2, 2, 2, 2, 2, 2, 2],\n",
      "        [2, 2, 2, 2, 2, 2, 2, 2],\n",
      "        [2, 2, 2, 2, 2, 2, 2, 2],\n",
      "        [2, 2, 2, 2, 2, 2, 2, 2],\n",
      "        [2, 2, 2, 2, 2, 2, 2, 2],\n",
      "        [2, 2, 2, 2, 2, 2, 2, 2],\n",
      "        [2, 2, 2, 2, 2, 2, 2, 2],\n",
      "        [2, 2, 2, 2, 2, 2, 2, 2],\n",
      "        [2, 2, 2, 2, 2, 2, 2, 2],\n",
      "        [2, 2, 2, 2, 2, 2, 2, 2],\n",
      "        [2, 2, 2, 2, 2, 2, 2, 2]])\n"
     ]
    }
   ],
   "source": [
    "#mydict\n",
    "def printCircuit(circuit):\n",
    "    cmap = ListedColormap(['white', 'black', 'red', 'blue'])\n",
    "    fig, ax = plt.subplots(figsize=(2, 2))\n",
    "\n",
    "    ax.set_xticks([])\n",
    "    ax.set_yticks([])\n",
    "    ax.imshow(circuit, cmap=cmap, interpolation='nearest', vmin=0, vmax=3)\n",
    "    plt.tight_layout()\n",
    "    plt.show()\n",
    "\n",
    "\n",
    "testID = 57\n",
    "probabilityCircuit = mydict[generated_bytes[testID]][0]\n",
    "argmaxCircuit = torch.argmax(probabilityCircuit, dim=0, keepdim=False).cpu().numpy()\n",
    "\n",
    "printCircuit(argmaxCircuit)\n",
    "print(final_tensor[testID])"
   ]
  },
  {
   "cell_type": "code",
   "execution_count": 103,
   "id": "8b1eec7c",
   "metadata": {},
   "outputs": [
    {
     "data": {
      "text/plain": [
       "48.0"
      ]
     },
     "execution_count": 103,
     "metadata": {},
     "output_type": "execute_result"
    }
   ],
   "source": [
    "288/6"
   ]
  },
  {
   "cell_type": "markdown",
   "id": "46741b71",
   "metadata": {},
   "source": [
    "There should only be 24 differnet ways to make the gate truthtables. The remaining 48-24 are probably because the permuation code considers order important. The matched pairs are still correct, so it doesn't matter too much that the number of tables is inflated. Just the real number is half, 288/2=144."
   ]
  },
  {
   "cell_type": "code",
   "execution_count": 26,
   "id": "2838509a",
   "metadata": {},
   "outputs": [],
   "source": [
    "def count2inpLogicGates(trainingDict):\n",
    "    matches = []\n",
    "    for i, item_bytes in enumerate(trainingDict):\n",
    "        if item_bytes in generated_bytes:\n",
    "            match_idx = generated_bytes.index(item_bytes)\n",
    "            matches.append((i, match_idx))  # (index in dataset, index in generated tables)\n",
    "\n",
    "    gateCount = {}\n",
    "    for j in matches:\n",
    "        matched_metadata = metadata[j[1]]\n",
    "        gateCount[matched_metadata['gate']] = gateCount.get(matched_metadata['gate'], 0) + 1\n",
    "    \n",
    "    return gateCount"
   ]
  },
  {
   "cell_type": "code",
   "execution_count": 36,
   "id": "2257a8cb",
   "metadata": {},
   "outputs": [],
   "source": [
    "def getGateRepresentation(dict):\n",
    "    torch.set_printoptions(precision=2, sci_mode=False)\n",
    "    andGates = torch.zeros((13,13))\n",
    "    nandGates = torch.zeros((13,13))\n",
    "\n",
    "    for _, (circuit, _) in dict.items():\n",
    "        andGates += circuit[2]\n",
    "        nandGates += circuit[3]\n",
    "        \n",
    "    andGates = (andGates != 0).sum().item()\n",
    "    nandGates = (nandGates != 0).sum().item()\n",
    "    \n",
    "    return andGates, nandGates"
   ]
  },
  {
   "cell_type": "code",
   "execution_count": 37,
   "id": "efc8ee31",
   "metadata": {},
   "outputs": [
    {
     "name": "stdout",
     "output_type": "stream",
     "text": [
      "{'AND': 24, 'NAND': 23, 'OR': 24, 'NOR': 20}\n",
      "(81, 26)\n"
     ]
    }
   ],
   "source": [
    "with open(os.path.join(\"output\\\\2025-05-07\", \"SquareLess3_training_data.pkl\"), 'rb') as f:\n",
    "    data = pickle.load(f)\n",
    "print(count2inpLogicGates(data['trainingDict']))\n",
    "print(getGateRepresentation(data['trainingDict']))"
   ]
  },
  {
   "cell_type": "code",
   "execution_count": 38,
   "id": "1baf43dd",
   "metadata": {},
   "outputs": [
    {
     "name": "stdout",
     "output_type": "stream",
     "text": [
      "{'AND': 24, 'OR': 24, 'NAND': 24, 'NOR': 24}\n",
      "(36, 58)\n"
     ]
    }
   ],
   "source": [
    "with open(os.path.join(\"output\\\\2025-05-07\", \"SquareLess2_training_data.pkl\"), 'rb') as f:\n",
    "    data = pickle.load(f)\n",
    "print(count2inpLogicGates(data['trainingDict']))\n",
    "print(getGateRepresentation(data['trainingDict']))"
   ]
  },
  {
   "cell_type": "code",
   "execution_count": 39,
   "id": "60a26a98",
   "metadata": {},
   "outputs": [
    {
     "name": "stdout",
     "output_type": "stream",
     "text": [
      "{'AND': 24, 'NAND': 24, 'OR': 24, 'NOR': 24}\n",
      "(143, 143)\n"
     ]
    }
   ],
   "source": [
    "with open(os.path.join(\"output\\\\2025-05-12\", \"SquareLessLongerv2_training_data.pkl\"), 'rb') as f:\n",
    "    data = pickle.load(f)\n",
    "print(count2inpLogicGates(data['trainingDict']))\n",
    "print(getGateRepresentation(data['trainingDict']))"
   ]
  },
  {
   "cell_type": "code",
   "execution_count": 40,
   "id": "4328a4be",
   "metadata": {},
   "outputs": [
    {
     "name": "stdout",
     "output_type": "stream",
     "text": [
      "{'AND': 14, 'NOR': 18, 'OR': 18, 'NAND': 17}\n",
      "(42, 42)\n"
     ]
    }
   ],
   "source": [
    "with open(os.path.join(\"output\\\\2025-05-13\", \"HigherInference_training_data.pkl\"), 'rb') as f:\n",
    "    data = pickle.load(f)\n",
    "print(count2inpLogicGates(data['trainingDict']))\n",
    "print(getGateRepresentation(data['trainingDict']))"
   ]
  },
  {
   "cell_type": "code",
   "execution_count": 41,
   "id": "9df787c6",
   "metadata": {},
   "outputs": [
    {
     "name": "stdout",
     "output_type": "stream",
     "text": [
      "{'AND': 8, 'NOR': 21, 'NAND': 17, 'OR': 16}\n",
      "(70, 94)\n"
     ]
    }
   ],
   "source": [
    "with open(os.path.join(\"output\\\\2025-05-15\", \"HigherInference_training_data2.pkl\"), 'rb') as f:\n",
    "    data = pickle.load(f)\n",
    "print(count2inpLogicGates(data['trainingDict']))\n",
    "print(getGateRepresentation(data['trainingDict']))"
   ]
  },
  {
   "cell_type": "code",
   "execution_count": null,
   "id": "eb805976",
   "metadata": {},
   "outputs": [],
   "source": []
  }
 ],
 "metadata": {
  "kernelspec": {
   "display_name": "venv (3.10.6)",
   "language": "python",
   "name": "python3"
  },
  "language_info": {
   "codemirror_mode": {
    "name": "ipython",
    "version": 3
   },
   "file_extension": ".py",
   "mimetype": "text/x-python",
   "name": "python",
   "nbconvert_exporter": "python",
   "pygments_lexer": "ipython3",
   "version": "3.10.6"
  }
 },
 "nbformat": 4,
 "nbformat_minor": 5
}
