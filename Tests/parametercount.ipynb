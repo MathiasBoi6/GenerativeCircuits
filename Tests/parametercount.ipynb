{
 "cells": [
  {
   "cell_type": "code",
   "execution_count": 1,
   "id": "3d3f15f6",
   "metadata": {},
   "outputs": [
    {
     "name": "stdout",
     "output_type": "stream",
     "text": [
      "dataset generated as 'loader\n",
      "embedder created as transformer\n",
      "Embedded shape: torch.Size([4, 128])\n",
      "Using device: cuda\n"
     ]
    }
   ],
   "source": [
    "from bootstrapSetup import *"
   ]
  },
  {
   "cell_type": "code",
   "execution_count": 2,
   "id": "cc1cca17",
   "metadata": {},
   "outputs": [],
   "source": [
    "model = CategoricalDiffusionModel(13, 4, 128).to(device)"
   ]
  },
  {
   "cell_type": "code",
   "execution_count": 9,
   "id": "32403b3f",
   "metadata": {},
   "outputs": [],
   "source": [
    "#https://stackoverflow.com/questions/49201236/check-the-total-number-of-parameters-in-a-pytorch-model\n",
    "modelParams = sum(p.numel() for p in model.parameters())\n",
    "embeddingParams = sum(p.numel() for p in transformer.parameters())"
   ]
  },
  {
   "cell_type": "code",
   "execution_count": null,
   "id": "f3010510",
   "metadata": {},
   "outputs": [
    {
     "data": {
      "text/plain": [
       "13486644"
      ]
     },
     "execution_count": 10,
     "metadata": {},
     "output_type": "execute_result"
    }
   ],
   "source": [
    "modelParams + embeddingParams # 13 million parameters"
   ]
  }
 ],
 "metadata": {
  "kernelspec": {
   "display_name": "venv (3.10.6)",
   "language": "python",
   "name": "python3"
  },
  "language_info": {
   "codemirror_mode": {
    "name": "ipython",
    "version": 3
   },
   "file_extension": ".py",
   "mimetype": "text/x-python",
   "name": "python",
   "nbconvert_exporter": "python",
   "pygments_lexer": "ipython3",
   "version": "3.10.6"
  }
 },
 "nbformat": 4,
 "nbformat_minor": 5
}
