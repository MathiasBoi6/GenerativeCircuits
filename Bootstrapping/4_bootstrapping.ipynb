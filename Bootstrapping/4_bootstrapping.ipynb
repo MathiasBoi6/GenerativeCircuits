{
 "cells": [
  {
   "cell_type": "markdown",
   "id": "a1c3940a",
   "metadata": {},
   "source": [
    "To avoid inflating dataset with copies of a single circuit, I want to change Dataset to be a dict (TruthTable -> [circuitlist], shortest circuit), where shortest circuit is a value for least amount of wires and components used. When training, select a random key, and a random circuit from the key, this way each truthtable would roughly be trained equally."
   ]
  },
  {
   "cell_type": "code",
   "execution_count": 11,
   "id": "e3f613bf",
   "metadata": {},
   "outputs": [],
   "source": [
    "import torch\n",
    "import torch.nn as nn\n",
    "from CircuitSimulation.CircuitSimulator import *\n",
    "import numpy as np\n",
    "from diffusers import UNet2DConditionModel\n",
    "import torch.optim as optim\n",
    "import torch.nn.functional as F\n",
    "import matplotlib.pyplot as plt\n",
    "from torch.utils.data import TensorDataset, DataLoader, Dataset\n",
    "from IPython.display import display, clear_output\n",
    "from matplotlib.colors import ListedColormap\n",
    "import hashlib\n",
    "from itertools import combinations\n",
    "from tqdm import tqdm\n",
    "import random"
   ]
  },
  {
   "cell_type": "code",
   "execution_count": 12,
   "id": "0e4a1b8f",
   "metadata": {},
   "outputs": [],
   "source": [
    "# Initial circuits\n",
    "\n",
    "InitialCicuits = torch.tensor([\n",
    "    [\n",
    "        [1, 1, 1, 1, 1, 2, 1, 1, 1, 1],\n",
    "        [0, 0, 0, 0, 0, 1, 0, 0, 0, 0],\n",
    "        [0, 0, 0, 0, 0, 1, 0, 0, 0, 0],\n",
    "        [1, 1, 1, 1, 1, 1, 0, 0, 0, 0],\n",
    "        [0, 0, 0, 0, 0, 0, 0, 0, 0, 0],\n",
    "        [0, 0, 0, 0, 0, 0, 0, 0, 0, 0],\n",
    "        [0, 0, 0, 0, 0, 0, 0, 0, 0, 0],\n",
    "        [0, 0, 0, 0, 0, 0, 0, 0, 0, 0],\n",
    "        [0, 0, 0, 0, 0, 0, 0, 0, 0, 0],\n",
    "        [0, 0, 0, 0, 0, 0, 0, 0, 0, 0],\n",
    "    ],\n",
    "    [\n",
    "        [1, 1, 1, 1, 0, 0, 0, 0, 1, 1],\n",
    "        [0, 0, 0, 1, 0, 0, 0, 0, 1, 0],\n",
    "        [0, 0, 0, 1, 0, 0, 0, 0, 1, 0],\n",
    "        [1, 1, 0, 1, 0, 0, 0, 1, 1, 0],\n",
    "        [0, 1, 0, 1, 0, 0, 1, 1, 0, 0],\n",
    "        [0, 1, 1, 2, 1, 1, 1, 0, 0, 0],\n",
    "        [0, 0, 0, 0, 0, 0, 0, 0, 0, 0],\n",
    "        [0, 0, 0, 0, 0, 0, 0, 0, 0, 0],\n",
    "        [0, 0, 0, 0, 0, 0, 0, 0, 0, 0],\n",
    "        [0, 0, 0, 0, 0, 0, 0, 0, 0, 0],\n",
    "    ],\n",
    "    [\n",
    "        [0, 0, 0, 0, 0, 0, 0, 0, 0, 0],\n",
    "        [0, 0, 0, 0, 0, 0, 0, 0, 0, 0],\n",
    "        [0, 0, 0, 1, 1, 1, 0, 0, 0, 0],\n",
    "        [1, 1, 1, 1, 0, 1, 0, 0, 0, 0],\n",
    "        [0, 0, 0, 0, 0, 1, 0, 0, 0, 0],\n",
    "        [0, 0, 0, 1, 1, 3, 1, 1, 0, 0],\n",
    "        [1, 1, 1, 1, 0, 0, 0, 1, 1, 1],\n",
    "        [0, 0, 0, 0, 0, 0, 0, 0, 0, 0],\n",
    "        [0, 0, 0, 0, 0, 0, 0, 0, 0, 0],\n",
    "        [0, 0, 0, 0, 0, 0, 0, 0, 0, 0],\n",
    "    ],\n",
    "    [\n",
    "        [0, 0, 0, 0, 0, 0, 0, 0, 0, 0],\n",
    "        [0, 0, 0, 0, 0, 0, 0, 0, 0, 0],\n",
    "        [0, 0, 0, 0, 0, 0, 0, 0, 0, 0],\n",
    "        [1, 1, 1, 1, 0, 0, 0, 0, 0, 0],\n",
    "        [0, 0, 0, 1, 0, 0, 0, 0, 0, 0],\n",
    "        [0, 0, 0, 1, 0, 0, 0, 0, 0, 0],\n",
    "        [0, 0, 0, 1, 0, 0, 0, 0, 0, 0],\n",
    "        [0, 0, 0, 1, 3, 1, 1, 1, 0, 0],\n",
    "        [0, 0, 0, 0, 1, 0, 0, 1, 1, 0],\n",
    "        [1, 1, 1, 1, 1, 0, 0, 0, 1, 1],\n",
    "    ],\n",
    "])\n",
    "\n",
    "InitialTables = torch.tensor([\n",
    "    [\n",
    "        [0, 0, 2, 2, 2, 2, 2, 2, 0, 2, 2, 2 ],\n",
    "        [1, 0, 2, 2, 2, 2, 2, 2, 0, 2, 2, 2 ],\n",
    "        [0, 1, 2, 2, 2, 2, 2, 2, 0, 2, 2, 2 ],\n",
    "        [1, 1, 2, 2, 2, 2, 2, 2, 1, 2, 2, 2 ],\n",
    "    ],\n",
    "    [\n",
    "        [0, 0, 2, 2, 2, 2, 2, 2, 0, 2, 2, 2 ],\n",
    "        [1, 0, 2, 2, 2, 2, 2, 2, 0, 2, 2, 2 ],\n",
    "        [0, 1, 2, 2, 2, 2, 2, 2, 0, 2, 2, 2 ],\n",
    "        [1, 1, 2, 2, 2, 2, 2, 2, 1, 2, 2, 2 ],\n",
    "    ],\n",
    "    [\n",
    "        [2, 0, 0, 2, 2, 2, 2, 2, 2, 2, 1, 2 ],\n",
    "        [2, 1, 0, 2, 2, 2, 2, 2, 2, 2, 1, 2 ],\n",
    "        [2, 0, 1, 2, 2, 2, 2, 2, 2, 2, 1, 2 ],\n",
    "        [2, 1, 1, 2, 2, 2, 2, 2, 2, 2, 0, 2 ],\n",
    "    ],\n",
    "    [\n",
    "        [2, 0, 0, 2, 2, 2, 2, 2, 2, 2, 2, 1 ],\n",
    "        [2, 1, 0, 2, 2, 2, 2, 2, 2, 2, 2, 1 ],\n",
    "        [2, 0, 1, 2, 2, 2, 2, 2, 2, 2, 2, 1 ],\n",
    "        [2, 1, 1, 2, 2, 2, 2, 2, 2, 2, 2, 0 ],        \n",
    "    ],\n",
    "])"
   ]
  },
  {
   "cell_type": "code",
   "execution_count": 66,
   "id": "4bb97b0f",
   "metadata": {},
   "outputs": [
    {
     "name": "stdout",
     "output_type": "stream",
     "text": [
      "dataset generated as 'loader\n"
     ]
    }
   ],
   "source": [
    "# Transform initial data into data for neural network model\n",
    "# Also has a few utility functions for data manipulation and visualization\n",
    "\n",
    "def imageToProbabilities(image, numCategories):\n",
    "    # The categorical scheduler expects each channel to describe the probability of a pixel being of that class\n",
    "    # Therefore, a RawCircuit, with one channel, needs to be expanded to have numCategories channels\n",
    "\n",
    "    bs, h, w = image.shape\n",
    "    \n",
    "    imageProbabilites = torch.zeros(bs, numCategories, h, w)\n",
    "    for b in range(bs):\n",
    "        for i in range(h):\n",
    "            for j in range(w):\n",
    "                pixelClass = image[b, i, j]\n",
    "                imageProbabilites[b, pixelClass, i, j] = 1.0\n",
    "\n",
    "    return imageProbabilites\n",
    "\n",
    "def tablePadding(truthTable):\n",
    "    #Takes a truthtable and adds rows to fix row amount to 16.\n",
    "    rows = truthTable.shape[0]\n",
    "\n",
    "    padding = torch.full((16 - rows, truthTable.shape[1]), 2.0)\n",
    "    return torch.cat((truthTable, padding), dim=0).long()\n",
    "\n",
    "def countWires(circuit):\n",
    "    sum = 0\n",
    "    for i in range(circuit.shape[0]):\n",
    "        for j in range(circuit.shape[1]):\n",
    "            if circuit[i][j] >= 1:\n",
    "                sum += 1\n",
    "    return sum\n",
    "\n",
    "def printCircuit(circuit):\n",
    "    cmap = ListedColormap(['white', 'black', 'red', 'blue'])\n",
    "    fig, ax = plt.subplots(figsize=(2, 2))\n",
    "\n",
    "    ax.set_xticks([])\n",
    "    ax.set_yticks([])\n",
    "    ax.imshow(circuit, cmap=cmap, interpolation='nearest', vmin=0, vmax=3)\n",
    "    plt.tight_layout()\n",
    "    plt.show()\n",
    "\n",
    "# Function to get the hash of a tensor\n",
    "def get_tensor_hash(tensor):\n",
    "    # Flatten the tensor and convert to tuple (hashable)\n",
    "    tensor_tuple = tuple(tensor.flatten().tolist())\n",
    "    \n",
    "    # Compute the hash using hashlib (SHA-256)\n",
    "    hash_object = hashlib.sha256(str(tensor_tuple).encode())\n",
    "    return hash_object.hexdigest()\n",
    "\n",
    "\n",
    "# lists to dictionary\n",
    "def CreateTrainingDictionary(inpDict, rawCircuits, tables):\n",
    "    with torch.no_grad():\n",
    "        for table, circuit in zip(tables, rawCircuits):\n",
    "            truth = tablePadding(table)\n",
    "            key = truth.numpy().tobytes() #Hashable\n",
    "            wiresTotal = countWires(circuit)\n",
    "            \n",
    "            if key not in inpDict:\n",
    "                inpDict[key] = ([imageToProbabilities(circuit.unsqueeze(0), 4).squeeze()], wiresTotal)\n",
    "            else: \n",
    "                circuitList, wireAmount = inpDict[key]\n",
    "                if wireAmount >= wiresTotal: # If new has less or same amount of wires\n",
    "                    circuitList.append(imageToProbabilities(circuit.unsqueeze(0), 4).squeeze())\n",
    "                    inpDict[key] = (circuitList, wiresTotal)\n",
    "\n",
    "        return inpDict\n",
    "\n",
    "class CircuitDataset(Dataset):\n",
    "    def __init__(self, inpDict):\n",
    "        self.dict = inpDict\n",
    "        self.keys = list(self.dict.keys())\n",
    "    def __len__(self):\n",
    "        return len(self.dict)\n",
    "    \n",
    "    def __getitem__(self, idx):\n",
    "        key = self.keys[idx]\n",
    "        circuitList, wireAmount = self.dict[key]\n",
    "        \n",
    "        return random.choice(circuitList), torch.from_numpy(np.frombuffer(key)).long().reshape(16, 12)\n",
    "\n",
    "# Mostly a copy of CircuitDataset, but with the item count inflated, to match previous tests.\n",
    "class LoopingDataset(Dataset):\n",
    "    def __init__(self, inpDict):\n",
    "        self.dict = inpDict\n",
    "        self.keys = list(self.dict.keys())\n",
    "    def __len__(self):\n",
    "        normalLen = len(self.dict) # Is 3\n",
    "        return normalLen * 6 # 18. Previous test had 16.\n",
    "    \n",
    "    def __getitem__(self, idx):\n",
    "        key = self.keys[idx % len(self.dict)]\n",
    "        circuitList, wireAmount = self.dict[key]\n",
    "        \n",
    "        return random.choice(circuitList), torch.from_numpy(np.frombuffer(key)).long().reshape(16, 12)\n",
    "\n",
    "\n",
    "trainingDict = CreateTrainingDictionary({}, InitialCicuits, InitialTables)\n",
    "dataset = LoopingDataset(trainingDict)\n",
    "\n",
    "loader = DataLoader(dataset, batch_size=64, shuffle=True)\n",
    "\n",
    "print(\"dataset generated as 'loader\")"
   ]
  },
  {
   "cell_type": "code",
   "execution_count": 29,
   "id": "0becd3ed",
   "metadata": {},
   "outputs": [
    {
     "name": "stdout",
     "output_type": "stream",
     "text": [
      "embedder created as transformer\n",
      "Embedded shape: torch.Size([4, 192])\n"
     ]
    }
   ],
   "source": [
    "# Set truthtable embedder\n",
    "\n",
    "class RowEmbedder(nn.Module):\n",
    "    def __init__(self, num_categories, vector_length, embedding_dim):\n",
    "        super().__init__()\n",
    "        self.shared_embed = nn.Embedding(num_categories, embedding_dim)\n",
    "        self.position_weights = nn.Parameter(torch.ones(vector_length, embedding_dim))\n",
    "        self.position_bias = nn.Parameter(torch.zeros(vector_length, embedding_dim))\n",
    "        \n",
    "    def forward(self, x):\n",
    "        # x shape: [batch_size, vector_length]\n",
    "        shared = self.shared_embed(x)  # [batch_size, vector_length, emb_dim]\n",
    "        # Apply position-specific scaling and shifting\n",
    "        return shared * self.position_weights + self.position_bias\n",
    "    \n",
    "\n",
    "class TabularTransformer(nn.Module):\n",
    "    def __init__(self, num_categories, num_features, d_model):\n",
    "        super().__init__()\n",
    "        self.d_model = d_model\n",
    "\n",
    "        self.row_embedding = RowEmbedder(num_categories, num_features, d_model) #num_categories, vector_length, embedding_dim\n",
    "\n",
    "        encoder_layer = nn.TransformerEncoderLayer(\n",
    "            d_model=d_model * num_features,\n",
    "            nhead=8,\n",
    "            dim_feedforward=2*d_model * num_features,\n",
    "            batch_first=True,\n",
    "        )\n",
    "\n",
    "        self.transformer = nn.TransformerEncoder(\n",
    "            encoder_layer,\n",
    "            num_layers=6,\n",
    "        )\n",
    "    \n",
    "    def forward(self, x):\n",
    "        #batch_size, num_rows, num_cols = x.shape\n",
    "\n",
    "        rows = self.row_embedding(x) #bs, rows, columns, embedding\n",
    "        #rows = rows.mean(dim=2)\n",
    "        rows = rows.flatten(start_dim=2) \n",
    "        \n",
    "    \n",
    "        transformed = self.transformer(rows)\n",
    "\n",
    "        return transformed\n",
    "\n",
    "transformer = TabularTransformer(3, 12, 16)\n",
    "\n",
    "print(\"embedder created as transformer\")\n",
    "print(f\"Embedded shape: {transformer(InitialTables)[0].shape}\")"
   ]
  },
  {
   "cell_type": "code",
   "execution_count": 30,
   "id": "850a61c4",
   "metadata": {},
   "outputs": [
    {
     "name": "stdout",
     "output_type": "stream",
     "text": [
      "Using device: cuda\n"
     ]
    }
   ],
   "source": [
    "# Set up scheduler\n",
    "\n",
    "class CategoricalScheduler:\n",
    "    def __init__(self, TrainSteps = 200, numCategories = 4, betaStart = 0.0001, betaEnd = 0.02):\n",
    "        self.TrainSteps = TrainSteps\n",
    "        self.noiseDevice = 'cpu'\n",
    "        self.numCategories = numCategories\n",
    "\n",
    "        self.betas = torch.linspace(betaStart, betaEnd, TrainSteps, device=self.noiseDevice)\n",
    "        self.alphas = 1.0 - self.betas\n",
    "        self.alpha_cumprod = torch.cumprod(self.alphas, dim=0)\n",
    "\n",
    "    def addNoise(self, imageBatch, time):\n",
    "        bs, ch, w, h = imageBatch.shape\n",
    "\n",
    "        with torch.no_grad():\n",
    "            alpha_t = self.alpha_cumprod[time].view(-1, 1, 1, 1) # Translates shape (1,) -> (1, 1, 1, 1)\n",
    "\n",
    "            # the per pixel probability distribution of the categories\n",
    "            currentProbabilities = imageBatch\n",
    "\n",
    "            # The chance of each state per pixel when noised            \n",
    "            updatedProbabilities = currentProbabilities * alpha_t + (1 - alpha_t) / self.numCategories \n",
    "            updatedProbabilities = updatedProbabilities.permute(0, 2, 3, 1) # reshape such that it is flattened correctly below\n",
    "            updatedProbabilities = updatedProbabilities.reshape(bs*w*h, self.numCategories)  \n",
    "            \n",
    "\n",
    "            # 1 Sample per value\n",
    "            categoricalNoise = torch.multinomial(updatedProbabilities, 1, replacement=True)\n",
    "            categoricalNoise = categoricalNoise.view(bs, w, h) # Shape: [bs, w, h]\n",
    "\n",
    "            noisedImages = F.one_hot(categoricalNoise, num_classes=self.numCategories)\n",
    "            noisedImages = noisedImages.permute(0, 3, 1, 2) # [bs, num_classes, w, h]\n",
    "\n",
    "            return noisedImages\n",
    "\n",
    "scheduler = CategoricalScheduler()\n",
    "\n",
    "device = 'cuda' if torch.cuda.is_available() else 'cpu'\n",
    "print(f'Using device: {device}')"
   ]
  },
  {
   "cell_type": "code",
   "execution_count": 31,
   "id": "83da88b1",
   "metadata": {},
   "outputs": [],
   "source": [
    "# Create Diffuser\n",
    "\n",
    "class CategoricalDiffusionModel(nn.Module):\n",
    "    def __init__(self, imageSize, numCategories, embeddingSize, attentionHeads=8, guidanceProb=0.1):\n",
    "        super().__init__()\n",
    "        self.guidance_prob=guidanceProb\n",
    "        self.model = UNet2DConditionModel(\n",
    "            sample_size=imageSize, \n",
    "            in_channels=numCategories,  # Image channels\n",
    "            out_channels=numCategories,\n",
    "            cross_attention_dim=embeddingSize,  # Matches mbedding's token dim \n",
    "            attention_head_dim=attentionHeads,     # Smaller head dim for efficiency\n",
    "            layers_per_block=2,       # how many ResNet layers to use per UNet block\n",
    "            block_out_channels=(128, 128, 128), \n",
    "            down_block_types=(\n",
    "                \"CrossAttnDownBlock2D\",  \n",
    "                \"CrossAttnDownBlock2D\",\n",
    "                \"DownBlock2D\",\n",
    "            ),\n",
    "            up_block_types=(\n",
    "                \"UpBlock2D\",\n",
    "                \"CrossAttnUpBlock2D\",\n",
    "                \"CrossAttnUpBlock2D\",\n",
    "            ),\n",
    "        )\n",
    "        \n",
    "    def forward(self, x, t, embedding):\n",
    "        bs, ch, w, h = x.shape\n",
    "\n",
    "        #Use guidance probability, to help the model learn that 'circuit behvaior' \n",
    "        # is a general feature and not specific to a particular embedding.\n",
    "        if self.training:\n",
    "            mask = torch.rand_like(embedding, device=x.device) < self.guidance_prob\n",
    "            embedding[mask] = 0\n",
    "\n",
    "        return self.model(x, t, encoder_hidden_states=embedding).sample"
   ]
  },
  {
   "cell_type": "code",
   "execution_count": 52,
   "id": "9f4cf2a3",
   "metadata": {},
   "outputs": [],
   "source": [
    "# Training Function\n",
    "\n",
    "def trainCatModel(catModel, dataloader, epochs, embeddingModel, losses, PLOTUPDATES = True):\n",
    "    catModel.train()\n",
    "    updateRate = 10 # For plotting purposes\n",
    "\n",
    "    loss_fn = nn.CrossEntropyLoss() #nn.MSELoss(reduction='sum')\n",
    "\n",
    "    if PLOTUPDATES:\n",
    "        fig, ax = plt.subplots(figsize=(8, 5))\n",
    "    \n",
    "    opt = torch.optim.Adam(catModel.parameters(), lr=1e-4) \n",
    "\n",
    "    for epoch in range(epochs):\n",
    "        \n",
    "        for batch, labels in dataloader:\n",
    "\n",
    "            timesteps = torch.randint(0, scheduler.TrainSteps - 1, (batch.shape[0],), device='cpu').long()\n",
    "\n",
    "            noisyImgs = scheduler.addNoise(batch, timesteps)\n",
    "\n",
    "            embeddings = embeddingModel(labels)\n",
    "\n",
    "            pred = catModel(noisyImgs.to(device).float(), timesteps.to(device), embeddings.to(device))\n",
    "\n",
    "            loss = loss_fn(pred, batch.to(device).argmax(axis=1)) \n",
    "\n",
    "            opt.zero_grad()\n",
    "            loss.backward()\n",
    "            opt.step()\n",
    "            losses.append(loss.item())\n",
    "\n",
    "        if PLOTUPDATES:\n",
    "            if epoch % updateRate == 0:\n",
    "                clear_output(wait=True)  \n",
    "                ax.clear()\n",
    "                plt.plot(losses)\n",
    "                plt.xlabel('Batch')\n",
    "                display(fig)\n",
    "    \n",
    "    if PLOTUPDATES:\n",
    "        clear_output(wait=True)  \n",
    "        ax.clear()\n",
    "    plt.plot(losses)\n",
    "    plt.xlabel('Batch')\n",
    "    if PLOTUPDATES:\n",
    "        display(fig)\n",
    "\n",
    "    return catModel, losses"
   ]
  },
  {
   "cell_type": "code",
   "execution_count": 33,
   "id": "fe3a2547",
   "metadata": {},
   "outputs": [],
   "source": [
    "# Sockets used for simulating\n",
    "\n",
    "inpSockets = [\n",
    "    (Socket(\"inp0\", True), (-1, 0)), \n",
    "    (Socket(\"inp1\", True), (-1, 3)), \n",
    "    (Socket(\"inp2\", True), (-1, 6)), \n",
    "    (Socket(\"inp3\", True), (-1, 9)), \n",
    "]\n",
    "\n",
    "outSockets = [  \n",
    "    (Socket(\"out0\", False), (10, 0)), \n",
    "    (Socket(\"out1\", False), (10, 3)), \n",
    "    (Socket(\"out2\", False), (10, 6)), \n",
    "    (Socket(\"out3\", False), (10, 9)),\n",
    "]"
   ]
  },
  {
   "cell_type": "code",
   "execution_count": 35,
   "id": "250d69ec",
   "metadata": {},
   "outputs": [
    {
     "name": "stdout",
     "output_type": "stream",
     "text": [
      "Dataset hash amount: 4\n"
     ]
    }
   ],
   "source": [
    "# Hash circuits for faster comparison\n",
    "# Used to check whether a circuit is new\n",
    "circuitHashes = {get_tensor_hash(tensor) for tensor in InitialCicuits}\n",
    "print(\"Dataset hash amount:\", len(circuitHashes))"
   ]
  },
  {
   "cell_type": "code",
   "execution_count": 45,
   "id": "3ac935d3",
   "metadata": {},
   "outputs": [],
   "source": [
    "# Why pre and after pruning?\n",
    "# Pruning unconnected wires won't make simulation faster, as they aren't even used in the connection or socket maps.\n",
    "# So the idea was to only prune these things before adding them to the dataset.\n",
    "# However, when checking if the generated circuit already exists, it helps also removing those wires\n",
    "# So both pre and after pruning are used before simulating, yet the functions are kept separate, as is.\n",
    "\n",
    "\n",
    "# Prunes inputs, outputs and wireSets that have only have components recieving or emitting signals.\n",
    "# Wiresets with no components connected are never added to the connectionMap, so they are not pruned here, -\n",
    "# These wiresets have no influence on the circuit's behavior (or simulation speed), -\n",
    "# so pruning them can wait till after the circuit has been confirmed to be useful\n",
    "def prePruning(connectionMap, socketMap):\n",
    "    prunedConnections = []\n",
    "    for connection in connectionMap:\n",
    "        relevantConnection = any(\n",
    "            component.isSource for component in connectionMap[connection]\n",
    "        ) and any(\n",
    "            not component.isSource for component in connectionMap[connection]\n",
    "        )\n",
    "        \n",
    "        if not relevantConnection:\n",
    "            prunedConnections.append(connection)\n",
    "\n",
    "    for connection in prunedConnections:\n",
    "        del connectionMap[connection]  \n",
    "\n",
    "    connectedInputs = []\n",
    "    connectedOutputs = []\n",
    "    for socket, connections in socketMap.items():\n",
    "        for connection in list(connections):\n",
    "            if connection in prunedConnections:\n",
    "                socketMap[socket].remove(connection)\n",
    "                \n",
    "        prefix, compid, comptype = socket.name\n",
    "        \n",
    "        if prefix == \"inp\" and bool(socketMap[socket]):\n",
    "            connectedInputs.append(int(compid))\n",
    "        elif prefix == \"out\" and bool(socketMap[socket]):\n",
    "            connectedOutputs.append(int(compid))\n",
    "    \n",
    "    return connectedInputs, connectedOutputs\n",
    "\n",
    "\n",
    "# Of the connected inputs, get combinations for a truthtable. for example socket [[], [0], [1], [0,1]]\n",
    "def generateSocketCombinations(inputSockets, relevantIndexes):\n",
    "    #inputSockets = All available input sockets\n",
    "    #relevantIndexes = the indexes of sockets that are connected to components\n",
    "    \n",
    "    usedSockets = [inputSockets[i][0] for i in relevantIndexes]\n",
    "    \n",
    "    # Generate all combinations (power set)\n",
    "    orderList = []\n",
    "    for r in range(len(usedSockets) + 1):\n",
    "        for combo in combinations(usedSockets, r):\n",
    "            orderList.append(list(combo))\n",
    "    \n",
    "    return orderList"
   ]
  },
  {
   "cell_type": "code",
   "execution_count": 46,
   "id": "6fa6c5a4",
   "metadata": {},
   "outputs": [],
   "source": [
    "# After pruning\n",
    "\n",
    "# Things to prune:\n",
    "# Unconncted wires\n",
    "# wires from prepruning\n",
    "\n",
    "def afterPruning(circuit, wiresets, connectionMap):\n",
    "    # Prunes circuits, from pruned connections\n",
    "    # And replaces gates that aren't connected on their emitter with wires.\n",
    "    circuitWasUpdated = False\n",
    "\n",
    "    for i in range(circuit.shape[0]):\n",
    "        for j in range(circuit.shape[1]):\n",
    "            if wiresets[i][j] not in connectionMap and circuit[i][j] == 1:\n",
    "                circuit[i][j] = 0\n",
    "                circuitWasUpdated = True\n",
    "            elif circuit[i][j] > 1 and j < circuit.shape[1] - 1 and circuit[i][j + 1] == 0:\n",
    "                circuit[i][j] = 1\n",
    "                circuitWasUpdated = True\n",
    "\n",
    "    #Because there gate positions aren't stored, socket map will have to be recreated, but then connetionmap will also need to be updated.\n",
    "    return circuit, connectionMap, circuitWasUpdated\n",
    "\n",
    "# Prunes excess wires from the circuit.\n",
    "def pruneExcessWires(circuit):\n",
    "    circuitDirty = False\n",
    "    \n",
    "    for j in range(1, circuit.shape[0] - 1):\n",
    "        for i in range(circuit.shape[1]):\n",
    "            center = circuit[i][j]\n",
    "            up     = circuit[i - 1][j] if i > 0 else 0\n",
    "            down   = circuit[i + 1][j] if i < circuit.shape[0] - 1 else 0\n",
    "            left   = circuit[i][j - 1] \n",
    "            right  = circuit[i][j + 1] \n",
    "\n",
    "            crossValue = center + up + down + left + right\n",
    "\n",
    "            if crossValue < 3 and circuit[i][j] == 1:\n",
    "                circuit[i][j] = 0\n",
    "                circuitDirty = True\n",
    "    \n",
    "    if circuitDirty:\n",
    "        return pruneExcessWires(circuit)\n",
    "    else: return circuit\n",
    "\n",
    "def hasWireSquare(circuit):\n",
    "    #Just disallow these.\n",
    "    rows = circuit.shape[0]\n",
    "    cols = circuit.shape[1]\n",
    "\n",
    "    for i in range(rows - 1):\n",
    "        for j in range(cols - 1):\n",
    "            if (circuit[i][j] == 1 and\n",
    "                circuit[i][j + 1] == 1 and\n",
    "                circuit[i + 1][j] == 1 and\n",
    "                circuit[i + 1][j + 1] == 1):\n",
    "                return True\n",
    "    return False"
   ]
  },
  {
   "cell_type": "code",
   "execution_count": 47,
   "id": "0ea7dc49",
   "metadata": {},
   "outputs": [],
   "source": [
    "def GetTruthTable(inputIndexes, outputIndexes, socketMap, connectionMap, orders):\n",
    "    # Orders is a list of the order in which input sockets are activated.\n",
    "    # # Truthtables usually do not make use of activation order, but the simulation needs it.\n",
    "\n",
    "    truthTable = torch.ones(size=(2**len(inputIndexes), 12)) * 2\n",
    "\n",
    "    row = 0\n",
    "    #try\n",
    "    for order in orders:\n",
    "        for socket in socketMap.keys():\n",
    "            socket.state = False\n",
    "        \n",
    "        # Gives the state of sockets at the end. But only output sockets are relevant, \n",
    "        # and those are available through outSockets[i][0]\n",
    "        _ = Simulate(connectionMap, socketMap, order) \n",
    "\n",
    "        for index in inputIndexes:\n",
    "            truthTable[row][index] = 0\n",
    "\n",
    "        for socket in order:\n",
    "            prefix, idnum, comptype = socket.name\n",
    "            truthTable[row][int(idnum)] = 1\n",
    "\n",
    "        for i in outputIndexes:\n",
    "            truthTable[row][i + 8] = outSockets[i][0].state\n",
    "\n",
    "        row += 1\n",
    "\n",
    "    return truthTable"
   ]
  },
  {
   "cell_type": "code",
   "execution_count": null,
   "id": "ef59e658",
   "metadata": {},
   "outputs": [],
   "source": [
    "# Generate N Circuits\n",
    "def GenerateN(model, amount = 100):\n",
    "    model.eval()\n",
    "    \n",
    "    ## GENERATE CIRCUITS\n",
    "    with torch.no_grad():\n",
    "        batchX = torch.randint(size=(amount, 4, 10, 10), high = 1, low = 0, device=device )\n",
    "        batchY = torch.randint(size=(amount, 4, 12), high = 3, low = 0, device='cpu' ) # WARNING! This is currently forced to shape (4, 12)\n",
    "        batchY = transformer(batchY).to(device)\n",
    "        \n",
    "        # Inference with trainingsteps // 64 + 1, for faster generations. Even with this few steps, generations become perfect after training, due to small dataset.\n",
    "        stepDivisor = 64\n",
    "        inferenceSteps = torch.linspace(scheduler.TrainSteps-1, 1, scheduler.TrainSteps // stepDivisor, device='cpu').long()\n",
    "\n",
    "        for t in inferenceSteps:\n",
    "            residual_cond = model(batchX.to(device).float(), t, batchY.float()) \n",
    "            residual = F.softmax(residual_cond, dim=1)\n",
    "            batchX = scheduler.addNoise(residual.to('cpu'), t - 1).float()\n",
    "        batchX = F.softmax(model(batchX.to(device), 0, batchY), dim=1)\n",
    "\n",
    "        # Get circuit values\n",
    "        argmaxedBatch = torch.argmax(batchX, dim=1, keepdim=True).cpu().numpy().squeeze()\n",
    "\n",
    "        return argmaxedBatch\n",
    "\n",
    "def getTables(circuits):\n",
    "    #Prunes\n",
    "    #Checks hashes\n",
    "    #Simulates\n",
    "    #Then, generates tables\n",
    "    with torch.no_grad():\n",
    "        tables = []\n",
    "        simulatedCircuits = []\n",
    "        simulatedCircuitHashes = []\n",
    "\n",
    "        unique_hashes = {}\n",
    "        for i in range((circuits.shape[0])):\n",
    "            circuitDirty = True # Pruning flag\n",
    "\n",
    "            while circuitDirty:\n",
    "                socketMap, wireSets = GetSocketMap(circuits[i], inpSockets + outSockets)\n",
    "                connectionMap = GetConnectionMap(socketMap)\n",
    "\n",
    "\n",
    "                inps, outs = prePruning(connectionMap, socketMap)\n",
    "                circuit, connectionMap, circuitDirty = afterPruning(circuits[i], wireSets, connectionMap)\n",
    "                circuit = pruneExcessWires(circuit)\n",
    "\n",
    "            if hasWireSquare(circuit):\n",
    "                continue\n",
    "\n",
    "            hash = get_tensor_hash(circuit)\n",
    "            if hash not in unique_hashes and hash not in circuitHashes:\n",
    "                unique_hashes[hash] = i\n",
    "\n",
    "                #Get orderlist\n",
    "                if len(inps) > 1 and len(outs) > 0: # Bias to have only circuits with at least 2 inputs\n",
    "                    orderlist = generateSocketCombinations(inpSockets, inps)\n",
    "\n",
    "                    try:    \n",
    "                        truthTable = GetTruthTable(inps, outs, socketMap, connectionMap, orderlist)\n",
    "                        tables.append(truthTable)\n",
    "                        simulatedCircuits.append(circuit)\n",
    "                        simulatedCircuitHashes.append(hash)\n",
    "\n",
    "                    except Exception as e:\n",
    "                        print(f\"Error in circuit {i}: {e}\")\n",
    "                \n",
    "        return tables, simulatedCircuits, simulatedCircuitHashes"
   ]
  },
  {
   "cell_type": "code",
   "execution_count": 83,
   "id": "0a7d7088",
   "metadata": {},
   "outputs": [],
   "source": [
    "# GenerateN and getTables combined.\n",
    "\n",
    "def GenerateAndSimulate(model, lossList, amount = 100, plotResults = True):\n",
    "    argmaxCircuits = GenerateN(model, amount)\n",
    "\n",
    "    tables, simulatedCircuits, simulatedCircuitsHashes = getTables(argmaxCircuits)\n",
    "    print(f\"Generated {len(tables)} truth tables. {len(argmaxCircuits) - len(tables)} circuits weren't used\")\n",
    "\n",
    "    if plotResults:\n",
    "        # plot the top 25 circuits.\n",
    "        cmap = ListedColormap(['white', 'black', 'red', 'blue'])\n",
    "        cols = 5\n",
    "        rows = min(len(simulatedCircuits) + 4, 25) // cols\n",
    "        if rows == 0:\n",
    "            return tables, simulatedCircuits\n",
    "\n",
    "        fig, axes = plt.subplots(rows, cols, figsize=(cols, rows))\n",
    "\n",
    "        for idx, ax in enumerate(axes.flat):\n",
    "            ax.set_xticks([])\n",
    "            ax.set_yticks([])\n",
    "            if idx >= len(simulatedCircuits):\n",
    "                continue\n",
    "            ax.imshow(simulatedCircuits[idx], cmap=cmap, interpolation='nearest', vmin=0, vmax=3)\n",
    "\n",
    "        fig.suptitle(f\"Epoch {len(lossList)}\")\n",
    "        plt.tight_layout()\n",
    "        plt.show()\n",
    "\n",
    "    return tables, simulatedCircuits, simulatedCircuitsHashes"
   ]
  },
  {
   "cell_type": "code",
   "execution_count": 84,
   "id": "d1b5b3c0",
   "metadata": {},
   "outputs": [
    {
     "data": {
      "image/png": "[encoded data removed]",
      "text/plain": [
       "<Figure size 500x500 with 4 Axes>"
      ]
     },
     "metadata": {},
     "output_type": "display_data"
    }
   ],
   "source": [
    "# Show dataset circuits\n",
    "\n",
    "cmap = ListedColormap(['white', 'black', 'red', 'blue'])\n",
    "fig, axes = plt.subplots(2, 2, figsize=(5, 5))\n",
    "for idx, ax in enumerate(axes.flat):\n",
    "    ax.imshow(InitialCicuits[idx], cmap=cmap, interpolation='nearest', vmin=0, vmax=3)\n",
    "    ax.set_xticks([])\n",
    "    ax.set_yticks([])\n",
    "\n",
    "plt.tight_layout()\n",
    "plt.show()"
   ]
  },
  {
   "cell_type": "code",
   "execution_count": 76,
   "id": "9105e6fc",
   "metadata": {},
   "outputs": [
    {
     "data": {
      "image/png": "[encoded data removed]",
      "text/plain": [
       "<Figure size 800x500 with 1 Axes>"
      ]
     },
     "metadata": {},
     "output_type": "display_data"
    },
    {
     "data": {
      "image/png": "[encoded data removed]",
      "text/plain": [
       "<Figure size 800x500 with 1 Axes>"
      ]
     },
     "metadata": {},
     "output_type": "display_data"
    }
   ],
   "source": [
    "#model = CategoricalDiffusionModel(10, 4, 192).to(device)\n",
    "#loss = []\n",
    "model, loss = trainCatModel(model, loader, 200, transformer, loss)"
   ]
  },
  {
   "cell_type": "code",
   "execution_count": 85,
   "id": "04b25114",
   "metadata": {},
   "outputs": [],
   "source": [
    "newCircuits = []\n",
    "newCircuitHashes = []\n",
    "newTables = []"
   ]
  },
  {
   "cell_type": "code",
   "execution_count": 86,
   "id": "53a8c048",
   "metadata": {},
   "outputs": [
    {
     "name": "stdout",
     "output_type": "stream",
     "text": [
      "Generated 9 truth tables. 491 circuits weren't used\n",
      "Generated 8 truth tables. 492 circuits weren't used\n",
      "Generated 9 truth tables. 491 circuits weren't used\n",
      "Generated 11 truth tables. 489 circuits weren't used\n",
      "Generated 7 truth tables. 493 circuits weren't used\n",
      "Generated 5 truth tables. 495 circuits weren't used\n",
      "Generated 7 truth tables. 493 circuits weren't used\n",
      "Generated 8 truth tables. 492 circuits weren't used\n",
      "Generated 7 truth tables. 493 circuits weren't used\n",
      "Generated 7 truth tables. 493 circuits weren't used\n"
     ]
    },
    {
     "data": {
      "text/plain": [
       "27"
      ]
     },
     "execution_count": 86,
     "metadata": {},
     "output_type": "execute_result"
    }
   ],
   "source": [
    "for i in range(10):\n",
    "    t, a, h = GenerateAndSimulate(model, loss, amount=500, plotResults=False)\n",
    "    for circuit, hash, table in zip(a, h, t):\n",
    "        if hash not in newCircuitHashes:\n",
    "            newCircuitHashes.append(hash)   \n",
    "            newCircuits.append(circuit)\n",
    "            newTables.append(table)\n",
    "len(newCircuits)"
   ]
  },
  {
   "cell_type": "code",
   "execution_count": null,
   "id": "64a67437",
   "metadata": {},
   "outputs": [
    {
     "data": {
      "image/png": "[encoded data removed]",
      "text/plain": [
       "<Figure size 500x500 with 25 Axes>"
      ]
     },
     "metadata": {},
     "output_type": "display_data"
    }
   ],
   "source": [
    "def print25(item):\n",
    "    cmap = ListedColormap(['white', 'black', 'red', 'blue'])\n",
    "    cols = 5\n",
    "    rows = min(len(item) + 4, 25) // cols\n",
    "    if rows == 0:\n",
    "        return\n",
    "\n",
    "    fig, axes = plt.subplots(rows, cols, figsize=(cols, rows))\n",
    "\n",
    "    for idx, ax in enumerate(axes.flat):\n",
    "        ax.set_xticks([])\n",
    "        ax.set_yticks([])\n",
    "        if idx >= len(item):\n",
    "            continue\n",
    "        ax.imshow(item[idx], cmap=cmap, interpolation='nearest', vmin=0, vmax=3)\n",
    "    plt.tight_layout()\n",
    "    plt.show()\n",
    "\n",
    "#printCircuit(newCircuits[1])\n",
    "print25(newCircuits)"
   ]
  },
  {
   "cell_type": "code",
   "execution_count": 89,
   "id": "9ab985eb",
   "metadata": {},
   "outputs": [
    {
     "name": "stderr",
     "output_type": "stream",
     "text": [
      "C:\\Users\\hellf\\AppData\\Local\\Temp\\ipykernel_8860\\1361429928.py:1: UserWarning: Creating a tensor from a list of numpy.ndarrays is extremely slow. Please consider converting the list to a single numpy.ndarray with numpy.array() before converting to a tensor. (Triggered internally at C:\\actions-runner\\_work\\pytorch\\pytorch\\pytorch\\torch\\csrc\\utils\\tensor_new.cpp:257.)\n",
      "  trainingDict = CreateTrainingDictionary(trainingDict, torch.tensor(newCircuits), newTables)\n"
     ]
    }
   ],
   "source": [
    "trainingDict = CreateTrainingDictionary(trainingDict, torch.tensor(newCircuits), newTables)\n",
    "dataset = CircuitDataset(trainingDict)\n",
    "loader = DataLoader(dataset, batch_size=64, shuffle=True)"
   ]
  },
  {
   "cell_type": "code",
   "execution_count": 90,
   "id": "7800cef3",
   "metadata": {},
   "outputs": [
    {
     "data": {
      "image/png": "[encoded data removed]",
      "text/plain": [
       "<Figure size 800x500 with 1 Axes>"
      ]
     },
     "metadata": {},
     "output_type": "display_data"
    },
    {
     "data": {
      "image/png": "[encoded data removed]",
      "text/plain": [
       "<Figure size 800x500 with 1 Axes>"
      ]
     },
     "metadata": {},
     "output_type": "display_data"
    }
   ],
   "source": [
    "model = CategoricalDiffusionModel(10, 4, 192).to(device)\n",
    "loss = []\n",
    "model, loss = trainCatModel(model, loader, 200, transformer, loss)"
   ]
  },
  {
   "cell_type": "code",
   "execution_count": 91,
   "id": "55671f05",
   "metadata": {},
   "outputs": [
    {
     "name": "stdout",
     "output_type": "stream",
     "text": [
      "Generated 81 truth tables. 419 circuits weren't used\n"
     ]
    },
    {
     "data": {
      "image/png": "[encoded data removed]",
      "text/plain": [
       "<Figure size 500x500 with 25 Axes>"
      ]
     },
     "metadata": {},
     "output_type": "display_data"
    }
   ],
   "source": [
    "t, a, h = GenerateAndSimulate(model, loss, amount=500, plotResults=True)"
   ]
  },
  {
   "cell_type": "markdown",
   "id": "151bb474",
   "metadata": {},
   "source": [
    "Something i want to point out. In the above there were 81 of 500 circuits accepted. In the model trained on few samples, it had about ~8 circuits. This is a lot better."
   ]
  },
  {
   "cell_type": "code",
   "execution_count": 99,
   "id": "4b5669c7",
   "metadata": {},
   "outputs": [
    {
     "data": {
      "image/png": "[encoded data removed]",
      "text/plain": [
       "<Figure size 200x200 with 1 Axes>"
      ]
     },
     "metadata": {},
     "output_type": "display_data"
    }
   ],
   "source": [
    "# Does the model geenrate circuits that match their labels?\n",
    "\n",
    "testLabel = torch.tensor([\n",
    "    [\n",
    "        [0, 0, 2, 2, 2, 2, 2, 2, 0, 2, 2, 2 ],\n",
    "        [1, 0, 2, 2, 2, 2, 2, 2, 0, 2, 2, 2 ],\n",
    "        [0, 1, 2, 2, 2, 2, 2, 2, 0, 2, 2, 2 ],\n",
    "        [1, 1, 2, 2, 2, 2, 2, 2, 1, 2, 2, 2 ],\n",
    "    ]])\n",
    "testLabel = transformer(testLabel).to(device)\n",
    "\n",
    "testCircuit = torch.randint(size=(1, 4, 10, 10), high = 1, low = 0, device=device ) \n",
    "inferenceSteps = torch.linspace(scheduler.TrainSteps-1, 1, scheduler.TrainSteps, device='cpu').long()\n",
    "\n",
    "for t in inferenceSteps:\n",
    "    residual_cond = model(testCircuit.to(device).float(), t, testLabel.float()) \n",
    "    residual = F.softmax(residual_cond, dim=1)\n",
    "    testCircuit = scheduler.addNoise(residual.to('cpu'), t - 1).float()\n",
    "testCircuit = F.softmax(model(testCircuit.to(device), 0, testLabel), dim=1)\n",
    "\n",
    "outCircuit = torch.argmax(testCircuit, dim=1, keepdim=True).cpu().numpy().squeeze()\n",
    "\n",
    "printCircuit(outCircuit)"
   ]
  },
  {
   "cell_type": "markdown",
   "id": "04d9cc09",
   "metadata": {},
   "source": [
    "Not generating the right circuit \n",
    "\n",
    "Not using the right sockets"
   ]
  },
  {
   "cell_type": "code",
   "execution_count": 111,
   "id": "d131079c",
   "metadata": {},
   "outputs": [
    {
     "data": {
      "image/png": "[encoded data removed]",
      "text/plain": [
       "<Figure size 500x500 with 25 Axes>"
      ]
     },
     "metadata": {},
     "output_type": "display_data"
    }
   ],
   "source": [
    "# Does the model geenrate circuits that match their labels?\n",
    "\n",
    "testLabel = torch.tensor([\n",
    "        [0, 0, 2, 2, 2, 2, 2, 2, 0, 2, 2, 2 ],\n",
    "        [1, 0, 2, 2, 2, 2, 2, 2, 0, 2, 2, 2 ],\n",
    "        [0, 1, 2, 2, 2, 2, 2, 2, 0, 2, 2, 2 ],\n",
    "        [1, 1, 2, 2, 2, 2, 2, 2, 1, 2, 2, 2 ],\n",
    "    ])\n",
    "testLabel = testLabel.repeat((25, 1, 1))  \n",
    "testLabel = transformer(testLabel).to(device)\n",
    "testCircuit = torch.randint(size=(25, 4, 10, 10), high = 1, low = 0, device=device ) \n",
    "inferenceSteps = torch.linspace(scheduler.TrainSteps-1, 1, scheduler.TrainSteps, device='cpu').long()\n",
    "\n",
    "for t in inferenceSteps:\n",
    "    residual_cond = model(testCircuit.to(device).float(), t, testLabel.float()) \n",
    "    residual = F.softmax(residual_cond, dim=1)\n",
    "    testCircuit = scheduler.addNoise(residual.to('cpu'), t - 1).float()\n",
    "testCircuit = F.softmax(model(testCircuit.to(device), 0, testLabel), dim=1)\n",
    "\n",
    "outCircuit = torch.argmax(testCircuit, dim=1, keepdim=True).cpu().numpy().squeeze()\n",
    "\n",
    "print25(outCircuit)"
   ]
  }
 ],
 "metadata": {
  "kernelspec": {
   "display_name": "venv (3.10.6)",
   "language": "python",
   "name": "python3"
  },
  "language_info": {
   "codemirror_mode": {
    "name": "ipython",
    "version": 3
   },
   "file_extension": ".py",
   "mimetype": "text/x-python",
   "name": "python",
   "nbconvert_exporter": "python",
   "pygments_lexer": "ipython3",
   "version": "3.10.6"
  }
 },
 "nbformat": 4,
 "nbformat_minor": 5
}
