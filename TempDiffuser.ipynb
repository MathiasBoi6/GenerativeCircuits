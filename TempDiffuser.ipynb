{
 "cells": [
  {
   "cell_type": "code",
   "execution_count": 1,
   "id": "028d0e7f",
   "metadata": {},
   "outputs": [],
   "source": [
    "import torch\n",
    "import torch.nn as nn\n",
    "from CircuitSimulation.CircuitSimulator import *\n",
    "import numpy as np\n",
    "from diffusers import UNet2DConditionModel\n",
    "import torch.optim as optim\n",
    "import torch.nn.functional as F\n",
    "import matplotlib.pyplot as plt\n",
    "from torch.utils.data import TensorDataset, DataLoader, Dataset\n",
    "from IPython.display import display, clear_output\n",
    "from matplotlib.colors import ListedColormap\n",
    "import hashlib\n",
    "from itertools import combinations\n",
    "from tqdm import tqdm\n",
    "import random\n",
    "from collections import defaultdict\n",
    "import os\n",
    "import pickle"
   ]
  },
  {
   "cell_type": "code",
   "execution_count": 27,
   "id": "593accbf",
   "metadata": {},
   "outputs": [],
   "source": [
    "InitialCicuits = torch.tensor([\n",
    "    [\n",
    "                [1, 1, 1, 1, 0, 0, 0, 0, 0, 0, 0, 0, 0],\n",
    "        [0, 0, 0, 1, 0, 0, 0, 0, 0, 0, 0, 0, 0],\n",
    "        [0, 0, 0, 1, 0, 0, 0, 0, 0, 0, 0, 0, 0],\n",
    "        [0, 0, 0, 1, 0, 0, 0, 0, 0, 0, 0, 0, 0],\n",
    "        [1, 1, 0, 1, 0, 0, 0, 1, 1, 1, 1, 1, 1],\n",
    "        [0, 1, 0, 1, 0, 0, 1, 1, 0, 0, 0, 0, 0],\n",
    "        [0, 1, 1, 2, 1, 1, 1, 0, 0, 0, 0, 0, 0],\n",
    "        [0, 0, 0, 0, 0, 0, 0, 0, 0, 0, 0, 0, 0],\n",
    "        [0, 0, 0, 0, 0, 0, 0, 0, 0, 0, 0, 0, 0],\n",
    "        [0, 0, 0, 0, 0, 0, 0, 0, 0, 0, 0, 0, 0],\n",
    "        [0, 0, 0, 0, 0, 0, 0, 0, 0, 0, 0, 0, 0],\n",
    "        [0, 0, 0, 0, 0, 0, 0, 0, 0, 0, 0, 0, 0],\n",
    "        [0, 0, 0, 0, 0, 0, 0, 0, 0, 0, 0, 0, 0],\n",
    "    ],\n",
    "])\n"
   ]
  },
  {
   "cell_type": "code",
   "execution_count": 28,
   "id": "d9793b50",
   "metadata": {},
   "outputs": [],
   "source": [
    "\n",
    "def imageToProbabilities(image, numCategories):\n",
    "    # The categorical scheduler expects each channel to describe the probability of a pixel being of that class\n",
    "    # Therefore, a RawCircuit, with one channel, needs to be expanded to have numCategories channels\n",
    "\n",
    "    bs, h, w = image.shape\n",
    "    \n",
    "    imageProbabilites = torch.zeros(bs, numCategories, h, w)\n",
    "    for b in range(bs):\n",
    "        for i in range(h):\n",
    "            for j in range(w):\n",
    "                pixelClass = image[b, i, j]\n",
    "                imageProbabilites[b, pixelClass, i, j] = 1.0\n",
    "\n",
    "    return imageProbabilites\n"
   ]
  },
  {
   "cell_type": "code",
   "execution_count": 29,
   "id": "813c845a",
   "metadata": {},
   "outputs": [
    {
     "name": "stdout",
     "output_type": "stream",
     "text": [
      "Using device: cuda\n"
     ]
    }
   ],
   "source": [
    "# Set up scheduler\n",
    "\n",
    "class CategoricalScheduler:\n",
    "    def __init__(self, TrainSteps = 200, numCategories = 4, betaStart = 0.0001, betaEnd = 0.02):\n",
    "        self.TrainSteps = TrainSteps\n",
    "        self.noiseDevice = 'cpu'\n",
    "        self.numCategories = numCategories\n",
    "\n",
    "        self.betas = torch.linspace(betaStart, betaEnd, TrainSteps, device=self.noiseDevice)\n",
    "        self.alphas = 1.0 - self.betas\n",
    "        self.alpha_cumprod = torch.cumprod(self.alphas, dim=0)\n",
    "\n",
    "    def addNoise(self, imageBatch, time):\n",
    "        bs, ch, w, h = imageBatch.shape\n",
    "\n",
    "        with torch.no_grad():\n",
    "            alpha_t = self.alpha_cumprod[time].view(-1, 1, 1, 1) # Translates shape (1,) -> (1, 1, 1, 1)\n",
    "\n",
    "            # the per pixel probability distribution of the categories\n",
    "            currentProbabilities = imageBatch\n",
    "\n",
    "            # The chance of each state per pixel when noised            \n",
    "            updatedProbabilities = currentProbabilities * alpha_t + (1 - alpha_t) / self.numCategories \n",
    "            updatedProbabilities = updatedProbabilities.permute(0, 2, 3, 1) # reshape such that it is flattened correctly below\n",
    "            updatedProbabilities = updatedProbabilities.reshape(bs*w*h, self.numCategories)  \n",
    "            \n",
    "\n",
    "            # 1 Sample per value\n",
    "            categoricalNoise = torch.multinomial(updatedProbabilities, 1, replacement=True)\n",
    "            categoricalNoise = categoricalNoise.view(bs, w, h) # Shape: [bs, w, h]\n",
    "\n",
    "            noisedImages = F.one_hot(categoricalNoise, num_classes=self.numCategories)\n",
    "            noisedImages = noisedImages.permute(0, 3, 1, 2) # [bs, num_classes, w, h]\n",
    "\n",
    "            return noisedImages\n",
    "\n",
    "scheduler = CategoricalScheduler()\n",
    "\n",
    "device = 'cuda' if torch.cuda.is_available() else 'cpu'\n",
    "print(f'Using device: {device}')"
   ]
  },
  {
   "cell_type": "code",
   "execution_count": 30,
   "id": "b34f064d",
   "metadata": {},
   "outputs": [],
   "source": [
    "def printCircuit(circuit):\n",
    "    cmap = ListedColormap(['white', 'black', 'red', 'blue'])\n",
    "    fig, ax = plt.subplots(figsize=(2, 2))\n",
    "\n",
    "    ax.set_xticks([])\n",
    "    ax.set_yticks([])\n",
    "    ax.imshow(circuit, cmap=cmap, interpolation='nearest', vmin=0, vmax=3)\n",
    "    plt.tight_layout()\n",
    "    plt.show()"
   ]
  },
  {
   "cell_type": "code",
   "execution_count": 31,
   "id": "465c3dc6",
   "metadata": {},
   "outputs": [],
   "source": [
    "tcir = imageToProbabilities(InitialCicuits, 4)"
   ]
  },
  {
   "cell_type": "code",
   "execution_count": 32,
   "id": "339a9c57",
   "metadata": {},
   "outputs": [
    {
     "data": {
      "image/png": "[encoded data removed]",
      "text/plain": [
       "<Figure size 1000x1000 with 10 Axes>"
      ]
     },
     "metadata": {},
     "output_type": "display_data"
    }
   ],
   "source": [
    "diffuseSteps = torch.linspace(0, scheduler.TrainSteps-1, 10, device='cpu').long()\n",
    "\n",
    "diffuseList = []\n",
    "for t in diffuseSteps:\n",
    "    diffuseList.append(torch.argmax(scheduler.addNoise(tcir, t), dim=1).squeeze())\n",
    "\n",
    "\n",
    "cmap = ListedColormap(['white', 'black', 'red', 'blue'])\n",
    "fig, ax = plt.subplots(1, 10, figsize=(10, 10))\n",
    "\n",
    "\n",
    "for idx, ax in enumerate(ax.flat):\n",
    "    ax.imshow(diffuseList[idx], cmap=cmap, vmin=0, vmax=3)\n",
    "    ax.set_xticks([])\n",
    "    ax.set_yticks([])\n",
    "    ax.set_title(f\"Step {diffuseSteps[idx]}\")\n",
    "\n",
    "plt.tight_layout()\n",
    "plt.show()"
   ]
  },
  {
   "cell_type": "code",
   "execution_count": null,
   "id": "ba0c4c62",
   "metadata": {},
   "outputs": [],
   "source": []
  }
 ],
 "metadata": {
  "kernelspec": {
   "display_name": "venv (3.10.6)",
   "language": "python",
   "name": "python3"
  },
  "language_info": {
   "codemirror_mode": {
    "name": "ipython",
    "version": 3
   },
   "file_extension": ".py",
   "mimetype": "text/x-python",
   "name": "python",
   "nbconvert_exporter": "python",
   "pygments_lexer": "ipython3",
   "version": "3.10.6"
  }
 },
 "nbformat": 4,
 "nbformat_minor": 5
}
