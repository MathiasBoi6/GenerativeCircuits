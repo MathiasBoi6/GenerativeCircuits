{
 "cells": [
  {
   "cell_type": "code",
   "execution_count": 18,
   "metadata": {},
   "outputs": [],
   "source": [
    "import numpy as np # Do simulation in numpy to avoid accidentally carrying gradients\n",
    "import re\n"
   ]
  },
  {
   "cell_type": "code",
   "execution_count": 2,
   "metadata": {},
   "outputs": [],
   "source": [
    "# A CA rule which takes 'benzene' and registers it as a transistor\n",
    "# A rule which takes square and removes them. Maybe remove a random part of them?\n",
    "# Rule which states a wire must have a specifc shape.\n",
    "# Rule that a wire mustn't be lonely."
   ]
  },
  {
   "cell_type": "code",
   "execution_count": 3,
   "metadata": {},
   "outputs": [
    {
     "data": {
      "text/plain": [
       "(8, 8)"
      ]
     },
     "execution_count": 3,
     "metadata": {},
     "output_type": "execute_result"
    }
   ],
   "source": [
    "sampleImg = np.array(\n",
    "    [\n",
    "        [0, 1, 1, 1, 1, 1, 0, 0],\n",
    "        [1, 1, 1, 0, 0, 1, 0, 0],\n",
    "        [0, 0, 0, 0, 0, 1, 0, 0],\n",
    "        [0, 0, 0, 0, 1, 1, 1, 1],\n",
    "        [0, 0, 0, 0, 1, 0, 1, 1],\n",
    "        [1, 1, 1, 1, 1, 1, 1, 0],\n",
    "        [0, 0, 0, 0, 0, 0, 0, 0],\n",
    "        [0, 0, 0, 0, 0, 0, 0, 0],\n",
    "    ]\n",
    ")\n",
    "sampleImg.shape"
   ]
  },
  {
   "cell_type": "code",
   "execution_count": 4,
   "metadata": {},
   "outputs": [
    {
     "data": {
      "text/plain": [
       "array([[0, 0, 0, 0, 0, 0, 0, 0],\n",
       "       [0, 0, 0, 0, 0, 0, 0, 0],\n",
       "       [0, 0, 0, 0, 0, 0, 0, 0],\n",
       "       [0, 0, 0, 0, 1, 1, 1, 0],\n",
       "       [0, 0, 0, 0, 1, 1, 1, 0],\n",
       "       [0, 0, 0, 0, 1, 1, 1, 0],\n",
       "       [0, 0, 0, 0, 0, 0, 0, 0],\n",
       "       [0, 0, 0, 0, 0, 0, 0, 0]])"
      ]
     },
     "execution_count": 4,
     "metadata": {},
     "output_type": "execute_result"
    }
   ],
   "source": [
    "\n",
    "\n",
    "transistorKernel = np.array(\n",
    "    [\n",
    "        [1, 1, 1],\n",
    "        [1, 0, 1],\n",
    "        [1, 1, 1],\n",
    "    ]\n",
    ")\n",
    "\n",
    "nullKernel = np.array(\n",
    "    [\n",
    "        [0, 0, 0],\n",
    "        [0, 0, 0],\n",
    "        [0, 0, 0],\n",
    "    ]\n",
    ")\n",
    "\n",
    "anyKernel =  np.array(\n",
    "    [\n",
    "        [1, 1, 1],\n",
    "        [1, 1, 1],\n",
    "        [1, 1, 1],\n",
    "    ]\n",
    ")\n",
    "\n",
    "\n",
    "def AnyRule(kernel, region):\n",
    "    return np.any(region * kernel)\n",
    "\n",
    "def MatchRule(kernel, region):\n",
    "    return np.array_equal(region, kernel)\n",
    "\n",
    "def ApplyCA(input, kernel, rule):\n",
    "    padddedInput = np.pad(input, 1, mode='constant')\n",
    "\n",
    "    outputArray = np.zeros_like(input)\n",
    "\n",
    "    for i in range(input.shape[0]):\n",
    "        for j in range(input.shape[1]):\n",
    "            region = padddedInput[i:i+3, j:j+3]\n",
    "            outputArray[i][j] = rule(region, kernel)\n",
    "\n",
    "    return outputArray\n",
    "\n",
    "ApplyCA(ApplyCA(sampleImg, transistorKernel, MatchRule), anyKernel, AnyRule)"
   ]
  },
  {
   "cell_type": "code",
   "execution_count": 5,
   "metadata": {},
   "outputs": [
    {
     "data": {
      "text/plain": [
       "array([[0, 1, 1, 1, 1, 1, 0, 0],\n",
       "       [1, 1, 1, 0, 0, 1, 0, 0],\n",
       "       [0, 0, 0, 0, 0, 1, 0, 0],\n",
       "       [0, 0, 0, 0, 0, 0, 0, 1],\n",
       "       [0, 0, 0, 0, 0, 0, 0, 1],\n",
       "       [1, 1, 1, 1, 0, 0, 0, 0],\n",
       "       [0, 0, 0, 0, 0, 0, 0, 0],\n",
       "       [0, 0, 0, 0, 0, 0, 0, 0]])"
      ]
     },
     "execution_count": 5,
     "metadata": {},
     "output_type": "execute_result"
    }
   ],
   "source": [
    "transitorImg = ApplyCA(ApplyCA(sampleImg, transistorKernel, MatchRule), anyKernel, AnyRule)\n",
    "wireImg = (sampleImg - transitorImg).clip(0, 1)\n",
    "wireImg"
   ]
  },
  {
   "cell_type": "code",
   "execution_count": 6,
   "metadata": {},
   "outputs": [
    {
     "data": {
      "text/plain": [
       "array([[0, 1, 1, 1, 1, 1, 0, 0],\n",
       "       [1, 1, 1, 0, 0, 1, 0, 0],\n",
       "       [0, 0, 0, 0, 0, 1, 0, 0],\n",
       "       [0, 0, 0, 0, 0, 0, 0, 2],\n",
       "       [0, 0, 0, 0, 0, 0, 0, 2],\n",
       "       [3, 3, 3, 3, 0, 0, 0, 0],\n",
       "       [0, 0, 0, 0, 0, 0, 0, 0],\n",
       "       [0, 0, 0, 0, 0, 0, 0, 0]], dtype=object)"
      ]
     },
     "execution_count": 6,
     "metadata": {},
     "output_type": "execute_result"
    }
   ],
   "source": [
    "# I want to test\n",
    "# 2 inputs on left,\n",
    "# 1 output on right,\n",
    "# 1 transistor generated.\n",
    "\n",
    "# Wires can be calculated as a disjoint set, such that connections only require one calculation.\n",
    "\n",
    "def WireSets(WireImage):\n",
    "    connections = np.full_like(WireImage, None, dtype=object) \n",
    "    WireImage = np.pad(WireImage, pad_width=((1, 0), (1, 0)), mode='constant') # This is only padded to avoid index out of bounds errors.\n",
    "\n",
    "    def TraceSetEnd(position, newParent):\n",
    "        # Traces the connections until it reaches an element pointing to itself (the end)\n",
    "        # Each value iterated over in the process have their parent set to the end value.\n",
    "        \n",
    "        while connections[position] is not newParent:\n",
    "            nextPosition = connections[position]\n",
    "            connections[position] = newParent\n",
    "            position = nextPosition\n",
    "\n",
    "    # Create disjoint sets of connected wires\n",
    "    for i in range(connections.shape[0]):\n",
    "        for j in range(connections.shape[1]):\n",
    "            if WireImage[i + 1, j + 1] == 1: # If current pixel has a wire\n",
    "                # Check left and up for connections\n",
    "                \n",
    "                if WireImage[i, j + 1] == 1: # and the pixel to the left has a wire\n",
    "                    connections[i, j] = connections[i - 1, j]\n",
    "                    if WireImage[i + 1, j] == 1: # if both left and up have a wire, set up to use left as parent.\n",
    "                        TraceSetEnd((i, j - 1), connections[i, j])\n",
    "                elif WireImage[i + 1, j] == 1: # or the pixel above has a wire\n",
    "                    connections[i, j] = connections[i, j - 1]\n",
    "                else: # If no connections found, set as set containing self\n",
    "                    connections[i, j] = (i, j)\n",
    "\n",
    "    def TraceSet(position):\n",
    "        # This should be changed to set values during travel as a dynamic programming approach.\n",
    "        while position is not connections[position]:\n",
    "            position = connections[position]\n",
    "        \n",
    "        return position\n",
    "\n",
    "    connectionDict = {}\n",
    "    setCount = 0\n",
    "    connectionMap = np.zeros_like(connections)\n",
    "    for i in range(connections.shape[0]):\n",
    "        for j in range(connections.shape[1]):\n",
    "            if connections[i, j] is not None:\n",
    "                setRepressentative = TraceSet(connections[i, j])\n",
    "\n",
    "                if setRepressentative not in connectionDict:\n",
    "                    setCount += 1\n",
    "                    connectionDict[setRepressentative] = setCount\n",
    "\n",
    "                connectionMap[i, j] = connectionDict[setRepressentative]\n",
    "\n",
    "    return connectionMap, setCount\n",
    "\n",
    "outWireSets, outCount = WireSets(wireImg)\n",
    "outWireSets"
   ]
  },
  {
   "cell_type": "code",
   "execution_count": 7,
   "metadata": {},
   "outputs": [],
   "source": [
    "# Ok, now i have a good model for the circuit simulation.\n",
    "# How should i simulate it?\n",
    "# I think the transistor map isn't that useful, i should change it to just return a list of transistor positions.\n",
    "#  No, wait. It is useful, if only for removing wires.\n",
    "# Because what i want is\n",
    "# Map -> list of components and connections -> output"
   ]
  },
  {
   "cell_type": "code",
   "execution_count": 8,
   "metadata": {},
   "outputs": [],
   "source": [
    "# For each component socket\n",
    "# Query the connection map for what it is connected to\n",
    "\n",
    "# This has to result in a new dictionary\n",
    "# wireSet -> connectedCompoenents\n",
    "# This set can then be translated to\n",
    "# connectedCompoennets -> per Component socket, other sockets that can be reached."
   ]
  },
  {
   "cell_type": "code",
   "execution_count": 9,
   "metadata": {},
   "outputs": [
    {
     "data": {
      "text/plain": [
       "array([[0, 1, 1, 1, 1, 1, 0, 0],\n",
       "       [1, 1, 1, 0, 0, 1, 0, 0],\n",
       "       [0, 0, 0, 0, 0, 1, 0, 0],\n",
       "       [0, 0, 0, 0, 4, 4, 4, 2],\n",
       "       [0, 0, 0, 0, 4, 4, 4, 2],\n",
       "       [3, 3, 3, 3, 4, 4, 4, 0],\n",
       "       [0, 0, 0, 0, 0, 0, 0, 0],\n",
       "       [0, 0, 0, 0, 0, 0, 0, 0]], dtype=object)"
      ]
     },
     "execution_count": 9,
     "metadata": {},
     "output_type": "execute_result"
    }
   ],
   "source": [
    "# Perhaps model transistors as having single pixel sockets\n",
    "\n",
    "#These are in y, x coordinates. That is annoying. What did i do.\n",
    "outSockets = [(1,0), (5,0), (4, 7)]\n",
    "inSockets = [(4, 3), (3, 7), (2,5), (6, 5)]\n",
    "\n",
    "testOut = outWireSets.copy()\n",
    "# for pos in inSockets:\n",
    "#     testOut[pos] = 9\n",
    "\n",
    "\n",
    "testOut + (transitorImg)* (outCount + 1)"
   ]
  },
  {
   "cell_type": "code",
   "execution_count": 10,
   "metadata": {},
   "outputs": [
    {
     "data": {
      "text/plain": [
       "[(4, 5)]"
      ]
     },
     "execution_count": 10,
     "metadata": {},
     "output_type": "execute_result"
    }
   ],
   "source": [
    "# I want to have transistors as defined by their center\n",
    "def GetCAApplication(input, kernel, rule):\n",
    "    padddedInput = np.pad(input, 1, mode='constant')\n",
    "\n",
    "    matchList = []\n",
    "    for i in range(input.shape[0]):\n",
    "        for j in range(input.shape[1]):\n",
    "            region = padddedInput[i:i+3, j:j+3]\n",
    "            if rule(region, kernel) == 1:\n",
    "                matchList.append((i,j))\n",
    "\n",
    "    return matchList\n",
    "\n",
    "transistors = GetCAApplication(sampleImg, transistorKernel, MatchRule)\n",
    "transistors"
   ]
  },
  {
   "cell_type": "code",
   "execution_count": 11,
   "metadata": {},
   "outputs": [],
   "source": [
    "# When quereing an array index outside of bounds, returns default value.\n",
    "class SafeGrid:\n",
    "    def __init__(self, grid, default=False):\n",
    "        self.grid = grid\n",
    "        self.default = default\n",
    "\n",
    "    def __getitem__(self, index):\n",
    "        y, x = index\n",
    "        if 0 <= y < len(self.grid) and 0 <= x < len(self.grid[0]):\n",
    "            return self.grid[y][x]\n",
    "        return self.default\n",
    "    \n",
    "safeWires = SafeGrid(outWireSets)"
   ]
  },
  {
   "cell_type": "code",
   "execution_count": 12,
   "metadata": {},
   "outputs": [
    {
     "data": {
      "text/plain": [
       "([], [1], [2])"
      ]
     },
     "execution_count": 12,
     "metadata": {},
     "output_type": "execute_result"
    }
   ],
   "source": [
    "\n",
    "ComponentConnections = {}\n",
    "\n",
    "\n",
    "def addConnectionUtil(wireSet):\n",
    "    return lambda lst, y, x: lst.append(wireSet[y, x]) if wireSet[y, x] else None\n",
    "\n",
    "def TransistorConnections(wireSet, transistor): \n",
    "    # transistor (y: int, x: int)\n",
    "    # wireSet should be 2d SafeGrid\n",
    "    y, x = transistor\n",
    "\n",
    "    base = []\n",
    "    collector = []\n",
    "    emitter = []\n",
    "\n",
    "    addConnection = addConnectionUtil(wireSet)\n",
    "\n",
    "    if wireSet[y, x - 2]:\n",
    "        addConnection(base, y, x - 2)\n",
    "\n",
    "    if wireSet[y - 2, x]:\n",
    "        addConnection(collector, y-2, x)\n",
    "    if wireSet[y + 2, x]:\n",
    "        addConnection(collector, y + 2, x)\n",
    "    \n",
    "    if wireSet[y, x + 2]:\n",
    "        addConnection(emitter, y, x + 2)\n",
    "\n",
    "    return base, collector, emitter\n",
    "\n",
    "testTransistor = TransistorConnections(safeWires, transistors[0])\n",
    "testTransistor"
   ]
  },
  {
   "cell_type": "code",
   "execution_count": 13,
   "metadata": {},
   "outputs": [
    {
     "name": "stdout",
     "output_type": "stream",
     "text": [
      "{'inp0': [1], 'inp1': [3]}\n",
      "{'out0': [2]}\n"
     ]
    }
   ],
   "source": [
    "inpSources = [(1, 0), (5, 0)] \n",
    "outSources = [(3, 7)]\n",
    "\n",
    "def pointConnections(wireSet, point):\n",
    "    y, x = point\n",
    "    connections = []\n",
    "    addConnection = addConnectionUtil(wireSet)\n",
    "\n",
    "    potentialConnections = [(y-1, x), (y+1, x), (y, x-1), (y, x+1)]\n",
    "    for yy, xx in potentialConnections:\n",
    "        addConnection(connections, yy, xx)\n",
    "\n",
    "    return connections\n",
    "\n",
    "\n",
    "inpConnections = {f'inp{index}': pointConnections(safeWires, source) for index, source in enumerate(inpSources)}\n",
    "outConnections = {f'out{index}': pointConnections(safeWires, source) for index, source in enumerate(outSources)}\n",
    "\n",
    "print(inpConnections)\n",
    "print(outConnections)\n"
   ]
  },
  {
   "cell_type": "code",
   "execution_count": 14,
   "metadata": {},
   "outputs": [
    {
     "data": {
      "text/plain": [
       "{1: ['inp0', 'trans0collector'], 3: ['inp1'], 2: ['out0', 'trans0emitter']}"
      ]
     },
     "execution_count": 14,
     "metadata": {},
     "output_type": "execute_result"
    }
   ],
   "source": [
    "connectionMap = {}\n",
    "\n",
    "def addToMap(map, key, name):\n",
    "    if key not in map:\n",
    "        map[key] = []\n",
    "    map[key].append(name)\n",
    "\n",
    "for index, inp in enumerate(inpConnections.keys()):\n",
    "    for con in inpConnections[inp]:\n",
    "        addToMap(connectionMap, con, 'inp' + str(index))\n",
    "\n",
    "for index, out in enumerate(outConnections):\n",
    "    for con in outConnections[out]:\n",
    "        addToMap(connectionMap, con, 'out' + str(index))\n",
    "\n",
    "transistorList = [testTransistor]\n",
    "\n",
    "for index, transistor in enumerate(transistorList):\n",
    "    base, collector, emitter = transistor\n",
    "\n",
    "    for con in base:\n",
    "        addToMap(connectionMap, con, 'trans' + str(index) + 'base')\n",
    "    for con in collector:\n",
    "        addToMap(connectionMap, con, 'trans' + str(index) + 'collector')\n",
    "    for con in emitter:\n",
    "        addToMap(connectionMap, con, 'trans' + str(index) + 'emitter')\n",
    "\n",
    "connectionMap"
   ]
  },
  {
   "cell_type": "code",
   "execution_count": 15,
   "metadata": {},
   "outputs": [
    {
     "name": "stdout",
     "output_type": "stream",
     "text": [
      "{'inp0': [1], 'inp1': [3], 'out0': [2], 'trans0': ([], [1], [2])}\n"
     ]
    }
   ],
   "source": [
    "#transistorList = [testTransistor]\n",
    "\n",
    "transistorDict = {\n",
    "    'trans0': testTransistor\n",
    "}\n",
    "\n",
    "\n",
    "testComponentMap = {**inpConnections, **outConnections, **transistorDict}\n",
    "print(testComponentMap)"
   ]
  },
  {
   "cell_type": "code",
   "execution_count": 28,
   "metadata": {},
   "outputs": [
    {
     "data": {
      "text/plain": [
       "True"
      ]
     },
     "execution_count": 28,
     "metadata": {},
     "output_type": "execute_result"
    }
   ],
   "source": [
    "bool(True + (1 != 1))"
   ]
  },
  {
   "cell_type": "code",
   "execution_count": null,
   "metadata": {},
   "outputs": [
    {
     "ename": "IndentationError",
     "evalue": "expected an indented block after function definition on line 24 (3342593995.py, line 36)",
     "output_type": "error",
     "traceback": [
      "\u001b[1;36m  Cell \u001b[1;32mIn[16], line 36\u001b[1;36m\u001b[0m\n\u001b[1;33m    def isSource(component):\u001b[0m\n\u001b[1;37m    ^\u001b[0m\n\u001b[1;31mIndentationError\u001b[0m\u001b[1;31m:\u001b[0m expected an indented block after function definition on line 24\n"
     ]
    }
   ],
   "source": [
    "#def SimulateCircuit(circuit, operationOrder)\n",
    "# ^This should contain all the subfuncitons\n",
    "\n",
    "testOrder1 = ['inp0', 'inp1']\n",
    "testOrder2 = ['inp0', 'inp1', 'inp1']\n",
    "\n",
    "\n",
    "def getComponentId(component):\n",
    "    match = re.match(r\"([a-zA-Z]+)(\\d*)([a-zA-Z]*)\", component)\n",
    "    if match:\n",
    "        return match.groups() # prefix, comp_id, comp_type\n",
    "    return None, None, None\n",
    "\n",
    "#Component recives signals\n",
    "def isSink(component):\n",
    "    prefix, comp_id, comp_type =getComponentId(component)\n",
    "    if prefix == \"out\" or comp_type == \"base\" or comp_type == \"collector\":\n",
    "        return True\n",
    "    return False\n",
    "\n",
    "#Component emits signals\n",
    "def isSource(component):\n",
    "    prefix, comp_id, comp_type =getComponentId(component)\n",
    "    if prefix == \"inp\" or comp_type == \"emitter\":\n",
    "        return True\n",
    "    return False\n",
    "\n",
    "\n",
    "# Update is always flipping state of a source/emitter component.\n",
    "def UpdateCircuitSource(connectionMap, componentMap, stateDict, source, depth):\n",
    "    if (depth > 20):\n",
    "        raise f\"Maximum recursion depth of {depth} exceeded\"\n",
    "    \n",
    "    # Update state of component\n",
    "    stateDict[source] = not stateDict[source]\n",
    "\n",
    "    for connection in componentMap[source]:\n",
    "        componentsToUpdate = [component for component in connectionMap[connection] if isSink(source)]\n",
    "\n",
    "        if not stateDict[source]:\n",
    "            # When source is turned off\n",
    "            wireSources = [component for component in connectionMap[connection] if not isSink(source)]\n",
    "\n",
    "            if not any(stateDict[source] for source in wireSources):\n",
    "                #If there is no source that is emitting a signal on the wireSet,\n",
    "                # update connected components\n",
    "\n",
    "                updateQueue = set() # Set of sources that are to be flipped.\n",
    "                for component in componentsToUpdate:\n",
    "                    stateDict[component] = False\n",
    "\n",
    "                    prefix, comp_id, comp_type = getComponentId(component)\n",
    "\n",
    "                    if prefix == 'trans':\n",
    "                        # When either base or collector is off, turn off emitter (given that it is on)\n",
    "                        if stateDict[prefix + comp_id + 'emitter']:\n",
    "                            updateQueue.add(prefix + comp_id + 'emitter')\n",
    "\n",
    "                for component in updateQueue:\n",
    "                    stateDict = UpdateCircuitSource(connectionMap, componentMap, stateDict, component, depth + 1)\n",
    "        else:\n",
    "            # When source is turned on\n",
    "            updateQueue = set() # Set of sources that are to be flipped.\n",
    "            for component in componentsToUpdate:\n",
    "                stateDict[component] = True\n",
    "\n",
    "                prefix, comp_id, comp_type = getComponentId(component)\n",
    "\n",
    "                if prefix == 'trans':\n",
    "                    if (stateDict[prefix + comp_id + 'base'] * stateDict[prefix + comp_id + 'collector']):\n",
    "                        if not stateDict[prefix + comp_id + 'emitter']:\n",
    "                            updateQueue.add(prefix + comp_id + 'emitter')\n",
    "            \n",
    "            for component in updateQueue:\n",
    "                stateDict = UpdateCircuitSource(connectionMap, componentMap, stateDict, component, depth + 1)\n",
    "\n",
    "    return stateDict\n",
    "\n",
    "\n",
    "\n",
    "\n",
    "\n",
    "def simulate(connectionMap, componentMap, operationOrder):\n",
    "    #Return values of output?\n",
    "    # What is a valid operation order? I was thinking something like x1on, x2on, y1on, x2off, y1off\n",
    "    # But maybe it is enough descibing the inputs, and then returning the output. \n",
    "    # For the AI to tell that the output should have been turned on in between the end, maybe it should be conditioned on multiple orders.\n",
    "\n",
    "    #Fisrt, get circuit state from componentMap\n",
    "    stateDict = {}\n",
    "    for key, value in componentMap.items():\n",
    "        if isinstance(value, tuple): # If it is a transistor\n",
    "            stateDict[key] = (False, False, False)\n",
    "        else: \n",
    "            stateDict[key] = False\n",
    "\n",
    "\n",
    "    def getComponentId(component):\n",
    "        match = re.match(r\"([a-zA-Z]+)(\\d*)([a-zA-Z]*)\", component)\n",
    "        if match:\n",
    "            return match.groups() # prefix, comp_id, comp_type\n",
    "        return None, None, None\n",
    "\n",
    "    #Component recives signals\n",
    "    def isSink(component):\n",
    "        prefix, comp_id, comp_type =getComponentId(component)\n",
    "        if prefix == \"out\" or comp_type == \"base\" or comp_type == \"collector\":\n",
    "            return True\n",
    "        return False\n",
    "    \n",
    "    #Component emits signals\n",
    "    def isSource(component):\n",
    "        prefix, comp_id, comp_type =getComponentId(component)\n",
    "        if prefix == \"inp\" or comp_type == \"emitter\":\n",
    "            return True\n",
    "        return False\n",
    "\n",
    "\n",
    "    #Problem, is this guranteed to ever end - No it is not. Can i add a fail safe? like recursion depth mustn't be longer than n steps.\n",
    "    #simulate single order\n",
    "    for order in operationOrder:\n",
    "        # First, flip the order input\n",
    "        stateDict[order] = not stateDict[order]\n",
    "\n",
    "        for connection in componentMap[order]:\n",
    "            for component in connectionMap[connection]:\n",
    "                ...\n",
    "\n",
    "\n",
    "    ...\n",
    "\n",
    "simulate(connectionMap, testComponentMap, testOrder1)"
   ]
  },
  {
   "cell_type": "code",
   "execution_count": 17,
   "metadata": {},
   "outputs": [
    {
     "name": "stdout",
     "output_type": "stream",
     "text": [
      "{'inp0': [1], 'inp1': [3], 'out0': [2], 'trans0': ([], [1], [2])}\n",
      "{1: ['inp0', 'trans0collector'], 3: ['inp1'], 2: ['out0', 'trans0emitter']}\n"
     ]
    }
   ],
   "source": [
    "print(testComponentMap)\n",
    "print(connectionMap)"
   ]
  }
 ],
 "metadata": {
  "kernelspec": {
   "display_name": "venv (3.10.6)",
   "language": "python",
   "name": "python3"
  },
  "language_info": {
   "codemirror_mode": {
    "name": "ipython",
    "version": 3
   },
   "file_extension": ".py",
   "mimetype": "text/x-python",
   "name": "python",
   "nbconvert_exporter": "python",
   "pygments_lexer": "ipython3",
   "version": "3.10.6"
  }
 },
 "nbformat": 4,
 "nbformat_minor": 2
}
