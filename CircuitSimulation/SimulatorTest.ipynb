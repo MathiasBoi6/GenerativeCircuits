{
 "cells": [
  {
   "cell_type": "code",
   "execution_count": 2,
   "metadata": {},
   "outputs": [],
   "source": [
    "import numpy as np # Do simulation in numpy to avoid accidentally carrying gradients\n",
    "\n"
   ]
  },
  {
   "cell_type": "code",
   "execution_count": null,
   "metadata": {},
   "outputs": [],
   "source": [
    "# A CA rule which takes 'benzene' and registers it as a transistor\n",
    "# A rule which takes square and removes them. Maybe remove a random part of them?\n",
    "# Rule which states a wire must have a specifc shape.\n",
    "# Rule that a wire mustn't be lonely."
   ]
  },
  {
   "cell_type": "code",
   "execution_count": 9,
   "metadata": {},
   "outputs": [
    {
     "data": {
      "text/plain": [
       "(8, 8)"
      ]
     },
     "execution_count": 9,
     "metadata": {},
     "output_type": "execute_result"
    }
   ],
   "source": [
    "sampleImg = np.array(\n",
    "    [\n",
    "        [0, 1, 1, 1, 1, 1, 0, 0],\n",
    "        [1, 1, 1, 0, 0, 1, 0, 0],\n",
    "        [0, 0, 0, 0, 0, 1, 0, 0],\n",
    "        [0, 0, 0, 0, 1, 1, 1, 1],\n",
    "        [0, 0, 0, 0, 1, 0, 1, 1],\n",
    "        [1, 1, 1, 1, 1, 1, 1, 0],\n",
    "        [0, 0, 0, 0, 0, 0, 0, 0],\n",
    "        [0, 0, 0, 0, 0, 0, 0, 0],\n",
    "    ]\n",
    ")\n",
    "sampleImg.shape"
   ]
  },
  {
   "cell_type": "code",
   "execution_count": null,
   "metadata": {},
   "outputs": [
    {
     "data": {
      "text/plain": [
       "array([[0, 0, 0, 0, 0, 0, 0, 0],\n",
       "       [0, 0, 0, 0, 0, 0, 0, 0],\n",
       "       [0, 0, 0, 0, 0, 0, 0, 0],\n",
       "       [0, 0, 0, 0, 1, 1, 1, 0],\n",
       "       [0, 0, 0, 0, 1, 1, 1, 0],\n",
       "       [0, 0, 0, 0, 1, 1, 1, 0],\n",
       "       [0, 0, 0, 0, 0, 0, 0, 0],\n",
       "       [0, 0, 0, 0, 0, 0, 0, 0]])"
      ]
     },
     "execution_count": 29,
     "metadata": {},
     "output_type": "execute_result"
    }
   ],
   "source": [
    "\n",
    "\n",
    "transistorKernel = np.array(\n",
    "    [\n",
    "        [1, 1, 1],\n",
    "        [1, 0, 1],\n",
    "        [1, 1, 1],\n",
    "    ]\n",
    ")\n",
    "\n",
    "nullKernel = np.array(\n",
    "    [\n",
    "        [0, 0, 0],\n",
    "        [0, 0, 0],\n",
    "        [0, 0, 0],\n",
    "    ]\n",
    ")\n",
    "\n",
    "anyKernel =  np.array(\n",
    "    [\n",
    "        [1, 1, 1],\n",
    "        [1, 1, 1],\n",
    "        [1, 1, 1],\n",
    "    ]\n",
    ")\n",
    "\n",
    "\n",
    "def AnyRule(kernel, region):\n",
    "    return np.any(region * kernel)\n",
    "\n",
    "def MatchRule(kernel, region):\n",
    "    return np.array_equal(region, kernel)\n",
    "\n",
    "def ApplyCA(input, kernel, rule):\n",
    "    padddedInput = np.pad(input, 1, mode='constant')\n",
    "\n",
    "    outputArray = np.zeros_like(input)\n",
    "\n",
    "    for i in range(input.shape[0]):\n",
    "        for j in range(input.shape[1]):\n",
    "            region = padddedInput[i:i+3, j:j+3]\n",
    "            outputArray[i][j] = rule(region, kernel)\n",
    "\n",
    "    return outputArray\n",
    "\n",
    "ApplyCA(ApplyCA(sampleImg, transistorKernel, MatchRule), anyKernel, AnyRule)"
   ]
  },
  {
   "cell_type": "code",
   "execution_count": 32,
   "metadata": {},
   "outputs": [
    {
     "data": {
      "text/plain": [
       "array([[0, 1, 1, 1, 1, 1, 0, 0],\n",
       "       [1, 1, 1, 0, 0, 1, 0, 0],\n",
       "       [0, 0, 0, 0, 0, 1, 0, 0],\n",
       "       [0, 0, 0, 0, 0, 0, 0, 1],\n",
       "       [0, 0, 0, 0, 0, 0, 0, 1],\n",
       "       [1, 1, 1, 1, 0, 0, 0, 0],\n",
       "       [0, 0, 0, 0, 0, 0, 0, 0],\n",
       "       [0, 0, 0, 0, 0, 0, 0, 0]])"
      ]
     },
     "execution_count": 32,
     "metadata": {},
     "output_type": "execute_result"
    }
   ],
   "source": [
    "transitorImg = ApplyCA(ApplyCA(sampleImg, transistorKernel, MatchRule), anyKernel, AnyRule)\n",
    "wireImg = (sampleImg - transitorImg).clip(0, 1)\n",
    "wireImg"
   ]
  },
  {
   "cell_type": "code",
   "execution_count": 55,
   "metadata": {},
   "outputs": [
    {
     "data": {
      "text/plain": [
       "array([[0, 1, 1, 1, 1, 1, 0, 0],\n",
       "       [1, 1, 1, 0, 0, 1, 0, 0],\n",
       "       [0, 0, 0, 0, 0, 1, 0, 0],\n",
       "       [0, 0, 0, 0, 0, 0, 0, 2],\n",
       "       [0, 0, 0, 0, 0, 0, 0, 2],\n",
       "       [3, 3, 3, 3, 0, 0, 0, 0],\n",
       "       [0, 0, 0, 0, 0, 0, 0, 0],\n",
       "       [0, 0, 0, 0, 0, 0, 0, 0]], dtype=object)"
      ]
     },
     "execution_count": 55,
     "metadata": {},
     "output_type": "execute_result"
    }
   ],
   "source": [
    "# I want to test\n",
    "# 2 inputs on left,\n",
    "# 1 output on right,\n",
    "# 1 transistor generated.\n",
    "\n",
    "# Wires can be calculated as a disjoint set, such that connections only require one calculation.\n",
    "\n",
    "def WireSets(WireImage):\n",
    "    connections = np.full_like(WireImage, None, dtype=object) \n",
    "    WireImage = np.pad(WireImage, pad_width=((1, 0), (1, 0)), mode='constant') # This is only padded to avoid index out of bounds errors.\n",
    "\n",
    "    def TraceSetEnd(position, newParent):\n",
    "        # Traces the connections until it reaches an element pointing to itself (the end)\n",
    "        # Each value iterated over in the process have their parent set to the end value.\n",
    "        \n",
    "        while connections[position] is not newParent:\n",
    "            nextPosition = connections[position]\n",
    "            connections[position] = newParent\n",
    "            position = nextPosition\n",
    "\n",
    "    # Create disjoint sets of connected wires\n",
    "    for i in range(connections.shape[0]):\n",
    "        for j in range(connections.shape[1]):\n",
    "            if WireImage[i + 1, j + 1] == 1: # If current pixel has a wire\n",
    "                # Check left and up for connections\n",
    "                \n",
    "                if WireImage[i, j + 1] == 1: # and the pixel to the left has a wire\n",
    "                    connections[i, j] = connections[i - 1, j]\n",
    "                    if WireImage[i + 1, j] == 1: # if both left and up have a wire, set up to use left as parent.\n",
    "                        TraceSetEnd((i, j - 1), connections[i, j])\n",
    "                elif WireImage[i + 1, j] == 1: # or the pixel above has a wire\n",
    "                    connections[i, j] = connections[i, j - 1]\n",
    "                else: # If no connections found, set as set containing self\n",
    "                    connections[i, j] = (i, j)\n",
    "\n",
    "    def TraceSet(position):\n",
    "        # This should be changed to set values during travel as a dynamic programming approach.\n",
    "        while position is not connections[position]:\n",
    "            position = connections[position]\n",
    "        \n",
    "        return position\n",
    "\n",
    "    connectionDict = {}\n",
    "    setCount = 0\n",
    "    connectionMap = np.zeros_like(connections)\n",
    "    for i in range(connections.shape[0]):\n",
    "        for j in range(connections.shape[1]):\n",
    "            if connections[i, j] is not None:\n",
    "                setRepressentative = TraceSet(connections[i, j])\n",
    "\n",
    "                if setRepressentative not in connectionDict:\n",
    "                    setCount += 1\n",
    "                    connectionDict[setRepressentative] = setCount\n",
    "\n",
    "                connectionMap[i, j] = connectionDict[setRepressentative]\n",
    "\n",
    "    return connectionMap \n",
    "\n",
    "WireSets(wireImg)"
   ]
  },
  {
   "cell_type": "code",
   "execution_count": 53,
   "metadata": {},
   "outputs": [
    {
     "name": "stdout",
     "output_type": "stream",
     "text": [
      "[None (0, 1) (0, 1) (0, 1) (0, 1) (0, 1) None None]\n",
      "[(0, 1) (0, 1) (0, 1) None None (0, 1) None None]\n",
      "[None None None None None (0, 1) None None]\n",
      "[None None None None None None None (3, 7)]\n",
      "[None None None None None None None (3, 7)]\n",
      "[(5, 0) (5, 0) (5, 0) (5, 0) None None None None]\n",
      "[None None None None None None None None]\n",
      "[None None None None None None None None]\n"
     ]
    }
   ],
   "source": [
    "for position in testOut:\n",
    "    print(position)"
   ]
  },
  {
   "cell_type": "code",
   "execution_count": null,
   "metadata": {},
   "outputs": [],
   "source": [
    "# Ok, now i have a good model for the circuit simulation.\n",
    "# How should i simulate it?\n",
    "# I think the transistor map isn't that useful, i should change it to just return a list of transistor positions.\n",
    "#  No, wait. It is useful, if only for removing wires.\n",
    "# Because what i want is\n",
    "# Map -> list of components and connections -> output"
   ]
  },
  {
   "cell_type": "code",
   "execution_count": null,
   "metadata": {},
   "outputs": [],
   "source": [
    "# For each component socket\n",
    "# Query the connection map for what it is connected to\n",
    "\n",
    "# This has to result in a new dictionary\n",
    "# wireSet -> connectedCompoenents\n",
    "# This set can then be translated to\n",
    "# connectedCompoennets -> per Component socket, other sockets that can be reached."
   ]
  },
  {
   "cell_type": "code",
   "execution_count": null,
   "metadata": {},
   "outputs": [],
   "source": [
    "# Perhaps model transistors as having single pixel sockets\n",
    "\n",
    "#These are in y, x coordinates. That is annoying. What did i do.\n",
    "outSockets = [(0,1), (5,0), (4, 7)]\n",
    "inSockets = [(4, 3), (3, 7), (2,5), (6, 5)]\n"
   ]
  }
 ],
 "metadata": {
  "kernelspec": {
   "display_name": "venv (3.10.6)",
   "language": "python",
   "name": "python3"
  },
  "language_info": {
   "codemirror_mode": {
    "name": "ipython",
    "version": 3
   },
   "file_extension": ".py",
   "mimetype": "text/x-python",
   "name": "python",
   "nbconvert_exporter": "python",
   "pygments_lexer": "ipython3",
   "version": "3.10.6"
  }
 },
 "nbformat": 4,
 "nbformat_minor": 2
}
