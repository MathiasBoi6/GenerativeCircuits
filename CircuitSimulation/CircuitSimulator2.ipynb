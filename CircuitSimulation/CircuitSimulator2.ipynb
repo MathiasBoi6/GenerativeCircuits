{
 "cells": [
  {
   "cell_type": "code",
   "execution_count": 1,
   "metadata": {},
   "outputs": [],
   "source": [
    "%reload_ext autoreload\n",
    "%autoreload 2"
   ]
  },
  {
   "cell_type": "code",
   "execution_count": 42,
   "metadata": {},
   "outputs": [
    {
     "name": "stdout",
     "output_type": "stream",
     "text": [
      "{inp0: {1}, inp1: {3}, out0: {2}, NAND0base: {3}, NAND0collector: {1}, NAND0emitter: {2}}\n"
     ]
    },
    {
     "data": {
      "text/plain": [
       "[(inp0, False), (inp1, False), (out0, True)]"
      ]
     },
     "execution_count": 42,
     "metadata": {},
     "output_type": "execute_result"
    }
   ],
   "source": [
    "from CircuitSimulation.CircuitSimulator import *\n",
    "import numpy as np\n",
    "\n",
    "\n",
    "sampleImg = np.array(\n",
    "    [\n",
    "        [0, 1, 1, 1, 1, 1, 0, 0],\n",
    "        [1, 1, 1, 0, 0, 1, 0, 0],\n",
    "        [0, 0, 0, 0, 0, 1, 0, 0],\n",
    "        [0, 0, 0, 0, 0, 1, 0, 1],\n",
    "        [0, 0, 0, 1, 1, 3, 1, 1],\n",
    "        [1, 1, 1, 1, 0, 0, 0, 0],\n",
    "        [0, 0, 0, 0, 0, 0, 0, 0],\n",
    "        [0, 0, 0, 0, 0, 0, 0, 0],\n",
    "    ]\n",
    ")\n",
    "\n",
    "socket1 = Socket(\"inp0\", True)\n",
    "socket2 = Socket(\"inp1\", True)\n",
    "socket3 = Socket(\"out0\", False)\n",
    "\n",
    "socketList = [\n",
    "    (socket1, (0, 1)), \n",
    "    (socket2, (0, 5)), \n",
    "    (socket3, (7, 3)),  \n",
    "    ]\n",
    "\n",
    "socketMap = GetSocketMap(sampleImg, socketList)\n",
    "connectionMap = GetConnectionMap(socketMap)\n",
    "print(socketMap)\n",
    "\n",
    "testOrder1 = []\n",
    "Simulate(connectionMap, socketMap, testOrder1)\n"
   ]
  },
  {
   "cell_type": "code",
   "execution_count": 27,
   "metadata": {},
   "outputs": [
    {
     "data": {
      "text/plain": [
       "{()}"
      ]
     },
     "execution_count": 27,
     "metadata": {},
     "output_type": "execute_result"
    }
   ],
   "source": [
    "testSet = set()\n",
    "testSet.add(())\n",
    "testSet"
   ]
  },
  {
   "cell_type": "code",
   "execution_count": 31,
   "metadata": {},
   "outputs": [
    {
     "data": {
      "text/plain": [
       "False"
      ]
     },
     "execution_count": 31,
     "metadata": {},
     "output_type": "execute_result"
    }
   ],
   "source": [
    "bool(False * False)"
   ]
  }
 ],
 "metadata": {
  "kernelspec": {
   "display_name": "venv (3.10.6)",
   "language": "python",
   "name": "python3"
  },
  "language_info": {
   "codemirror_mode": {
    "name": "ipython",
    "version": 3
   },
   "file_extension": ".py",
   "mimetype": "text/x-python",
   "name": "python",
   "nbconvert_exporter": "python",
   "pygments_lexer": "ipython3",
   "version": "3.10.6"
  }
 },
 "nbformat": 4,
 "nbformat_minor": 2
}
