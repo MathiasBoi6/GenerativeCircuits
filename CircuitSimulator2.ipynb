{
 "cells": [
  {
   "cell_type": "code",
   "execution_count": null,
   "metadata": {},
   "outputs": [],
   "source": [
    "%reload_ext autoreload\n",
    "%autoreload 2"
   ]
  },
  {
   "cell_type": "code",
   "execution_count": null,
   "metadata": {},
   "outputs": [
    {
     "name": "stdout",
     "output_type": "stream",
     "text": [
      "[[0 1 2 3 3 3 4 0 5 0]\n",
      " [6 1 0 3 3 3 4 5 5 5]\n",
      " [0 0 3 3 3 3 4 5 5 5]\n",
      " [7 8 3 3 3 3 4 0 5 5]\n",
      " [7 8 0 3 0 0 0 0 0 0]\n",
      " [7 8 0 3 9 9 10 11 11 0]\n",
      " [7 8 0 0 0 0 10 11 11 12]\n",
      " [7 0 13 14 15 16 10 0 11 0]\n",
      " [7 17 13 0 15 0 0 11 11 11]\n",
      " [0 17 13 0 0 18 19 11 11 11]]\n",
      "{inp0: {1, 6}, inp1: {8, 7}, inp2: {8, 7}, inp3: {17, 7}, out0: {5}, out1: {5}, out2: {11}, out3: {11}, NAND0base: {1}, NAND0collector: set(), NAND0emitter: {3}, AND1base: {3}, AND1collector: {3}, AND1emitter: {3}, AND2base: {3}, AND2collector: {4}, AND2emitter: set(), NAND3base: set(), NAND3collector: {5}, NAND3emitter: set(), NAND4base: set(), NAND4collector: set(), NAND4emitter: {1}, AND5base: {6}, AND5collector: {1}, AND5emitter: set(), NAND6base: set(), NAND6collector: {3}, NAND6emitter: {3}, NAND7base: {3}, NAND7collector: {3}, NAND7emitter: {3}, AND8base: {3}, AND8collector: {4}, AND8emitter: {5}, AND9base: set(), AND9collector: {3}, AND9emitter: {3}, NAND10base: {3}, NAND10collector: {4}, NAND10emitter: {5}, NAND11base: {4}, NAND11collector: {5}, NAND11emitter: {5}, NAND12base: {5}, NAND12collector: {5}, NAND12emitter: set(), AND13base: set(), AND13collector: {7}, AND13emitter: {8}, AND14base: {7}, AND14collector: {8}, AND14emitter: {3}, AND15base: {3}, AND15collector: {3}, AND15emitter: {4}, NAND16base: {3}, NAND16collector: {4}, NAND16emitter: set(), NAND17base: {5}, NAND17collector: {5}, NAND17emitter: set(), NAND18base: {7}, NAND18collector: {8}, NAND18emitter: set(), NAND19base: set(), NAND19collector: {7}, NAND19emitter: {8}, AND20base: set(), AND20collector: {3}, AND20emitter: {9}, NAND21base: {9}, NAND21collector: {10}, NAND21emitter: {11}, NAND22base: set(), NAND22collector: {7}, NAND22emitter: {8}, AND23base: {7}, AND23collector: {8}, AND23emitter: set(), NAND24base: set(), NAND24collector: {10}, NAND24emitter: {11}, AND25base: {11}, AND25collector: {11}, AND25emitter: {12}, NAND26base: {11}, NAND26collector: set(), NAND26emitter: set(), AND27base: set(), AND27collector: {7}, AND27emitter: set(), NAND28base: {13}, NAND28collector: set(), NAND28emitter: {15}, NAND29base: {14}, NAND29collector: {15}, NAND29emitter: {16}, AND30base: {15}, AND30collector: set(), AND30emitter: {10}, AND31base: set(), AND31collector: {11}, AND31emitter: set(), AND32base: set(), AND32collector: {7}, AND32emitter: {17}, NAND33base: {7}, NAND33collector: {17}, NAND33emitter: {13}, AND34base: {17}, AND34collector: {13}, AND34emitter: set(), AND35base: set(), AND35collector: {15}, AND35emitter: set(), AND36base: {11}, AND36collector: {11}, AND36emitter: {11}, NAND37base: set(), NAND37collector: {17}, NAND37emitter: {13}, AND38base: {17}, AND38collector: {13}, AND38emitter: set(), NAND39base: set(), NAND39collector: set(), NAND39emitter: {19}, NAND40base: {18}, NAND40collector: set(), NAND40emitter: {11}}\n",
      "0 source: NAND0base\n",
      "1 source: NAND0emitter\n",
      "2 source: NAND16emitter\n",
      "2 source: NAND6emitter\n",
      "3 source: AND1emitter\n",
      "4 source: NAND10emitter\n",
      "5 source: NAND17emitter\n",
      "5 source: NAND3emitter\n",
      "5 source: NAND11emitter\n",
      "6 source: NAND17emitter\n",
      "5 source: NAND12emitter\n",
      "4 source: AND15emitter\n",
      "5 source: NAND16emitter\n",
      "5 source: NAND11emitter\n",
      "5 source: AND2emitter\n",
      "5 source: NAND10emitter\n",
      "6 source: NAND17emitter\n",
      "6 source: NAND11emitter\n",
      "7 source: NAND17emitter\n",
      "7 source: NAND11emitter\n",
      "8 source: NAND17emitter\n",
      "8 source: NAND11emitter\n",
      "9 source: NAND17emitter\n",
      "9 source: NAND11emitter\n",
      "10 source: NAND17emitter\n",
      "10 source: NAND11emitter\n",
      "11 source: NAND17emitter\n",
      "11 source: NAND11emitter\n",
      "12 source: NAND17emitter\n",
      "12 source: NAND11emitter\n",
      "13 source: NAND17emitter\n",
      "13 source: NAND11emitter\n",
      "14 source: NAND17emitter\n",
      "14 source: NAND11emitter\n",
      "15 source: NAND17emitter\n",
      "15 source: NAND11emitter\n",
      "16 source: NAND17emitter\n",
      "16 source: NAND11emitter\n",
      "17 source: NAND17emitter\n",
      "17 source: NAND11emitter\n",
      "18 source: NAND17emitter\n",
      "18 source: NAND11emitter\n",
      "19 source: NAND17emitter\n",
      "19 source: NAND11emitter\n",
      "20 source: NAND17emitter\n",
      "20 source: NAND11emitter\n",
      "21 source: NAND17emitter\n",
      "21 source: NAND11emitter\n",
      "22 source: NAND17emitter\n",
      "22 source: NAND11emitter\n",
      "23 source: NAND17emitter\n",
      "23 source: NAND11emitter\n",
      "24 source: NAND17emitter\n",
      "24 source: NAND11emitter\n",
      "25 source: NAND17emitter\n",
      "25 source: NAND11emitter\n",
      "26 source: NAND17emitter\n",
      "26 source: NAND11emitter\n",
      "27 source: NAND17emitter\n",
      "27 source: NAND11emitter\n",
      "28 source: NAND17emitter\n",
      "28 source: NAND11emitter\n",
      "29 source: NAND17emitter\n",
      "29 source: NAND11emitter\n",
      "30 source: NAND17emitter\n",
      "30 source: NAND11emitter\n",
      "31 source: NAND17emitter\n",
      "31 source: NAND11emitter\n",
      "32 source: NAND17emitter\n",
      "32 source: NAND11emitter\n",
      "33 source: NAND17emitter\n",
      "33 source: NAND11emitter\n",
      "34 source: NAND17emitter\n",
      "34 source: NAND11emitter\n",
      "35 source: NAND17emitter\n",
      "35 source: NAND11emitter\n",
      "36 source: NAND17emitter\n",
      "36 source: NAND11emitter\n",
      "37 source: NAND17emitter\n",
      "37 source: NAND11emitter\n",
      "38 source: NAND17emitter\n",
      "38 source: NAND11emitter\n",
      "39 source: NAND17emitter\n",
      "39 source: NAND11emitter\n",
      "40 source: NAND17emitter\n",
      "40 source: NAND11emitter\n",
      "41 source: NAND17emitter\n",
      "41 source: NAND11emitter\n",
      "42 source: NAND17emitter\n",
      "42 source: NAND11emitter\n",
      "43 source: NAND17emitter\n",
      "43 source: NAND11emitter\n",
      "44 source: NAND17emitter\n",
      "44 source: NAND11emitter\n",
      "45 source: NAND17emitter\n",
      "45 source: NAND11emitter\n",
      "46 source: NAND17emitter\n",
      "46 source: NAND11emitter\n",
      "47 source: NAND17emitter\n",
      "47 source: NAND11emitter\n",
      "48 source: NAND17emitter\n",
      "48 source: NAND11emitter\n",
      "49 source: NAND17emitter\n",
      "49 source: NAND11emitter\n",
      "50 source: NAND17emitter\n",
      "50 source: NAND11emitter\n",
      "51 source: NAND17emitter\n"
     ]
    },
    {
     "ename": "Exception",
     "evalue": "Maximum recursion depth of 51 exceeded",
     "output_type": "error",
     "traceback": [
      "\u001b[1;31m---------------------------------------------------------------------------\u001b[0m",
      "\u001b[1;31mException\u001b[0m                                 Traceback (most recent call last)",
      "Cell \u001b[1;32mIn[7], line 38\u001b[0m\n\u001b[0;32m     35\u001b[0m \u001b[38;5;28mprint\u001b[39m(socketMap)\n\u001b[0;32m     37\u001b[0m order \u001b[38;5;241m=\u001b[39m [inpSockets[i] \u001b[38;5;28;01mfor\u001b[39;00m i \u001b[38;5;129;01min\u001b[39;00m (\u001b[38;5;241m0\u001b[39m, \u001b[38;5;241m1\u001b[39m)]\n\u001b[1;32m---> 38\u001b[0m \u001b[43mSimulate\u001b[49m\u001b[43m(\u001b[49m\u001b[43mconnectionMap\u001b[49m\u001b[43m,\u001b[49m\u001b[43m \u001b[49m\u001b[43msocketMap\u001b[49m\u001b[43m,\u001b[49m\u001b[43m \u001b[49m\u001b[43morder\u001b[49m\u001b[43m)\u001b[49m\n",
      "File \u001b[1;32mc:\\Mine\\Master\\MyNca\\CircuitSimulation\\CircuitSimulator.py:294\u001b[0m, in \u001b[0;36mSimulate\u001b[1;34m(connectionMap, socketMap, operationOrder)\u001b[0m\n\u001b[0;32m    291\u001b[0m     prefix, \u001b[38;5;28mid\u001b[39m, comp_type \u001b[38;5;241m=\u001b[39m socket\u001b[38;5;241m.\u001b[39mname\n\u001b[0;32m    293\u001b[0m     \u001b[38;5;28;01mif\u001b[39;00m prefix \u001b[38;5;241m==\u001b[39m \u001b[38;5;124m'\u001b[39m\u001b[38;5;124mNAND\u001b[39m\u001b[38;5;124m'\u001b[39m \u001b[38;5;129;01mand\u001b[39;00m \u001b[38;5;129;01mnot\u001b[39;00m socket\u001b[38;5;241m.\u001b[39mstate:\n\u001b[1;32m--> 294\u001b[0m         \u001b[43mUpdateCircuitSource\u001b[49m\u001b[43m(\u001b[49m\u001b[43mconnectionMap\u001b[49m\u001b[43m,\u001b[49m\u001b[43m \u001b[49m\u001b[43msocketMap\u001b[49m\u001b[43m,\u001b[49m\u001b[43m \u001b[49m\u001b[43msocket\u001b[49m\u001b[43m,\u001b[49m\u001b[43m \u001b[49m\u001b[38;5;241;43m0\u001b[39;49m\u001b[43m)\u001b[49m\n\u001b[0;32m    296\u001b[0m \u001b[38;5;28mprint\u001b[39m(\u001b[38;5;124m\"\u001b[39m\u001b[38;5;124mStarting simulation...\u001b[39m\u001b[38;5;124m\"\u001b[39m)\n\u001b[0;32m    298\u001b[0m \u001b[38;5;28;01mfor\u001b[39;00m order \u001b[38;5;129;01min\u001b[39;00m operationOrder:\n",
      "File \u001b[1;32mc:\\Mine\\Master\\MyNca\\CircuitSimulation\\CircuitSimulator.py:282\u001b[0m, in \u001b[0;36mUpdateCircuitSource\u001b[1;34m(connectionMap, socketMap, source, depth)\u001b[0m\n\u001b[0;32m    279\u001b[0m             updateQueue\u001b[38;5;241m.\u001b[39madd(getSocket(prefix \u001b[38;5;241m+\u001b[39m comp_id \u001b[38;5;241m+\u001b[39m \u001b[38;5;124m'\u001b[39m\u001b[38;5;124memitter\u001b[39m\u001b[38;5;124m'\u001b[39m, socketMap))\n\u001b[0;32m    281\u001b[0m \u001b[38;5;28;01mfor\u001b[39;00m socket \u001b[38;5;129;01min\u001b[39;00m updateQueue:\n\u001b[1;32m--> 282\u001b[0m     \u001b[43mUpdateCircuitSource\u001b[49m\u001b[43m(\u001b[49m\u001b[43mconnectionMap\u001b[49m\u001b[43m,\u001b[49m\u001b[43m \u001b[49m\u001b[43msocketMap\u001b[49m\u001b[43m,\u001b[49m\u001b[43m \u001b[49m\u001b[43msocket\u001b[49m\u001b[43m,\u001b[49m\u001b[43m \u001b[49m\u001b[43mdepth\u001b[49m\u001b[43m \u001b[49m\u001b[38;5;241;43m+\u001b[39;49m\u001b[43m \u001b[49m\u001b[38;5;241;43m1\u001b[39;49m\u001b[43m)\u001b[49m\n",
      "File \u001b[1;32mc:\\Mine\\Master\\MyNca\\CircuitSimulation\\CircuitSimulator.py:282\u001b[0m, in \u001b[0;36mUpdateCircuitSource\u001b[1;34m(connectionMap, socketMap, source, depth)\u001b[0m\n\u001b[0;32m    279\u001b[0m             updateQueue\u001b[38;5;241m.\u001b[39madd(getSocket(prefix \u001b[38;5;241m+\u001b[39m comp_id \u001b[38;5;241m+\u001b[39m \u001b[38;5;124m'\u001b[39m\u001b[38;5;124memitter\u001b[39m\u001b[38;5;124m'\u001b[39m, socketMap))\n\u001b[0;32m    281\u001b[0m \u001b[38;5;28;01mfor\u001b[39;00m socket \u001b[38;5;129;01min\u001b[39;00m updateQueue:\n\u001b[1;32m--> 282\u001b[0m     \u001b[43mUpdateCircuitSource\u001b[49m\u001b[43m(\u001b[49m\u001b[43mconnectionMap\u001b[49m\u001b[43m,\u001b[49m\u001b[43m \u001b[49m\u001b[43msocketMap\u001b[49m\u001b[43m,\u001b[49m\u001b[43m \u001b[49m\u001b[43msocket\u001b[49m\u001b[43m,\u001b[49m\u001b[43m \u001b[49m\u001b[43mdepth\u001b[49m\u001b[43m \u001b[49m\u001b[38;5;241;43m+\u001b[39;49m\u001b[43m \u001b[49m\u001b[38;5;241;43m1\u001b[39;49m\u001b[43m)\u001b[49m\n",
      "    \u001b[1;31m[... skipping similar frames: UpdateCircuitSource at line 282 (3 times)]\u001b[0m\n",
      "File \u001b[1;32mc:\\Mine\\Master\\MyNca\\CircuitSimulation\\CircuitSimulator.py:263\u001b[0m, in \u001b[0;36mUpdateCircuitSource\u001b[1;34m(connectionMap, socketMap, source, depth)\u001b[0m\n\u001b[0;32m    260\u001b[0m                     updateQueue\u001b[38;5;241m.\u001b[39madd(getSocket(prefix \u001b[38;5;241m+\u001b[39m comp_id \u001b[38;5;241m+\u001b[39m \u001b[38;5;124m'\u001b[39m\u001b[38;5;124memitter\u001b[39m\u001b[38;5;124m'\u001b[39m, socketMap))\n\u001b[0;32m    262\u001b[0m         \u001b[38;5;28;01mfor\u001b[39;00m socket \u001b[38;5;129;01min\u001b[39;00m updateQueue:\n\u001b[1;32m--> 263\u001b[0m             \u001b[43mUpdateCircuitSource\u001b[49m\u001b[43m(\u001b[49m\u001b[43mconnectionMap\u001b[49m\u001b[43m,\u001b[49m\u001b[43m \u001b[49m\u001b[43msocketMap\u001b[49m\u001b[43m,\u001b[49m\u001b[43m \u001b[49m\u001b[43msocket\u001b[49m\u001b[43m,\u001b[49m\u001b[43m \u001b[49m\u001b[43mdepth\u001b[49m\u001b[43m \u001b[49m\u001b[38;5;241;43m+\u001b[39;49m\u001b[43m \u001b[49m\u001b[38;5;241;43m1\u001b[39;49m\u001b[43m)\u001b[49m\n\u001b[0;32m    264\u001b[0m \u001b[38;5;28;01melse\u001b[39;00m:\n\u001b[0;32m    265\u001b[0m     \u001b[38;5;66;03m# When source is turned on\u001b[39;00m\n\u001b[0;32m    266\u001b[0m     updateQueue \u001b[38;5;241m=\u001b[39m \u001b[38;5;28mset\u001b[39m() \u001b[38;5;66;03m# Set of sources that are to be flipped.\u001b[39;00m\n",
      "    \u001b[1;31m[... skipping similar frames: UpdateCircuitSource at line 282 (1 times)]\u001b[0m\n",
      "File \u001b[1;32mc:\\Mine\\Master\\MyNca\\CircuitSimulation\\CircuitSimulator.py:263\u001b[0m, in \u001b[0;36mUpdateCircuitSource\u001b[1;34m(connectionMap, socketMap, source, depth)\u001b[0m\n\u001b[0;32m    260\u001b[0m                     updateQueue\u001b[38;5;241m.\u001b[39madd(getSocket(prefix \u001b[38;5;241m+\u001b[39m comp_id \u001b[38;5;241m+\u001b[39m \u001b[38;5;124m'\u001b[39m\u001b[38;5;124memitter\u001b[39m\u001b[38;5;124m'\u001b[39m, socketMap))\n\u001b[0;32m    262\u001b[0m         \u001b[38;5;28;01mfor\u001b[39;00m socket \u001b[38;5;129;01min\u001b[39;00m updateQueue:\n\u001b[1;32m--> 263\u001b[0m             \u001b[43mUpdateCircuitSource\u001b[49m\u001b[43m(\u001b[49m\u001b[43mconnectionMap\u001b[49m\u001b[43m,\u001b[49m\u001b[43m \u001b[49m\u001b[43msocketMap\u001b[49m\u001b[43m,\u001b[49m\u001b[43m \u001b[49m\u001b[43msocket\u001b[49m\u001b[43m,\u001b[49m\u001b[43m \u001b[49m\u001b[43mdepth\u001b[49m\u001b[43m \u001b[49m\u001b[38;5;241;43m+\u001b[39;49m\u001b[43m \u001b[49m\u001b[38;5;241;43m1\u001b[39;49m\u001b[43m)\u001b[49m\n\u001b[0;32m    264\u001b[0m \u001b[38;5;28;01melse\u001b[39;00m:\n\u001b[0;32m    265\u001b[0m     \u001b[38;5;66;03m# When source is turned on\u001b[39;00m\n\u001b[0;32m    266\u001b[0m     updateQueue \u001b[38;5;241m=\u001b[39m \u001b[38;5;28mset\u001b[39m() \u001b[38;5;66;03m# Set of sources that are to be flipped.\u001b[39;00m\n",
      "    \u001b[1;31m[... skipping similar frames: UpdateCircuitSource at line 282 (21 times), UpdateCircuitSource at line 263 (20 times)]\u001b[0m\n",
      "File \u001b[1;32mc:\\Mine\\Master\\MyNca\\CircuitSimulation\\CircuitSimulator.py:263\u001b[0m, in \u001b[0;36mUpdateCircuitSource\u001b[1;34m(connectionMap, socketMap, source, depth)\u001b[0m\n\u001b[0;32m    260\u001b[0m                     updateQueue\u001b[38;5;241m.\u001b[39madd(getSocket(prefix \u001b[38;5;241m+\u001b[39m comp_id \u001b[38;5;241m+\u001b[39m \u001b[38;5;124m'\u001b[39m\u001b[38;5;124memitter\u001b[39m\u001b[38;5;124m'\u001b[39m, socketMap))\n\u001b[0;32m    262\u001b[0m         \u001b[38;5;28;01mfor\u001b[39;00m socket \u001b[38;5;129;01min\u001b[39;00m updateQueue:\n\u001b[1;32m--> 263\u001b[0m             \u001b[43mUpdateCircuitSource\u001b[49m\u001b[43m(\u001b[49m\u001b[43mconnectionMap\u001b[49m\u001b[43m,\u001b[49m\u001b[43m \u001b[49m\u001b[43msocketMap\u001b[49m\u001b[43m,\u001b[49m\u001b[43m \u001b[49m\u001b[43msocket\u001b[49m\u001b[43m,\u001b[49m\u001b[43m \u001b[49m\u001b[43mdepth\u001b[49m\u001b[43m \u001b[49m\u001b[38;5;241;43m+\u001b[39;49m\u001b[43m \u001b[49m\u001b[38;5;241;43m1\u001b[39;49m\u001b[43m)\u001b[49m\n\u001b[0;32m    264\u001b[0m \u001b[38;5;28;01melse\u001b[39;00m:\n\u001b[0;32m    265\u001b[0m     \u001b[38;5;66;03m# When source is turned on\u001b[39;00m\n\u001b[0;32m    266\u001b[0m     updateQueue \u001b[38;5;241m=\u001b[39m \u001b[38;5;28mset\u001b[39m() \u001b[38;5;66;03m# Set of sources that are to be flipped.\u001b[39;00m\n",
      "File \u001b[1;32mc:\\Mine\\Master\\MyNca\\CircuitSimulation\\CircuitSimulator.py:282\u001b[0m, in \u001b[0;36mUpdateCircuitSource\u001b[1;34m(connectionMap, socketMap, source, depth)\u001b[0m\n\u001b[0;32m    279\u001b[0m             updateQueue\u001b[38;5;241m.\u001b[39madd(getSocket(prefix \u001b[38;5;241m+\u001b[39m comp_id \u001b[38;5;241m+\u001b[39m \u001b[38;5;124m'\u001b[39m\u001b[38;5;124memitter\u001b[39m\u001b[38;5;124m'\u001b[39m, socketMap))\n\u001b[0;32m    281\u001b[0m \u001b[38;5;28;01mfor\u001b[39;00m socket \u001b[38;5;129;01min\u001b[39;00m updateQueue:\n\u001b[1;32m--> 282\u001b[0m     \u001b[43mUpdateCircuitSource\u001b[49m\u001b[43m(\u001b[49m\u001b[43mconnectionMap\u001b[49m\u001b[43m,\u001b[49m\u001b[43m \u001b[49m\u001b[43msocketMap\u001b[49m\u001b[43m,\u001b[49m\u001b[43m \u001b[49m\u001b[43msocket\u001b[49m\u001b[43m,\u001b[49m\u001b[43m \u001b[49m\u001b[43mdepth\u001b[49m\u001b[43m \u001b[49m\u001b[38;5;241;43m+\u001b[39;49m\u001b[43m \u001b[49m\u001b[38;5;241;43m1\u001b[39;49m\u001b[43m)\u001b[49m\n",
      "File \u001b[1;32mc:\\Mine\\Master\\MyNca\\CircuitSimulation\\CircuitSimulator.py:231\u001b[0m, in \u001b[0;36mUpdateCircuitSource\u001b[1;34m(connectionMap, socketMap, source, depth)\u001b[0m\n\u001b[0;32m    229\u001b[0m \u001b[38;5;28mprint\u001b[39m(\u001b[38;5;124mf\u001b[39m\u001b[38;5;124m\"\u001b[39m\u001b[38;5;132;01m{\u001b[39;00mdepth\u001b[38;5;132;01m}\u001b[39;00m\u001b[38;5;124m source: \u001b[39m\u001b[38;5;132;01m{\u001b[39;00msource\u001b[38;5;132;01m}\u001b[39;00m\u001b[38;5;124m\"\u001b[39m)\n\u001b[0;32m    230\u001b[0m \u001b[38;5;28;01mif\u001b[39;00m (depth \u001b[38;5;241m>\u001b[39m \u001b[38;5;241m50\u001b[39m):\n\u001b[1;32m--> 231\u001b[0m     \u001b[38;5;28;01mraise\u001b[39;00m \u001b[38;5;167;01mException\u001b[39;00m(\u001b[38;5;124mf\u001b[39m\u001b[38;5;124m\"\u001b[39m\u001b[38;5;124mMaximum recursion depth of \u001b[39m\u001b[38;5;132;01m{\u001b[39;00mdepth\u001b[38;5;132;01m}\u001b[39;00m\u001b[38;5;124m exceeded\u001b[39m\u001b[38;5;124m\"\u001b[39m)\n\u001b[0;32m    233\u001b[0m \u001b[38;5;66;03m# Update state of component\u001b[39;00m\n\u001b[0;32m    234\u001b[0m source\u001b[38;5;241m.\u001b[39mstate \u001b[38;5;241m=\u001b[39m \u001b[38;5;129;01mnot\u001b[39;00m source\u001b[38;5;241m.\u001b[39mstate\n",
      "\u001b[1;31mException\u001b[0m: Maximum recursion depth of 51 exceeded"
     ]
    }
   ],
   "source": [
    "# this panel tests random noise as a cirtcuit\n",
    "# it has an infinite loop. It should just be disqualified. \n",
    "\n",
    "\n",
    "from CircuitSimulation.CircuitSimulator import *\n",
    "import numpy as np\n",
    "\n",
    "\n",
    "sampleImg = np.array([\n",
    "       [0, 1, 3, 1, 2, 1, 2, 0, 3, 0],\n",
    "       [3, 2, 0, 3, 3, 1, 2, 1, 1, 1],\n",
    "       [0, 0, 2, 1, 1, 1, 3, 3, 1, 3],\n",
    "       [2, 2, 1, 1, 1, 2, 3, 0, 1, 3],\n",
    "       [1, 3, 0, 1, 0, 0, 0, 0, 0, 0],\n",
    "       [3, 1, 0, 2, 1, 1, 3, 1, 1, 0],\n",
    "       [3, 2, 0, 0, 0, 0, 3, 1, 2, 3],\n",
    "       [2, 0, 1, 3, 3, 2, 1, 0, 2, 0],\n",
    "       [2, 3, 2, 0, 2, 0, 0, 1, 2, 1],\n",
    "       [0, 3, 2, 0, 0, 3, 3, 1, 1, 1]])\n",
    "\n",
    "\n",
    "inpSockets = [\n",
    "    (Socket(\"inp0\", True), (0, 0)), \n",
    "    (Socket(\"inp1\", True), (0, 3)), \n",
    "    (Socket(\"inp2\", True), (0, 6)), \n",
    "    (Socket(\"inp3\", True), (0, 9)), \n",
    "]\n",
    "\n",
    "outSockets = [  \n",
    "\t(Socket(\"out0\", False), (9, 0)), \n",
    "    (Socket(\"out1\", False), (9, 3)), \n",
    "    (Socket(\"out2\", False), (9, 6)), \n",
    "    (Socket(\"out3\", False), (9, 9)),\n",
    "]\n",
    "\n",
    "socketMap, WireSets = GetSocketMap(sampleImg, inpSockets + outSockets)\n",
    "print(WireSets)\n",
    "connectionMap = GetConnectionMap(socketMap)\n",
    "print(socketMap)\n",
    "\n",
    "order = [inpSockets[i] for i in (0, 1)]\n",
    "Simulate(connectionMap, socketMap, order)"
   ]
  },
  {
   "cell_type": "markdown",
   "metadata": {},
   "source": [
    "___"
   ]
  },
  {
   "cell_type": "code",
   "execution_count": 42,
   "metadata": {},
   "outputs": [
    {
     "name": "stdout",
     "output_type": "stream",
     "text": [
      "{inp0: {1}, inp1: {3}, out0: {2}, NAND0base: {3}, NAND0collector: {1}, NAND0emitter: {2}}\n"
     ]
    },
    {
     "data": {
      "text/plain": [
       "[(inp0, False), (inp1, False), (out0, True)]"
      ]
     },
     "execution_count": 42,
     "metadata": {},
     "output_type": "execute_result"
    }
   ],
   "source": [
    "from CircuitSimulation.CircuitSimulator import *\n",
    "import numpy as np\n",
    "\n",
    "\n",
    "sampleImg = np.array(\n",
    "    [\n",
    "        [0, 1, 1, 1, 1, 1, 0, 0],\n",
    "        [1, 1, 1, 0, 0, 1, 0, 0],\n",
    "        [0, 0, 0, 0, 0, 1, 0, 0],\n",
    "        [0, 0, 0, 0, 0, 1, 0, 1],\n",
    "        [0, 0, 0, 1, 1, 3, 1, 1],\n",
    "        [1, 1, 1, 1, 0, 0, 0, 0],\n",
    "        [0, 0, 0, 0, 0, 0, 0, 0],\n",
    "        [0, 0, 0, 0, 0, 0, 0, 0],\n",
    "    ]\n",
    ")\n",
    "\n",
    "socket1 = Socket(\"inp0\", True)\n",
    "socket2 = Socket(\"inp1\", True)\n",
    "socket3 = Socket(\"out0\", False)\n",
    "\n",
    "socketList = [\n",
    "    (socket1, (0, 1)), \n",
    "    (socket2, (0, 5)), \n",
    "    (socket3, (7, 3)),  \n",
    "    ]\n",
    "\n",
    "socketMap = GetSocketMap(sampleImg, socketList)\n",
    "connectionMap = GetConnectionMap(socketMap)\n",
    "print(socketMap)\n",
    "\n",
    "testOrder1 = []\n",
    "Simulate(connectionMap, socketMap, testOrder1)\n"
   ]
  },
  {
   "cell_type": "code",
   "execution_count": 27,
   "metadata": {},
   "outputs": [
    {
     "data": {
      "text/plain": [
       "{()}"
      ]
     },
     "execution_count": 27,
     "metadata": {},
     "output_type": "execute_result"
    }
   ],
   "source": [
    "testSet = set()\n",
    "testSet.add(())\n",
    "testSet"
   ]
  },
  {
   "cell_type": "code",
   "execution_count": 31,
   "metadata": {},
   "outputs": [
    {
     "data": {
      "text/plain": [
       "False"
      ]
     },
     "execution_count": 31,
     "metadata": {},
     "output_type": "execute_result"
    }
   ],
   "source": [
    "bool(False * False)"
   ]
  }
 ],
 "metadata": {
  "kernelspec": {
   "display_name": "venv (3.10.6)",
   "language": "python",
   "name": "python3"
  },
  "language_info": {
   "codemirror_mode": {
    "name": "ipython",
    "version": 3
   },
   "file_extension": ".py",
   "mimetype": "text/x-python",
   "name": "python",
   "nbconvert_exporter": "python",
   "pygments_lexer": "ipython3",
   "version": "3.10.6"
  }
 },
 "nbformat": 4,
 "nbformat_minor": 2
}
